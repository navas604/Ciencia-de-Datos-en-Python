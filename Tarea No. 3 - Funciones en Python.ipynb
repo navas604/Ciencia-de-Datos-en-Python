{
  "nbformat": 4,
  "nbformat_minor": 0,
  "metadata": {
    "colab": {
      "name": "Tarea No. 3 - Funciones en Python.ipynb",
      "provenance": [],
      "collapsed_sections": [],
      "authorship_tag": "ABX9TyM+gEIxN5Uzhd/pmjloCPp6",
      "include_colab_link": true
    },
    "kernelspec": {
      "name": "python3",
      "display_name": "Python 3"
    }
  },
  "cells": [
    {
      "cell_type": "markdown",
      "metadata": {
        "id": "view-in-github",
        "colab_type": "text"
      },
      "source": [
        "<a href=\"https://colab.research.google.com/github/navas604/Ciencia-de-Datos-en-Python/blob/main/Tarea%20No.%203%20-%20Funciones%20en%20Python.ipynb\" target=\"_parent\"><img src=\"https://colab.research.google.com/assets/colab-badge.svg\" alt=\"Open In Colab\"/></a>"
      ]
    },
    {
      "cell_type": "markdown",
      "metadata": {
        "id": "5QvJ0xa7q8xJ"
      },
      "source": [
        "# **TAREA No. 3**\n",
        "# **FUNCIONES EN PYTHON**\n",
        "\n",
        "---\n",
        "\n"
      ]
    },
    {
      "cell_type": "markdown",
      "metadata": {
        "id": "GWAAJ_ekrcKL"
      },
      "source": [
        "## Ciencia de Datos en Python\n",
        "## Antonio Everardo Navas Contreras, 14003163\n",
        "\n",
        "---"
      ]
    },
    {
      "cell_type": "markdown",
      "metadata": {
        "id": "wT_CCnJurkf-"
      },
      "source": [
        "### **Definición de funciones en Python**\n",
        "\n",
        "Una función es un bloque de código o grupo de instrucciones, tienen un nombre asociado a ellas, pueden o no recibir argumentos, ejecuta ciertas instrucciones con el propósito de resolver una tarea específica y suele devolver algún resultado.\n",
        "\n",
        "La utilización de funciones nos permite dividir el programa en bloques de código más simples, lo cual nos da la ventaja de mayor facilidad de depuración. Además de dividir el programa, las funciones también nos permiten reutilizarlas cuantas veces necesitemos."
      ]
    },
    {
      "cell_type": "markdown",
      "metadata": {
        "id": "RBerCAHByPL9"
      },
      "source": [
        "Python cuenta ya con funciones definidas para realizar ciertas tareas, pero tambien permite al usuario crear funciones nuevas.\n",
        "\n",
        "Para definir una función en Python, se utiliza la palabra reservada \"***def***\" seguido de un nombre descriptivo de dicha función, después se colocan los parámetros dentro de parentesís, estos parámetros son opcionales, si no se desean utilizar parámetros dentro de la función entonces únicamente se colocan paréntesis vacíos, y por último se finaliza con dos puntos.\n",
        "\n",
        "Después de los dos puntos, en la línea de abajo se inicia con el bloque de código que servira para el objeto de dicha función."
      ]
    },
    {
      "cell_type": "code",
      "metadata": {
        "id": "u2j5F7juzLca"
      },
      "source": [
        "def funcion_sin_parametros():\n",
        "  # Bloque de código\n",
        "  pass"
      ],
      "execution_count": null,
      "outputs": []
    },
    {
      "cell_type": "code",
      "metadata": {
        "id": "fWmwkDeM3m8A"
      },
      "source": [
        "def funcion_con_parametros(parametros):\n",
        "  # Bloque de código\n",
        "  pass"
      ],
      "execution_count": null,
      "outputs": []
    },
    {
      "cell_type": "markdown",
      "metadata": {
        "id": "e44qYmEdzsHB"
      },
      "source": [
        "La defición de funciones no ejecuta el bloque de código del cuerpo, sino hasta que la función es llamada o invocada.\n",
        "\n",
        "Para invocarla basta con escribir el nombre de dicha función, seguida de los parámetros dentro de paréntesis, recordemos que si no se desean utilizar parámetros dentro de la función entonces únicamente se colocan paréntesis vacíos.\n",
        "\n",
        "Los valores cuando se reciben en la definición de la función se llaman parámetros, pero cuando se envían en el llamado de la función se llaman argumentos."
      ]
    },
    {
      "cell_type": "code",
      "metadata": {
        "id": "_3f5YfcI0bxd"
      },
      "source": [
        "funcion_sin_parametros()"
      ],
      "execution_count": null,
      "outputs": []
    },
    {
      "cell_type": "code",
      "metadata": {
        "id": "mTXJWpHQ3u92"
      },
      "source": [
        "funcion_con_parametros(\"parametros\")"
      ],
      "execution_count": null,
      "outputs": []
    },
    {
      "cell_type": "code",
      "metadata": {
        "id": "BqbD0cvA3zRT"
      },
      "source": [
        "funcion_con_parametros(5)"
      ],
      "execution_count": null,
      "outputs": []
    },
    {
      "cell_type": "markdown",
      "metadata": {
        "id": "4KLgpyWW0rD_"
      },
      "source": [
        "La siguiente función se va a definir para que reciba un mensaje como parámetro y lo imprima."
      ]
    },
    {
      "cell_type": "code",
      "metadata": {
        "id": "XVHkdqW40ly7"
      },
      "source": [
        "def ver_mensaje(mensaje):\n",
        "  print(mensaje)"
      ],
      "execution_count": null,
      "outputs": []
    },
    {
      "cell_type": "code",
      "metadata": {
        "colab": {
          "base_uri": "https://localhost:8080/"
        },
        "id": "X9vluSOt1l7_",
        "outputId": "f4359056-f32b-4ade-ea41-3f37b6f13f83"
      },
      "source": [
        "ver_mensaje(\"Hello World\")"
      ],
      "execution_count": null,
      "outputs": [
        {
          "output_type": "stream",
          "text": [
            "Hello World\n"
          ],
          "name": "stdout"
        }
      ]
    },
    {
      "cell_type": "code",
      "metadata": {
        "colab": {
          "base_uri": "https://localhost:8080/"
        },
        "id": "c2xGtwJW1p_O",
        "outputId": "7fe434b7-7622-4f2f-b363-7f53feb6e19d"
      },
      "source": [
        "ver_mensaje(\"Mi nombre es Antonio Navas\")"
      ],
      "execution_count": null,
      "outputs": [
        {
          "output_type": "stream",
          "text": [
            "Mi nombre es Antonio Navas\n"
          ],
          "name": "stdout"
        }
      ]
    },
    {
      "cell_type": "markdown",
      "metadata": {
        "id": "-AEz4hVx3RtH"
      },
      "source": [
        "La siguiente función se va a definir para realizar una operación matemática sin recibir ningún argumento."
      ]
    },
    {
      "cell_type": "code",
      "metadata": {
        "id": "ew2jSKJ71xDu"
      },
      "source": [
        "def math_funcion():\n",
        "  calc = 25 * 100\n",
        "  return(calc)"
      ],
      "execution_count": null,
      "outputs": []
    },
    {
      "cell_type": "code",
      "metadata": {
        "colab": {
          "base_uri": "https://localhost:8080/"
        },
        "id": "PQH332Dz4GL9",
        "outputId": "ebf6f7a3-c59b-4833-9d1f-4d8be90a1133"
      },
      "source": [
        "math_funcion()"
      ],
      "execution_count": null,
      "outputs": [
        {
          "output_type": "execute_result",
          "data": {
            "text/plain": [
              "2500"
            ]
          },
          "metadata": {
            "tags": []
          },
          "execution_count": 10
        }
      ]
    },
    {
      "cell_type": "markdown",
      "metadata": {
        "id": "XO7J_xGp4Kjw"
      },
      "source": [
        "Ahora la función recibirá 2 números como argumentos y realizará una operación matemática."
      ]
    },
    {
      "cell_type": "code",
      "metadata": {
        "id": "V1DeKvml4Ht1"
      },
      "source": [
        "def math_funcion2(n1, n2):\n",
        "  n3 = n1 + n2\n",
        "  print(n3)\n",
        "  "
      ],
      "execution_count": null,
      "outputs": []
    },
    {
      "cell_type": "code",
      "metadata": {
        "colab": {
          "base_uri": "https://localhost:8080/"
        },
        "id": "uil7dO5o4aWD",
        "outputId": "26dc17d3-f028-4172-c9a8-fd9d138fcef5"
      },
      "source": [
        "math_funcion2(45,20)"
      ],
      "execution_count": null,
      "outputs": [
        {
          "output_type": "stream",
          "text": [
            "65\n"
          ],
          "name": "stdout"
        }
      ]
    },
    {
      "cell_type": "markdown",
      "metadata": {
        "id": "1GvKlvXO4lcS"
      },
      "source": [
        "### **Parámetros Posicionales**\n",
        "\n",
        "Se denominan así porque depende de la posición en la que coloquemos los argumentos, en esa posición se van a recibir como parámetros en la función."
      ]
    },
    {
      "cell_type": "code",
      "metadata": {
        "id": "Uf07E7JB4oNf"
      },
      "source": [
        "def posicional(a, b):\n",
        "  return(a + b)"
      ],
      "execution_count": null,
      "outputs": []
    },
    {
      "cell_type": "code",
      "metadata": {
        "colab": {
          "base_uri": "https://localhost:8080/",
          "height": 37
        },
        "id": "RPGz7jEE9xbM",
        "outputId": "e7e57314-b1a6-4f47-83f1-414aaf2610e0"
      },
      "source": [
        "posicional(\"Hello\", \"World\")"
      ],
      "execution_count": null,
      "outputs": [
        {
          "output_type": "execute_result",
          "data": {
            "application/vnd.google.colaboratory.intrinsic+json": {
              "type": "string"
            },
            "text/plain": [
              "'HelloWorld'"
            ]
          },
          "metadata": {
            "tags": []
          },
          "execution_count": 14
        }
      ]
    },
    {
      "cell_type": "code",
      "metadata": {
        "colab": {
          "base_uri": "https://localhost:8080/"
        },
        "id": "3gdU6VA7BGnT",
        "outputId": "2762a37f-d6d5-473f-e21c-f90446de266b"
      },
      "source": [
        "posicional(20, 35)"
      ],
      "execution_count": null,
      "outputs": [
        {
          "output_type": "execute_result",
          "data": {
            "text/plain": [
              "55"
            ]
          },
          "metadata": {
            "tags": []
          },
          "execution_count": 15
        }
      ]
    },
    {
      "cell_type": "markdown",
      "metadata": {
        "id": "WlCsu15Y99e3"
      },
      "source": [
        "En estos ejemplos se puede observar que la función \"posicional\" recibe 2 parámetros primero el parámetro \"a\" y luego el parámetro \"b\"; ahora bien al hacer la llamada de la función se envían ambos argumentos, entonces, la palabra \"Hello\" como se envía primero la recibe la función como su primer argumento \"a\", y la palabra \"World\" se envía de segundo entonces la función la recibe como su segundo argumento \"b\". \n",
        "\n",
        "Los parámetros posicionales se refiere a que en el orden que se envíen los argumentos en ese orden los utilizará como parámetros la función."
      ]
    },
    {
      "cell_type": "markdown",
      "metadata": {
        "id": "zeIhfrE_AL8W"
      },
      "source": [
        "### **Parámetros Nombrados**\n",
        "\n",
        "Este tipo de parámetros no dependen de la posición en la que los argumentos sean enviados al momento del llamado de la función, debido a que cada parámetro es explícitamente asignado al momento de llamar la función."
      ]
    },
    {
      "cell_type": "code",
      "metadata": {
        "id": "5C_bBZvJA6mb"
      },
      "source": [
        "def nombrados(a, b, c):\n",
        "  d = a + b + c\n",
        "  return(d)"
      ],
      "execution_count": null,
      "outputs": []
    },
    {
      "cell_type": "code",
      "metadata": {
        "colab": {
          "base_uri": "https://localhost:8080/",
          "height": 37
        },
        "id": "kJ84LjptBDVz",
        "outputId": "def8bc21-48e2-4dc7-e0df-84ceda744d13"
      },
      "source": [
        "nombrados(b=\" \", c=\"World\", a=\"Hello\")"
      ],
      "execution_count": null,
      "outputs": [
        {
          "output_type": "execute_result",
          "data": {
            "application/vnd.google.colaboratory.intrinsic+json": {
              "type": "string"
            },
            "text/plain": [
              "'Hello World'"
            ]
          },
          "metadata": {
            "tags": []
          },
          "execution_count": 17
        }
      ]
    },
    {
      "cell_type": "code",
      "metadata": {
        "colab": {
          "base_uri": "https://localhost:8080/"
        },
        "id": "yx07Q6wfBXkf",
        "outputId": "54aec321-6197-4c79-9f16-4b9a64aca005"
      },
      "source": [
        "nombrados(c=10, a=20, b=5)"
      ],
      "execution_count": null,
      "outputs": [
        {
          "output_type": "execute_result",
          "data": {
            "text/plain": [
              "35"
            ]
          },
          "metadata": {
            "tags": []
          },
          "execution_count": 18
        }
      ]
    },
    {
      "cell_type": "markdown",
      "metadata": {
        "id": "mQ48vOqsB2h_"
      },
      "source": [
        "En estos ejemplos se puede observar que la función \"nombrados\" recibe 3 parámetros primero el parámetro \"a\", segundo el parámetro \"b\" y por último el parámetro \"c\"; ahora bien al hacer la llamada de la función se envían los 3 argumentos, pero en este caso se especifíca explícitamente que valor va a tener cada parámetro, es decir, no importa en que posición se coloquen los argumentos porque se están asignando explícitamente."
      ]
    },
    {
      "cell_type": "markdown",
      "metadata": {
        "id": "WpX6OzraCciz"
      },
      "source": [
        "### **Retorno de múltiples valores**\n",
        "\n",
        "Para devolver algún resultado de la función se utiliza la palabra reservada \"***return***\", Python permite que se puedan devolver múltiples valores en una misma función."
      ]
    },
    {
      "cell_type": "code",
      "metadata": {
        "id": "1viJSkdCCfNp"
      },
      "source": [
        "def retorna_1_valor(x):\n",
        "  return x+10"
      ],
      "execution_count": null,
      "outputs": []
    },
    {
      "cell_type": "code",
      "metadata": {
        "colab": {
          "base_uri": "https://localhost:8080/"
        },
        "id": "ox18S3hyDwHf",
        "outputId": "b61c451a-2fac-466a-b1fc-4b9bf09025b1"
      },
      "source": [
        "retorna_1_valor(5)"
      ],
      "execution_count": null,
      "outputs": [
        {
          "output_type": "execute_result",
          "data": {
            "text/plain": [
              "15"
            ]
          },
          "metadata": {
            "tags": []
          },
          "execution_count": 20
        }
      ]
    },
    {
      "cell_type": "code",
      "metadata": {
        "colab": {
          "base_uri": "https://localhost:8080/"
        },
        "id": "eG7koznBF7rZ",
        "outputId": "447ec287-3ec8-4078-f7cd-2a4370f3b273"
      },
      "source": [
        "type(retorna_1_valor(5))"
      ],
      "execution_count": null,
      "outputs": [
        {
          "output_type": "execute_result",
          "data": {
            "text/plain": [
              "int"
            ]
          },
          "metadata": {
            "tags": []
          },
          "execution_count": 21
        }
      ]
    },
    {
      "cell_type": "markdown",
      "metadata": {
        "id": "NR5gRjNs-n6D"
      },
      "source": [
        "---"
      ]
    },
    {
      "cell_type": "code",
      "metadata": {
        "id": "7nkOOFPbFKqd"
      },
      "source": [
        "def retorna_2_valor(x, y):\n",
        "  return x+10, y+15"
      ],
      "execution_count": null,
      "outputs": []
    },
    {
      "cell_type": "code",
      "metadata": {
        "colab": {
          "base_uri": "https://localhost:8080/"
        },
        "id": "_ukzNmjvFRvt",
        "outputId": "c17c3375-21b9-4002-8a4d-01d3ebe46929"
      },
      "source": [
        "retorna_2_valor(50, 100)"
      ],
      "execution_count": null,
      "outputs": [
        {
          "output_type": "execute_result",
          "data": {
            "text/plain": [
              "(60, 115)"
            ]
          },
          "metadata": {
            "tags": []
          },
          "execution_count": 23
        }
      ]
    },
    {
      "cell_type": "markdown",
      "metadata": {
        "id": "diaugRTs-rZJ"
      },
      "source": [
        "---"
      ]
    },
    {
      "cell_type": "code",
      "metadata": {
        "id": "c2LggtpEFWwX"
      },
      "source": [
        "def retorna_3_valor(x, y, z):\n",
        "  return x, y, z"
      ],
      "execution_count": null,
      "outputs": []
    },
    {
      "cell_type": "code",
      "metadata": {
        "colab": {
          "base_uri": "https://localhost:8080/"
        },
        "id": "eGX0GJ22Fh2a",
        "outputId": "e7e833c4-cef1-4201-ed77-1e63c586b82f"
      },
      "source": [
        "retorna_3_valor(\"Guatemala\", 3, [1,2,3])"
      ],
      "execution_count": null,
      "outputs": [
        {
          "output_type": "execute_result",
          "data": {
            "text/plain": [
              "('Guatemala', 3, [1, 2, 3])"
            ]
          },
          "metadata": {
            "tags": []
          },
          "execution_count": 25
        }
      ]
    },
    {
      "cell_type": "markdown",
      "metadata": {
        "id": "VM6ogFFxF0iZ"
      },
      "source": [
        "Se puede observar que se pueden devolver uno o varios valores de una función.\n",
        "\n",
        "También podemos observar que cuando devuelve un solo dato lo devuelve en su tipo original, pero cuando son múltiples valores los que va a retornar entonces los agrupa en una tupla inmutable para retornarlos.\n",
        "\n",
        "Python también nos permite asignar cada elemento de dicha tupla a una variable distinta y su tipo será el del valor propio como tal."
      ]
    },
    {
      "cell_type": "code",
      "metadata": {
        "id": "n1gDgjQKFnPS"
      },
      "source": [
        "a, b, c = retorna_3_valor(\"Guatemala\", 3, [1,2,3])"
      ],
      "execution_count": null,
      "outputs": []
    },
    {
      "cell_type": "code",
      "metadata": {
        "colab": {
          "base_uri": "https://localhost:8080/"
        },
        "id": "JA-EUWBBGu3J",
        "outputId": "8f975a55-1fca-44b6-c48e-5aa64ab2478a"
      },
      "source": [
        "print(a)\n",
        "type(a)"
      ],
      "execution_count": null,
      "outputs": [
        {
          "output_type": "stream",
          "text": [
            "Guatemala\n"
          ],
          "name": "stdout"
        },
        {
          "output_type": "execute_result",
          "data": {
            "text/plain": [
              "str"
            ]
          },
          "metadata": {
            "tags": []
          },
          "execution_count": 27
        }
      ]
    },
    {
      "cell_type": "code",
      "metadata": {
        "colab": {
          "base_uri": "https://localhost:8080/"
        },
        "id": "xLtY8hDwG0x5",
        "outputId": "0b46168b-b74f-482c-8c46-1c302883527e"
      },
      "source": [
        "print(b)\n",
        "type(b)"
      ],
      "execution_count": null,
      "outputs": [
        {
          "output_type": "stream",
          "text": [
            "3\n"
          ],
          "name": "stdout"
        },
        {
          "output_type": "execute_result",
          "data": {
            "text/plain": [
              "int"
            ]
          },
          "metadata": {
            "tags": []
          },
          "execution_count": 28
        }
      ]
    },
    {
      "cell_type": "code",
      "metadata": {
        "colab": {
          "base_uri": "https://localhost:8080/"
        },
        "id": "OyFmcFhQHCrV",
        "outputId": "e6eacb83-d196-4521-f131-d52e1a74e061"
      },
      "source": [
        "print(c)\n",
        "type(c)"
      ],
      "execution_count": null,
      "outputs": [
        {
          "output_type": "stream",
          "text": [
            "[1, 2, 3]\n"
          ],
          "name": "stdout"
        },
        {
          "output_type": "execute_result",
          "data": {
            "text/plain": [
              "list"
            ]
          },
          "metadata": {
            "tags": []
          },
          "execution_count": 29
        }
      ]
    },
    {
      "cell_type": "markdown",
      "metadata": {
        "id": "ZbqhcIJocTzi"
      },
      "source": [
        "### **Funciones como objetos y como parametros de otras funciones**\n",
        "\n",
        "Esta funcionalidad nos ayuda a poder utilizar funciones como parámetros de otras funciones.\n"
      ]
    },
    {
      "cell_type": "code",
      "metadata": {
        "colab": {
          "base_uri": "https://localhost:8080/"
        },
        "id": "g18JX4VLclNN",
        "outputId": "f2e5812b-2684-473d-bd1b-4512ebce87a2"
      },
      "source": [
        "def multiplicar(a,b):\n",
        "    return a*b\n",
        "\n",
        "def fun_en_fun(fun,a,b):\n",
        "    return fun(a,b)\n",
        "\n",
        "print(fun_en_fun(multiplicar,5,10))\n"
      ],
      "execution_count": 1,
      "outputs": [
        {
          "output_type": "stream",
          "text": [
            "50\n"
          ],
          "name": "stdout"
        }
      ]
    },
    {
      "cell_type": "markdown",
      "metadata": {
        "id": "THKA18_IxsDI"
      },
      "source": [
        "### **Funciones Anónimas o Lambda**\n",
        "\n",
        "Las funciones Lambda, cumplen con el mismo objetivo que una función normal, la principal diferencia es que no se definen con la palabra reservada \"***def***\", estas funciones Lambda carecen de nombre y es por ello que tambien se les conoce como funciones anónimas.\n",
        "\n",
        "Las funciones Lambda se diferencian también porque además de carecer de nombre, tienen una única línea que ejecuta una sola expresión en lugar de un bloque de instrucciones. Pueden recibir cualquier cantidad de parámetros pero realizan una sola acción o instrucción.\n",
        "\n",
        "Estas funciones Lambda se utilizan para raelizar expresiones simples.\n",
        "\n",
        "Para definir una función Lambda, se utiliza la palabra reservada \"***lambda***\", seguido de los parámetros que va a recibir separados por comas, y luego la expresión de la acción que va a realizar:\n",
        "\n",
        "> `lambda parámetros : acción`\n",
        "\n",
        "Las funciones Lambda se guardan en una variable para que puedan ser utilizadas posteriormente, y para utilizarlas basta con mandar a llamar dicha variable y enviarle los parámetros.\n",
        "\n",
        "> `variable = lambda parámetros : acción`"
      ]
    },
    {
      "cell_type": "code",
      "metadata": {
        "id": "s_BZ4SaPxw29"
      },
      "source": [
        "sumar = lambda x, y : x + y"
      ],
      "execution_count": null,
      "outputs": []
    },
    {
      "cell_type": "code",
      "metadata": {
        "colab": {
          "base_uri": "https://localhost:8080/"
        },
        "id": "CzGYEr8qxygG",
        "outputId": "76d04f41-bb39-44a1-d89f-65b675dfa656"
      },
      "source": [
        "sumar(8, 10)\n"
      ],
      "execution_count": null,
      "outputs": [
        {
          "output_type": "execute_result",
          "data": {
            "text/plain": [
              "18"
            ]
          },
          "metadata": {
            "tags": []
          },
          "execution_count": 31
        }
      ]
    },
    {
      "cell_type": "code",
      "metadata": {
        "colab": {
          "base_uri": "https://localhost:8080/",
          "height": 37
        },
        "id": "yEhiyqhCx0zU",
        "outputId": "36629980-ad2f-46d3-a22e-2cb8aaadd74d"
      },
      "source": [
        "sumar(\"Hello\", \"World\")"
      ],
      "execution_count": null,
      "outputs": [
        {
          "output_type": "execute_result",
          "data": {
            "application/vnd.google.colaboratory.intrinsic+json": {
              "type": "string"
            },
            "text/plain": [
              "'HelloWorld'"
            ]
          },
          "metadata": {
            "tags": []
          },
          "execution_count": 32
        }
      ]
    },
    {
      "cell_type": "code",
      "metadata": {
        "colab": {
          "base_uri": "https://localhost:8080/"
        },
        "id": "HbOgBYyuzILg",
        "outputId": "0188c86d-a355-4b11-aafa-da22e06b8f38"
      },
      "source": [
        "type(sumar)"
      ],
      "execution_count": null,
      "outputs": [
        {
          "output_type": "execute_result",
          "data": {
            "text/plain": [
              "function"
            ]
          },
          "metadata": {
            "tags": []
          },
          "execution_count": 33
        }
      ]
    },
    {
      "cell_type": "markdown",
      "metadata": {
        "id": "XAFQAPTZ-NF2"
      },
      "source": [
        "---"
      ]
    },
    {
      "cell_type": "code",
      "metadata": {
        "id": "333QVhgJzPUv"
      },
      "source": [
        "retorna_3_valores = lambda x, y, z : (x, y, z)"
      ],
      "execution_count": null,
      "outputs": []
    },
    {
      "cell_type": "code",
      "metadata": {
        "colab": {
          "base_uri": "https://localhost:8080/"
        },
        "id": "bNqgaPzN9PTA",
        "outputId": "a5331111-f68f-4824-d6d2-282366db2c4f"
      },
      "source": [
        "retorna_3_valores(100, [5,8,6], \"Quetzal\")"
      ],
      "execution_count": null,
      "outputs": [
        {
          "output_type": "execute_result",
          "data": {
            "text/plain": [
              "(100, [5, 8, 6], 'Quetzal')"
            ]
          },
          "metadata": {
            "tags": []
          },
          "execution_count": 35
        }
      ]
    },
    {
      "cell_type": "code",
      "metadata": {
        "colab": {
          "base_uri": "https://localhost:8080/"
        },
        "id": "DZ63lf4l9qa1",
        "outputId": "ed96ab97-dace-40c0-ed00-449c4101e63b"
      },
      "source": [
        "type(retorna_3_valores)"
      ],
      "execution_count": null,
      "outputs": [
        {
          "output_type": "execute_result",
          "data": {
            "text/plain": [
              "function"
            ]
          },
          "metadata": {
            "tags": []
          },
          "execution_count": 36
        }
      ]
    },
    {
      "cell_type": "code",
      "metadata": {
        "colab": {
          "base_uri": "https://localhost:8080/"
        },
        "id": "mFCtizYV-DKb",
        "outputId": "6120be2c-96f3-43e5-bf62-a369324bb975"
      },
      "source": [
        "type(retorna_3_valores(100, [5,8,6], \"Quetzal\"))"
      ],
      "execution_count": null,
      "outputs": [
        {
          "output_type": "execute_result",
          "data": {
            "text/plain": [
              "tuple"
            ]
          },
          "metadata": {
            "tags": []
          },
          "execution_count": 37
        }
      ]
    },
    {
      "cell_type": "code",
      "metadata": {
        "id": "6Wrj9otc-GCT"
      },
      "source": [
        "a, b, c = retorna_3_valores(100, [5,8,6], \"Quetzal\")"
      ],
      "execution_count": null,
      "outputs": []
    },
    {
      "cell_type": "code",
      "metadata": {
        "colab": {
          "base_uri": "https://localhost:8080/"
        },
        "id": "IHnm-bIA-2MM",
        "outputId": "251ff642-78bb-4032-b8b0-6aa47d414546"
      },
      "source": [
        "print(a)\n",
        "type(a)"
      ],
      "execution_count": null,
      "outputs": [
        {
          "output_type": "stream",
          "text": [
            "100\n"
          ],
          "name": "stdout"
        },
        {
          "output_type": "execute_result",
          "data": {
            "text/plain": [
              "int"
            ]
          },
          "metadata": {
            "tags": []
          },
          "execution_count": 39
        }
      ]
    },
    {
      "cell_type": "code",
      "metadata": {
        "colab": {
          "base_uri": "https://localhost:8080/"
        },
        "id": "yvvvw2eo-5gP",
        "outputId": "ee84d8bb-bc72-49b1-b526-69f7a94e7fa3"
      },
      "source": [
        "print(b)\n",
        "type(b)"
      ],
      "execution_count": null,
      "outputs": [
        {
          "output_type": "stream",
          "text": [
            "[5, 8, 6]\n"
          ],
          "name": "stdout"
        },
        {
          "output_type": "execute_result",
          "data": {
            "text/plain": [
              "list"
            ]
          },
          "metadata": {
            "tags": []
          },
          "execution_count": 40
        }
      ]
    },
    {
      "cell_type": "code",
      "metadata": {
        "colab": {
          "base_uri": "https://localhost:8080/"
        },
        "id": "J7Rm9l2_-60k",
        "outputId": "11c12dee-bda5-40ec-ac58-d6dadc552264"
      },
      "source": [
        "print(c)\n",
        "type(c)"
      ],
      "execution_count": null,
      "outputs": [
        {
          "output_type": "stream",
          "text": [
            "Quetzal\n"
          ],
          "name": "stdout"
        },
        {
          "output_type": "execute_result",
          "data": {
            "text/plain": [
              "str"
            ]
          },
          "metadata": {
            "tags": []
          },
          "execution_count": 41
        }
      ]
    },
    {
      "cell_type": "markdown",
      "metadata": {
        "id": "7I9QI8sH-_KR"
      },
      "source": [
        "Como podemos observar en los ejemplos de arriba las funciones Lambda operan de la misma forma que una función normal, con la principal diferencia que las funciones Lambda contienen una única expresión o instrucción a ejecutar en lugar de un bloque de instrucciones."
      ]
    }
  ]
}