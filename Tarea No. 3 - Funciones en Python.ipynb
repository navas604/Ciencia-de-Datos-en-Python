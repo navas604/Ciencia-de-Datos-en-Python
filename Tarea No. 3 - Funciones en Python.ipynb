{
  "nbformat": 4,
  "nbformat_minor": 0,
  "metadata": {
    "colab": {
      "name": "Tarea No. 3 - Funciones en Python.ipynb",
      "provenance": [],
      "collapsed_sections": [],
      "authorship_tag": "ABX9TyOC+fkvU+WMIMm9hFNQK5pU",
      "include_colab_link": true
    },
    "kernelspec": {
      "name": "python3",
      "display_name": "Python 3"
    }
  },
  "cells": [
    {
      "cell_type": "markdown",
      "metadata": {
        "id": "view-in-github",
        "colab_type": "text"
      },
      "source": [
        "<a href=\"https://colab.research.google.com/github/navas604/Ciencia-de-Datos-en-Python/blob/main/Tarea%20No.%203%20-%20Funciones%20en%20Python.ipynb\" target=\"_parent\"><img src=\"https://colab.research.google.com/assets/colab-badge.svg\" alt=\"Open In Colab\"/></a>"
      ]
    },
    {
      "cell_type": "markdown",
      "metadata": {
        "id": "5QvJ0xa7q8xJ"
      },
      "source": [
        "# **TAREA No. 3**\n",
        "# **FUNCIONES EN PYTHON**\n",
        "\n",
        "---\n",
        "\n"
      ]
    },
    {
      "cell_type": "markdown",
      "metadata": {
        "id": "GWAAJ_ekrcKL"
      },
      "source": [
        "## Ciencia de Datos en Python\n",
        "## Antonio Everardo Navas Contreras, 14003163\n",
        "\n",
        "---"
      ]
    },
    {
      "cell_type": "markdown",
      "metadata": {
        "id": "wT_CCnJurkf-"
      },
      "source": [
        "### **Definición de funciones en Python**\n",
        "\n",
        "Una función es un bloque de código o grupo de instrucciones, tienen un nombre asociado a ellas, pueden o no recibir argumentos, ejecuta ciertas instrucciones con el propósito de resolver una tarea específica y suele devolver algún resultado.\n",
        "\n",
        "La utilización de funciones nos permite dividir el programa en bloques de código más simples, lo cual nos da la ventaja de mayor facilidad de depuración. Además de dividir el programa, las funciones también nos permiten reutilizarlas cuantas veces necesitemos."
      ]
    },
    {
      "cell_type": "markdown",
      "metadata": {
        "id": "RBerCAHByPL9"
      },
      "source": [
        "Python cuenta ya con funciones definidas para realizar ciertas tareas, pero tambien permite al usuario crear funciones nuevas.\n",
        "\n",
        "Para definir una función en Python, se utiliza la palabra reservada \"***def***\" seguido de un nombre descriptivo de dicha función, después se colocan los parámetros dentro de parentesís, estos parámetros son opcionales, si no se desean utilizar parámetros dentro de la función entonces únicamente se colocan paréntesis vacíos, y por último se finaliza con dos puntos.\n",
        "\n",
        "Después de los dos puntos, en la línea de abajo se inicia con el bloque de código que servira para el objeto de dicha función."
      ]
    },
    {
      "cell_type": "code",
      "metadata": {
        "id": "u2j5F7juzLca"
      },
      "source": [
        "def funcion_sin_parametros():\n",
        "  # Bloque de código\n",
        "  pass"
      ],
      "execution_count": null,
      "outputs": []
    },
    {
      "cell_type": "code",
      "metadata": {
        "id": "fWmwkDeM3m8A"
      },
      "source": [
        "def funcion_con_parametros(parametros):\n",
        "  # Bloque de código\n",
        "  pass"
      ],
      "execution_count": null,
      "outputs": []
    },
    {
      "cell_type": "markdown",
      "metadata": {
        "id": "e44qYmEdzsHB"
      },
      "source": [
        "La defición de funciones no ejecuta el bloque de código del cuerpo, sino hasta que la función es llamada o invocada.\n",
        "\n",
        "Para invocarla basta con escribir el nombre de dicha función, seguida de los parámetros dentro de paréntesis, recordemos que si no se desean utilizar parámetros dentro de la función entonces únicamente se colocan paréntesis vacíos.\n",
        "\n",
        "Los valores cuando se reciben en la definición de la función se llaman parámetros, pero cuando se envían en el llamado de la función se llaman argumentos."
      ]
    },
    {
      "cell_type": "code",
      "metadata": {
        "id": "_3f5YfcI0bxd"
      },
      "source": [
        "funcion_sin_parametros()"
      ],
      "execution_count": null,
      "outputs": []
    },
    {
      "cell_type": "code",
      "metadata": {
        "id": "mTXJWpHQ3u92"
      },
      "source": [
        "funcion_con_parametros(\"parametros\")"
      ],
      "execution_count": null,
      "outputs": []
    },
    {
      "cell_type": "code",
      "metadata": {
        "id": "BqbD0cvA3zRT"
      },
      "source": [
        "funcion_con_parametros(5)"
      ],
      "execution_count": null,
      "outputs": []
    },
    {
      "cell_type": "markdown",
      "metadata": {
        "id": "4KLgpyWW0rD_"
      },
      "source": [
        "La siguiente función se va a definir para que reciba un mensaje como parámetro y lo imprima."
      ]
    },
    {
      "cell_type": "code",
      "metadata": {
        "id": "XVHkdqW40ly7"
      },
      "source": [
        "def ver_mensaje(mensaje):\n",
        "  print(mensaje)"
      ],
      "execution_count": null,
      "outputs": []
    },
    {
      "cell_type": "code",
      "metadata": {
        "colab": {
          "base_uri": "https://localhost:8080/"
        },
        "id": "X9vluSOt1l7_",
        "outputId": "ff03e9e2-599b-446a-9979-d86f15f481ee"
      },
      "source": [
        "ver_mensaje(\"Hello World\")"
      ],
      "execution_count": null,
      "outputs": [
        {
          "output_type": "stream",
          "text": [
            "Hello World\n"
          ],
          "name": "stdout"
        }
      ]
    },
    {
      "cell_type": "code",
      "metadata": {
        "colab": {
          "base_uri": "https://localhost:8080/"
        },
        "id": "c2xGtwJW1p_O",
        "outputId": "24e07f1d-325f-4cac-a89e-04b90c177da7"
      },
      "source": [
        "ver_mensaje(\"Mi nombre es Antonio Navas\")"
      ],
      "execution_count": null,
      "outputs": [
        {
          "output_type": "stream",
          "text": [
            "Mi nombre es Antonio Navas\n"
          ],
          "name": "stdout"
        }
      ]
    },
    {
      "cell_type": "markdown",
      "metadata": {
        "id": "-AEz4hVx3RtH"
      },
      "source": [
        "La siguiente función se va a definir para realizar una operación matemática sin recibir ningún argumento."
      ]
    },
    {
      "cell_type": "code",
      "metadata": {
        "id": "ew2jSKJ71xDu"
      },
      "source": [
        "def math_funcion():\n",
        "  calc = 25 * 100\n",
        "  return(calc)"
      ],
      "execution_count": null,
      "outputs": []
    },
    {
      "cell_type": "code",
      "metadata": {
        "colab": {
          "base_uri": "https://localhost:8080/"
        },
        "id": "PQH332Dz4GL9",
        "outputId": "0aa0accc-1d9c-4ba0-dd31-3c69751c07b9"
      },
      "source": [
        "math_funcion()"
      ],
      "execution_count": null,
      "outputs": [
        {
          "output_type": "execute_result",
          "data": {
            "text/plain": [
              "2500"
            ]
          },
          "metadata": {
            "tags": []
          },
          "execution_count": 11
        }
      ]
    },
    {
      "cell_type": "markdown",
      "metadata": {
        "id": "XO7J_xGp4Kjw"
      },
      "source": [
        "Ahora la función recibirá 2 números como argumentos y realizará una operación matemática."
      ]
    },
    {
      "cell_type": "code",
      "metadata": {
        "id": "V1DeKvml4Ht1"
      },
      "source": [
        "def math_funcion2(n1, n2):\n",
        "  n3 = n1 + n2\n",
        "  print(n3)\n",
        "  "
      ],
      "execution_count": null,
      "outputs": []
    },
    {
      "cell_type": "code",
      "metadata": {
        "colab": {
          "base_uri": "https://localhost:8080/"
        },
        "id": "uil7dO5o4aWD",
        "outputId": "a71ed2ed-d612-44d0-cdff-8eccf6fc875c"
      },
      "source": [
        "math_funcion2(45,20)"
      ],
      "execution_count": null,
      "outputs": [
        {
          "output_type": "stream",
          "text": [
            "65\n"
          ],
          "name": "stdout"
        }
      ]
    },
    {
      "cell_type": "markdown",
      "metadata": {
        "id": "1GvKlvXO4lcS"
      },
      "source": [
        "### **Parámetros Posicionales**\n",
        "\n",
        "Se denominan así porque depende de la posición en la que coloquemos los argumentos, en esa posición se van a recibir como parámetros en la función."
      ]
    },
    {
      "cell_type": "code",
      "metadata": {
        "id": "Uf07E7JB4oNf"
      },
      "source": [
        "def posicional(a, b):\n",
        "  return(a + b)"
      ],
      "execution_count": null,
      "outputs": []
    },
    {
      "cell_type": "code",
      "metadata": {
        "colab": {
          "base_uri": "https://localhost:8080/",
          "height": 37
        },
        "id": "RPGz7jEE9xbM",
        "outputId": "5e814a35-37a7-4924-ba57-758a9b8def5c"
      },
      "source": [
        "posicional(\"Hello\", \"World\")"
      ],
      "execution_count": null,
      "outputs": [
        {
          "output_type": "execute_result",
          "data": {
            "application/vnd.google.colaboratory.intrinsic+json": {
              "type": "string"
            },
            "text/plain": [
              "'HelloWorld'"
            ]
          },
          "metadata": {
            "tags": []
          },
          "execution_count": 15
        }
      ]
    },
    {
      "cell_type": "code",
      "metadata": {
        "colab": {
          "base_uri": "https://localhost:8080/"
        },
        "id": "3gdU6VA7BGnT",
        "outputId": "7630d9e5-b2c5-4874-8563-7521e9a04ef2"
      },
      "source": [
        "posicional(20, 35)"
      ],
      "execution_count": null,
      "outputs": [
        {
          "output_type": "execute_result",
          "data": {
            "text/plain": [
              "55"
            ]
          },
          "metadata": {
            "tags": []
          },
          "execution_count": 16
        }
      ]
    },
    {
      "cell_type": "markdown",
      "metadata": {
        "id": "WlCsu15Y99e3"
      },
      "source": [
        "En estos ejemplos se puede observar que la función \"posicional\" recibe 2 parámetros primero el parámetro \"a\" y luego el parámetro \"b\"; ahora bien al hacer la llamada de la función se envían ambos argumentos, entonces, la palabra \"Hello\" como se envía primero la recibe la función como su primer argumento \"a\", y la palabra \"World\" se envía de segundo entonces la función la recibe como su segundo argumento \"b\". \n",
        "\n",
        "Los parámetros posicionales se refiere a que en el orden que se envíen los argumentos en ese orden los utilizará como parámetros la función."
      ]
    },
    {
      "cell_type": "markdown",
      "metadata": {
        "id": "zeIhfrE_AL8W"
      },
      "source": [
        "### **Parámetros Nombrados**\n",
        "\n",
        "Este tipo de parámetros no dependen de la posición en la que los argumentos sean enviados al momento del llamado de la función, debido a que cada parámetro es explícitamente asignado al momento de llamar la función."
      ]
    },
    {
      "cell_type": "code",
      "metadata": {
        "id": "5C_bBZvJA6mb"
      },
      "source": [
        "def nombrados(a, b, c):\n",
        "  d = a + b + c\n",
        "  return(d)"
      ],
      "execution_count": null,
      "outputs": []
    },
    {
      "cell_type": "code",
      "metadata": {
        "colab": {
          "base_uri": "https://localhost:8080/",
          "height": 37
        },
        "id": "kJ84LjptBDVz",
        "outputId": "7f06ee0d-6737-4d71-d159-7ac6d69ec2af"
      },
      "source": [
        "nombrados(b=\" \", c=\"World\", a=\"Hello\")"
      ],
      "execution_count": null,
      "outputs": [
        {
          "output_type": "execute_result",
          "data": {
            "application/vnd.google.colaboratory.intrinsic+json": {
              "type": "string"
            },
            "text/plain": [
              "'Hello World'"
            ]
          },
          "metadata": {
            "tags": []
          },
          "execution_count": 18
        }
      ]
    },
    {
      "cell_type": "code",
      "metadata": {
        "colab": {
          "base_uri": "https://localhost:8080/"
        },
        "id": "yx07Q6wfBXkf",
        "outputId": "381d9f49-02e1-4a8d-ed75-046ad845e262"
      },
      "source": [
        "nombrados(c=10, a=20, b=5)"
      ],
      "execution_count": null,
      "outputs": [
        {
          "output_type": "execute_result",
          "data": {
            "text/plain": [
              "35"
            ]
          },
          "metadata": {
            "tags": []
          },
          "execution_count": 19
        }
      ]
    },
    {
      "cell_type": "markdown",
      "metadata": {
        "id": "mQ48vOqsB2h_"
      },
      "source": [
        "En estos ejemplos se puede observar que la función \"nombrados\" recibe 3 parámetros primero el parámetro \"a\", segundo el parámetro \"b\" y por último el parámetro \"c\"; ahora bien al hacer la llamada de la función se envían los 3 argumentos, pero en este caso se especifíca explícitamente que valor va a tener cada parámetro, es decir, no importa en que posición se coloquen los argumentos porque se están asignando explícitamente."
      ]
    },
    {
      "cell_type": "markdown",
      "metadata": {
        "id": "WpX6OzraCciz"
      },
      "source": [
        "### **Retorno de múltiples valores**\n",
        "\n",
        "Para devolver algún resultado de la función se utiliza la palabra reservada \"***return***\", Python permite que se puedan devolver múltiples valores en una misma función."
      ]
    },
    {
      "cell_type": "code",
      "metadata": {
        "id": "1viJSkdCCfNp"
      },
      "source": [
        "def retorna_1_valor(x):\n",
        "  return x+10"
      ],
      "execution_count": null,
      "outputs": []
    },
    {
      "cell_type": "code",
      "metadata": {
        "colab": {
          "base_uri": "https://localhost:8080/"
        },
        "id": "ox18S3hyDwHf",
        "outputId": "235f3758-5362-49db-c901-cab10cc27e10"
      },
      "source": [
        "retorna_1_valor(5)"
      ],
      "execution_count": null,
      "outputs": [
        {
          "output_type": "execute_result",
          "data": {
            "text/plain": [
              "15"
            ]
          },
          "metadata": {
            "tags": []
          },
          "execution_count": 21
        }
      ]
    },
    {
      "cell_type": "code",
      "metadata": {
        "colab": {
          "base_uri": "https://localhost:8080/"
        },
        "id": "eG7koznBF7rZ",
        "outputId": "c2497488-6060-481b-b670-4d6f4c56de8a"
      },
      "source": [
        "type(retorna_1_valor(5))"
      ],
      "execution_count": null,
      "outputs": [
        {
          "output_type": "execute_result",
          "data": {
            "text/plain": [
              "int"
            ]
          },
          "metadata": {
            "tags": []
          },
          "execution_count": 22
        }
      ]
    },
    {
      "cell_type": "markdown",
      "metadata": {
        "id": "NR5gRjNs-n6D"
      },
      "source": [
        "---"
      ]
    },
    {
      "cell_type": "code",
      "metadata": {
        "id": "7nkOOFPbFKqd"
      },
      "source": [
        "def retorna_2_valor(x, y):\n",
        "  return x+10, y+15"
      ],
      "execution_count": null,
      "outputs": []
    },
    {
      "cell_type": "code",
      "metadata": {
        "colab": {
          "base_uri": "https://localhost:8080/"
        },
        "id": "_ukzNmjvFRvt",
        "outputId": "85b24a6a-8c7d-4c3c-b519-f579240e288b"
      },
      "source": [
        "retorna_2_valor(50, 100)"
      ],
      "execution_count": null,
      "outputs": [
        {
          "output_type": "execute_result",
          "data": {
            "text/plain": [
              "(60, 115)"
            ]
          },
          "metadata": {
            "tags": []
          },
          "execution_count": 24
        }
      ]
    },
    {
      "cell_type": "markdown",
      "metadata": {
        "id": "diaugRTs-rZJ"
      },
      "source": [
        "---"
      ]
    },
    {
      "cell_type": "code",
      "metadata": {
        "id": "c2LggtpEFWwX"
      },
      "source": [
        "def retorna_3_valor(x, y, z):\n",
        "  return x, y, z"
      ],
      "execution_count": null,
      "outputs": []
    },
    {
      "cell_type": "code",
      "metadata": {
        "colab": {
          "base_uri": "https://localhost:8080/"
        },
        "id": "eGX0GJ22Fh2a",
        "outputId": "891c076f-7847-4f71-9d36-dc89504f3562"
      },
      "source": [
        "retorna_3_valor(\"Guatemala\", 3, [1,2,3])"
      ],
      "execution_count": null,
      "outputs": [
        {
          "output_type": "execute_result",
          "data": {
            "text/plain": [
              "('Guatemala', 3, [1, 2, 3])"
            ]
          },
          "metadata": {
            "tags": []
          },
          "execution_count": 26
        }
      ]
    },
    {
      "cell_type": "markdown",
      "metadata": {
        "id": "VM6ogFFxF0iZ"
      },
      "source": [
        "Se puede observar que se pueden devolver uno o varios valores de una función.\n",
        "\n",
        "También podemos observar que cuando devuelve un solo dato lo devuelve en su tipo original, pero cuando son múltiples valores los que va a retornar entonces los agrupa en una tupla inmutable para retornarlos.\n",
        "\n",
        "Python también nos permite asignar cada elemento de dicha tupla a una variable distinta y su tipo será el del valor propio como tal."
      ]
    },
    {
      "cell_type": "code",
      "metadata": {
        "id": "n1gDgjQKFnPS"
      },
      "source": [
        "a, b, c = retorna_3_valor(\"Guatemala\", 3, [1,2,3])"
      ],
      "execution_count": null,
      "outputs": []
    },
    {
      "cell_type": "code",
      "metadata": {
        "colab": {
          "base_uri": "https://localhost:8080/"
        },
        "id": "JA-EUWBBGu3J",
        "outputId": "fda9eaa2-230f-470a-f724-dc455d1b6458"
      },
      "source": [
        "print(a)\n",
        "type(a)"
      ],
      "execution_count": null,
      "outputs": [
        {
          "output_type": "stream",
          "text": [
            "Guatemala\n"
          ],
          "name": "stdout"
        },
        {
          "output_type": "execute_result",
          "data": {
            "text/plain": [
              "str"
            ]
          },
          "metadata": {
            "tags": []
          },
          "execution_count": 28
        }
      ]
    },
    {
      "cell_type": "code",
      "metadata": {
        "colab": {
          "base_uri": "https://localhost:8080/"
        },
        "id": "xLtY8hDwG0x5",
        "outputId": "87346e12-d3c1-4d31-c4ec-b3d38f2cbded"
      },
      "source": [
        "print(b)\n",
        "type(b)"
      ],
      "execution_count": null,
      "outputs": [
        {
          "output_type": "stream",
          "text": [
            "3\n"
          ],
          "name": "stdout"
        },
        {
          "output_type": "execute_result",
          "data": {
            "text/plain": [
              "int"
            ]
          },
          "metadata": {
            "tags": []
          },
          "execution_count": 29
        }
      ]
    },
    {
      "cell_type": "code",
      "metadata": {
        "colab": {
          "base_uri": "https://localhost:8080/"
        },
        "id": "OyFmcFhQHCrV",
        "outputId": "2e3d52d1-6335-4da0-e51e-83d638cc2f94"
      },
      "source": [
        "print(c)\n",
        "type(c)"
      ],
      "execution_count": null,
      "outputs": [
        {
          "output_type": "stream",
          "text": [
            "[1, 2, 3]\n"
          ],
          "name": "stdout"
        },
        {
          "output_type": "execute_result",
          "data": {
            "text/plain": [
              "list"
            ]
          },
          "metadata": {
            "tags": []
          },
          "execution_count": 30
        }
      ]
    },
    {
      "cell_type": "markdown",
      "metadata": {
        "id": "THKA18_IxsDI"
      },
      "source": [
        "### **Funciones Anónimas o Lambda**\n",
        "\n",
        "Las funciones Lambda, cumplen con el mismo objetivo que una función normal, la principal diferencia es que no se definen con la palabra reservada \"***def***\", estas funciones Lambda carecen de nombre y es por ello que tambien se les conoce como funciones anónimas.\n",
        "\n",
        "Las funciones Lambda se diferencian también porque además de carecer de nombre, tienen una única línea que ejecuta una sola expresión en lugar de un bloque de instrucciones. Pueden recibir cualquier cantidad de parámetros pero realizan una sola acción o instrucción.\n",
        "\n",
        "Estas funciones Lambda se utilizan para raelizar expresiones simples.\n",
        "\n",
        "Para definir una función Lambda, se utiliza la palabra reservada \"***lambda***\", seguido de los parámetros que va a recibir separados por comas, y luego la expresión de la acción que va a realizar:\n",
        "\n",
        "> `lambda parámetros : acción`\n",
        "\n",
        "Las funciones Lambda se guardan en una variable para que puedan ser utilizadas posteriormente, y para utilizarlas basta con mandar a llamar dicha variable y enviarle los parámetros.\n",
        "\n",
        "> `variable = lambda parámetros : acción`"
      ]
    },
    {
      "cell_type": "code",
      "metadata": {
        "id": "s_BZ4SaPxw29"
      },
      "source": [
        "sumar = lambda x, y : x + y"
      ],
      "execution_count": null,
      "outputs": []
    },
    {
      "cell_type": "code",
      "metadata": {
        "colab": {
          "base_uri": "https://localhost:8080/"
        },
        "id": "CzGYEr8qxygG",
        "outputId": "7a766c6f-63ad-483f-be8c-a6469df82590"
      },
      "source": [
        "sumar(8, 10)\n"
      ],
      "execution_count": null,
      "outputs": [
        {
          "output_type": "execute_result",
          "data": {
            "text/plain": [
              "18"
            ]
          },
          "metadata": {
            "tags": []
          },
          "execution_count": 51
        }
      ]
    },
    {
      "cell_type": "code",
      "metadata": {
        "colab": {
          "base_uri": "https://localhost:8080/",
          "height": 37
        },
        "id": "yEhiyqhCx0zU",
        "outputId": "1a5318d4-b717-459e-ef19-c990cf1e3eaf"
      },
      "source": [
        "sumar(\"Hello\", \"World\")"
      ],
      "execution_count": null,
      "outputs": [
        {
          "output_type": "execute_result",
          "data": {
            "application/vnd.google.colaboratory.intrinsic+json": {
              "type": "string"
            },
            "text/plain": [
              "'HelloWorld'"
            ]
          },
          "metadata": {
            "tags": []
          },
          "execution_count": 50
        }
      ]
    },
    {
      "cell_type": "code",
      "metadata": {
        "colab": {
          "base_uri": "https://localhost:8080/"
        },
        "id": "HbOgBYyuzILg",
        "outputId": "f30688c3-94af-4cae-cdca-8e858cfa21ae"
      },
      "source": [
        "type(sumar)"
      ],
      "execution_count": null,
      "outputs": [
        {
          "output_type": "execute_result",
          "data": {
            "text/plain": [
              "function"
            ]
          },
          "metadata": {
            "tags": []
          },
          "execution_count": 52
        }
      ]
    },
    {
      "cell_type": "markdown",
      "metadata": {
        "id": "XAFQAPTZ-NF2"
      },
      "source": [
        "---"
      ]
    },
    {
      "cell_type": "code",
      "metadata": {
        "id": "333QVhgJzPUv"
      },
      "source": [
        "retorna_3_valores = lambda x, y, z : (x, y, z)"
      ],
      "execution_count": null,
      "outputs": []
    },
    {
      "cell_type": "code",
      "metadata": {
        "colab": {
          "base_uri": "https://localhost:8080/"
        },
        "id": "bNqgaPzN9PTA",
        "outputId": "f41bea11-0f7b-4b9b-861d-8e64942ea17e"
      },
      "source": [
        "retorna_3_valores(100, [5,8,6], \"Quetzal\")"
      ],
      "execution_count": null,
      "outputs": [
        {
          "output_type": "execute_result",
          "data": {
            "text/plain": [
              "(100, [5, 8, 6], 'Quetzal')"
            ]
          },
          "metadata": {
            "tags": []
          },
          "execution_count": 63
        }
      ]
    },
    {
      "cell_type": "code",
      "metadata": {
        "colab": {
          "base_uri": "https://localhost:8080/"
        },
        "id": "DZ63lf4l9qa1",
        "outputId": "d16fbddf-eeb3-473e-a7bf-0d19fc205f17"
      },
      "source": [
        "type(retorna_3_valores)"
      ],
      "execution_count": null,
      "outputs": [
        {
          "output_type": "execute_result",
          "data": {
            "text/plain": [
              "function"
            ]
          },
          "metadata": {
            "tags": []
          },
          "execution_count": 64
        }
      ]
    },
    {
      "cell_type": "code",
      "metadata": {
        "colab": {
          "base_uri": "https://localhost:8080/"
        },
        "id": "mFCtizYV-DKb",
        "outputId": "1fa89115-ac86-477a-d9f2-2c2ec1b813a6"
      },
      "source": [
        "type(retorna_3_valores(100, [5,8,6], \"Quetzal\"))"
      ],
      "execution_count": null,
      "outputs": [
        {
          "output_type": "execute_result",
          "data": {
            "text/plain": [
              "tuple"
            ]
          },
          "metadata": {
            "tags": []
          },
          "execution_count": 65
        }
      ]
    },
    {
      "cell_type": "code",
      "metadata": {
        "id": "6Wrj9otc-GCT"
      },
      "source": [
        "a, b, c = retorna_3_valores(100, [5,8,6], \"Quetzal\")"
      ],
      "execution_count": null,
      "outputs": []
    },
    {
      "cell_type": "code",
      "metadata": {
        "colab": {
          "base_uri": "https://localhost:8080/"
        },
        "id": "IHnm-bIA-2MM",
        "outputId": "109c26e4-f0fb-4cbe-963e-7e6dff70e29e"
      },
      "source": [
        "print(a)\n",
        "type(a)"
      ],
      "execution_count": null,
      "outputs": [
        {
          "output_type": "stream",
          "text": [
            "100\n"
          ],
          "name": "stdout"
        },
        {
          "output_type": "execute_result",
          "data": {
            "text/plain": [
              "int"
            ]
          },
          "metadata": {
            "tags": []
          },
          "execution_count": 67
        }
      ]
    },
    {
      "cell_type": "code",
      "metadata": {
        "colab": {
          "base_uri": "https://localhost:8080/"
        },
        "id": "yvvvw2eo-5gP",
        "outputId": "de632ab4-d920-4648-bfd6-8ea08d15c744"
      },
      "source": [
        "print(b)\n",
        "type(b)"
      ],
      "execution_count": null,
      "outputs": [
        {
          "output_type": "stream",
          "text": [
            "[5, 8, 6]\n"
          ],
          "name": "stdout"
        },
        {
          "output_type": "execute_result",
          "data": {
            "text/plain": [
              "list"
            ]
          },
          "metadata": {
            "tags": []
          },
          "execution_count": 68
        }
      ]
    },
    {
      "cell_type": "code",
      "metadata": {
        "colab": {
          "base_uri": "https://localhost:8080/"
        },
        "id": "J7Rm9l2_-60k",
        "outputId": "9cefdbd5-a074-46bd-ec2c-fa003e53cdb7"
      },
      "source": [
        "print(c)\n",
        "type(c)"
      ],
      "execution_count": null,
      "outputs": [
        {
          "output_type": "stream",
          "text": [
            "Quetzal\n"
          ],
          "name": "stdout"
        },
        {
          "output_type": "execute_result",
          "data": {
            "text/plain": [
              "str"
            ]
          },
          "metadata": {
            "tags": []
          },
          "execution_count": 69
        }
      ]
    },
    {
      "cell_type": "markdown",
      "metadata": {
        "id": "7I9QI8sH-_KR"
      },
      "source": [
        "Como podemos observar en los ejemplos de arriba las funciones Lambda operan de la misma forma que una función normal, con la principal diferencia que las funciones Lambda contienen una única expresión o instrucción a ejecutar en lugar de un bloque de instrucciones."
      ]
    }
  ]
}