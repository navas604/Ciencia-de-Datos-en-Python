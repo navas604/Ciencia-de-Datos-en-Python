{
 "cells": [
  {
   "cell_type": "markdown",
   "id": "orange-target",
   "metadata": {},
   "source": [
    "# TAREA No. 2\n",
    "# GIT y Control de Versiones"
   ]
  },
  {
   "cell_type": "code",
   "execution_count": null,
   "id": "grateful-masters",
   "metadata": {},
   "outputs": [],
   "source": []
  },
  {
   "cell_type": "markdown",
   "id": "exotic-privilege",
   "metadata": {},
   "source": [
    "### Ciencia de Datos en Python\n",
    "### Antonio Everardo Navas Contreras, 14003163"
   ]
  },
  {
   "cell_type": "code",
   "execution_count": null,
   "id": "literary-coordination",
   "metadata": {},
   "outputs": [],
   "source": []
  },
  {
   "cell_type": "markdown",
   "id": "equivalent-update",
   "metadata": {},
   "source": [
    "\n",
    "## Sistemas de Control de Versiones\n",
    "\n",
    "Son herramientas que se utilizan para llevar un registro o historial de los cambios que se realizan en el código fuente, archivos o carpetas. También son utilizados para trabajar en colaboración con otras personas, es decir, se puede llevar registro de los cambios de cada persona, también se puede hace una rama diferente para que una persona distinta pueda hacer uso y modificaciones sobre ella sin afectar la versión fuente, además también se puede hacer una unión de distintas ramas para obtener una sola versión.\n",
    "\n",
    "Los sistemas de control de versiones también tienen la capacidad de almacenar metadata, por ejemplo, el nombre de quién creó el archivo, quién realizó modificaciones, horarios, mensajes, y más información de utilidad al momento de identificar un cambio saber por qué se hizo.\n",
    "\n",
    "Para el caso que no se deba realizar un trabajo colaborativo también resulta útil un sistema de control de versiones porque a través de él se puede llevar una especie de log para ir documentando el por qué de cada cambio que se realice en cada versión.\n",
    "\n",
    "Existen muchos sistemas de control de versiones, sin embargo, Git se ha convertido en el estándar. Utiliza un modelo de datos que permite desde el control de versiones, colaboración, historial y un esquema de ramas.\n",
    "\n",
    "En Git se maneja la palabra “snapshot” para referirse al historico de una serie de archivos y carpetas que se encuentran en un mismo directorio o árbol.\n",
    "\n",
    "Git utiliza un modelo conocido como DAG (Directed Acyclic Graph) el cual se caracteriza por ser un grado dirigido que no tiene ciclos, es decir, no hay un camino que empiece en un vértice y regrese a él mismo, fluyen únicamente en una sola dirección.\n",
    "\n",
    "Cuando se realiza un “commit” entonces se genera un snapshot, estos commits en Git son inmutables, esto implica que cualquier edición que se realice al histórico únicamente se puede hacer creando un nuevo commit.\n",
    "\n",
    "Los OBJETOS en un Git se refiere a un blob, que es un archivo, a un árbol o a un commit. Los objetos se identifican con un SHA-1 hash, pero derivado que es una secuencia hexadecimal de 40 caracteres, resulta muy difícil recordarlo, entonces se utilizan las REFERENCIAS para poder utilizar nombres que sean legibles para los seres humanos. Estas referencias son punteros para los commits, y pueden ser actualizados para hacer referencia a un nuevo commit.\n",
    "\n",
    "Los REPOSITORIOS en Git se pueden definir como la data de los objetos y las referencias.\n",
    "\n",
    "En el STAGING AREA se puede decidir cuales son las modificaciones que se desean incluir en el siguiente commit.\n"
   ]
  },
  {
   "cell_type": "markdown",
   "id": "effective-raise",
   "metadata": {},
   "source": []
  },
  {
   "cell_type": "markdown",
   "id": "ranking-giant",
   "metadata": {},
   "source": [
    "Cambiarse al directorio de trabajo"
   ]
  },
  {
   "cell_type": "code",
   "execution_count": 1,
   "id": "opposite-perry",
   "metadata": {},
   "outputs": [
    {
     "name": "stdout",
     "output_type": "stream",
     "text": [
      "/Users/Navas/OneDrive - Universidad Galileo/MAC/Maestria Data Science/1er Trimestre/Ciencia de datos en Python\n"
     ]
    }
   ],
   "source": [
    "%cd /Users/Navas/OneDrive\\ -\\ Universidad\\ Galileo/MAC/Maestria\\ Data\\ Science/1er\\ Trimestre/Ciencia\\ de\\ datos\\ en\\ Python/"
   ]
  },
  {
   "cell_type": "markdown",
   "id": "unsigned-mortality",
   "metadata": {},
   "source": []
  },
  {
   "cell_type": "markdown",
   "id": "trained-resolution",
   "metadata": {},
   "source": [
    "### EJEMPLOS"
   ]
  },
  {
   "cell_type": "markdown",
   "id": "illegal-short",
   "metadata": {},
   "source": [
    "#### Ejemplo 1"
   ]
  },
  {
   "cell_type": "markdown",
   "id": "diagnostic-village",
   "metadata": {},
   "source": [
    "En esta celda iniciaremos con comandos de Sistema Operativo Unix, listando los los archivos y directorios del directorio en el que se está trabajando."
   ]
  },
  {
   "cell_type": "code",
   "execution_count": 2,
   "id": "disciplinary-penguin",
   "metadata": {},
   "outputs": [
    {
     "name": "stdout",
     "output_type": "stream",
     "text": [
      "Conda Commands.rtf\r\n",
      "\u001b[34mMaterial de Clase\u001b[m\u001b[m/\r\n",
      "\u001b[34mSceenshots\u001b[m\u001b[m/\r\n",
      "Tarea No. 1 - Anaconda, Git y GitHub.docx\r\n",
      "Tarea No. 2 - GIT y Control de Versiones.ipynb\r\n"
     ]
    }
   ],
   "source": [
    "%ls"
   ]
  },
  {
   "cell_type": "markdown",
   "id": "accepted-sociology",
   "metadata": {},
   "source": [
    "Listar en formato largo, junto con archivos ocultos y el tamaño del archivo con un formato legible"
   ]
  },
  {
   "cell_type": "code",
   "execution_count": 3,
   "id": "handed-infrastructure",
   "metadata": {},
   "outputs": [
    {
     "name": "stdout",
     "output_type": "stream",
     "text": [
      "total 744\r\n",
      "drwxr-xr-x@  9 Navas  staff   288B Feb 10 23:48 \u001b[34m.\u001b[m\u001b[m/\r\n",
      "drwxr-xr-x@  6 Navas  staff   192B Feb  3 17:52 \u001b[34m..\u001b[m\u001b[m/\r\n",
      "-rw-r--r--@  1 Navas  staff   6.0K Feb 10 23:48 .DS_Store\r\n",
      "drwxr-xr-x@  3 Navas  staff    96B Feb 10 21:39 \u001b[34m.ipynb_checkpoints\u001b[m\u001b[m/\r\n",
      "-rw-r--r--@  1 Navas  staff   511B Feb  3 17:14 Conda Commands.rtf\r\n",
      "drwxr-xr-x@ 18 Navas  staff   576B Feb  3 12:53 \u001b[34mMaterial de Clase\u001b[m\u001b[m/\r\n",
      "drwxr-xr-x@  7 Navas  staff   224B Feb  3 17:55 \u001b[34mSceenshots\u001b[m\u001b[m/\r\n",
      "-rw-r--r--@  1 Navas  staff   333K Feb  5 21:46 Tarea No. 1 - Anaconda, Git y GitHub.docx\r\n",
      "-rw-r--r--@  1 Navas  staff    24K Feb 10 23:47 Tarea No. 2 - GIT y Control de Versiones.ipynb\r\n"
     ]
    }
   ],
   "source": [
    "%ls -lah"
   ]
  },
  {
   "cell_type": "markdown",
   "id": "amateur-ground",
   "metadata": {},
   "source": [
    "Crear una carpeta llamada \"Tarea_2\""
   ]
  },
  {
   "cell_type": "code",
   "execution_count": 4,
   "id": "hazardous-livestock",
   "metadata": {},
   "outputs": [],
   "source": [
    "%mkdir Tarea_2"
   ]
  },
  {
   "cell_type": "markdown",
   "id": "medical-crazy",
   "metadata": {},
   "source": [
    "Cambiar el directorio activo a la carpeta test"
   ]
  },
  {
   "cell_type": "code",
   "execution_count": 5,
   "id": "loved-virginia",
   "metadata": {},
   "outputs": [
    {
     "name": "stdout",
     "output_type": "stream",
     "text": [
      "Conda Commands.rtf\n",
      "\u001b[34mMaterial de Clase\u001b[m\u001b[m/\n",
      "\u001b[34mSceenshots\u001b[m\u001b[m/\n",
      "Tarea No. 1 - Anaconda, Git y GitHub.docx\n",
      "Tarea No. 2 - GIT y Control de Versiones.ipynb\n",
      "\u001b[34mTarea_2\u001b[m\u001b[m/\n",
      "/Users/Navas/OneDrive - Universidad Galileo/MAC/Maestria Data Science/1er Trimestre/Ciencia de datos en Python/Tarea_2\n"
     ]
    }
   ],
   "source": [
    "%ls\n",
    "%cd Tarea_2"
   ]
  },
  {
   "cell_type": "code",
   "execution_count": 6,
   "id": "unavailable-banking",
   "metadata": {},
   "outputs": [
    {
     "name": "stdout",
     "output_type": "stream",
     "text": [
      "total 0\r\n",
      "drwxr-xr-x   2 Navas  staff    64B Feb 10 23:48 \u001b[34m.\u001b[m\u001b[m/\r\n",
      "drwxr-xr-x@ 10 Navas  staff   320B Feb 10 23:48 \u001b[34m..\u001b[m\u001b[m/\r\n"
     ]
    }
   ],
   "source": [
    "%ls -lah"
   ]
  },
  {
   "cell_type": "markdown",
   "id": "guilty-transcription",
   "metadata": {},
   "source": [
    "Conocer el estatus de git"
   ]
  },
  {
   "cell_type": "code",
   "execution_count": 7,
   "id": "loving-aging",
   "metadata": {},
   "outputs": [
    {
     "name": "stdout",
     "output_type": "stream",
     "text": [
      "On branch master\r\n",
      "\r\n",
      "No commits yet\r\n",
      "\r\n",
      "Untracked files:\r\n",
      "  (use \"git add <file>...\" to include in what will be committed)\r\n",
      "\r\n",
      "\t\u001b[31m../../../../../../.BrowserLock/\u001b[m\r\n",
      "\t\u001b[31m../../../../../../.CFUserTextEncoding\u001b[m\r\n",
      "\t\u001b[31m../../../../../../.DS_Store\u001b[m\r\n",
      "\t\u001b[31m../../../../../../.Trash/\u001b[m\r\n",
      "\t\u001b[31m../../../../../../.anaconda/\u001b[m\r\n",
      "\t\u001b[31m../../../../../../.anydesk/\u001b[m\r\n",
      "\t\u001b[31m../../../../../../.bash_history\u001b[m\r\n",
      "\t\u001b[31m../../../../../../.bash_profile\u001b[m\r\n",
      "\t\u001b[31m../../../../../../.bash_sessions/\u001b[m\r\n",
      "\t\u001b[31m../../../../../../.conda/\u001b[m\r\n",
      "\t\u001b[31m../../../../../../.condarc\u001b[m\r\n",
      "\t\u001b[31m../../../../../../.config/\u001b[m\r\n",
      "\t\u001b[31m../../../../../../.cups/\u001b[m\r\n",
      "\t\u001b[31m../../../../../../.docker/\u001b[m\r\n",
      "\t\u001b[31m../../../../../../.dropbox/\u001b[m\r\n",
      "\t\u001b[31m../../../../../../.ipython/\u001b[m\r\n",
      "\t\u001b[31m../../../../../../.jupyter/\u001b[m\r\n",
      "\t\u001b[31m../../../../../../.oracle_jre_usage/\u001b[m\r\n",
      "\t\u001b[31m../../../../../../.ovftool.ssldb\u001b[m\r\n",
      "\t\u001b[31m../../../../../../.putty/\u001b[m\r\n",
      "\t\u001b[31m../../../../../../.python_history\u001b[m\r\n",
      "\t\u001b[31m../../../../../../.ssh/\u001b[m\r\n",
      "\t\u001b[31m../../../../../../.viminfo\u001b[m\r\n",
      "\t\u001b[31m../../../../../../.vnc/\u001b[m\r\n",
      "\t\u001b[31m../../../../../../.webex/\u001b[m\r\n",
      "\t\u001b[31m../../../../../../Desktop/\u001b[m\r\n",
      "\t\u001b[31m../../../../../../Documents/\u001b[m\r\n",
      "\t\u001b[31m../../../../../../Downloads/\u001b[m\r\n",
      "\t\u001b[31m../../../../../../Dropbox/\u001b[m\r\n",
      "\t\u001b[31m../../../../../../Google Drive/\u001b[m\r\n",
      "\t\u001b[31m../../../../../../Library/\u001b[m\r\n",
      "\t\u001b[31m../../../../../../Movies/\u001b[m\r\n",
      "\t\u001b[31m../../../../../../Music/\u001b[m\r\n",
      "\t\u001b[31m../../../../../\u001b[m\r\n",
      "\t\u001b[31m../../../../../../Pictures/\u001b[m\r\n",
      "\t\u001b[31m../../../../../../Public/\u001b[m\r\n",
      "\t\u001b[31m../../../../../../Virtual Machines.localized/\u001b[m\r\n",
      "\t\u001b[31m../../../../../../Webtools/\u001b[m\r\n",
      "\t\u001b[31m../../../../../../go-docker/\u001b[m\r\n",
      "\r\n",
      "nothing added to commit but untracked files present (use \"git add\" to track)\r\n"
     ]
    }
   ],
   "source": [
    "!git status"
   ]
  },
  {
   "cell_type": "markdown",
   "id": "recovered-wrapping",
   "metadata": {},
   "source": [
    "Inicializar el repositorio, aca crea una carpeta oculta llamada .git"
   ]
  },
  {
   "cell_type": "code",
   "execution_count": 8,
   "id": "motivated-timothy",
   "metadata": {},
   "outputs": [
    {
     "name": "stdout",
     "output_type": "stream",
     "text": [
      "Initialized empty Git repository in /Users/Navas/OneDrive - Universidad Galileo/MAC/Maestria Data Science/1er Trimestre/Ciencia de datos en Python/Tarea_2/.git/\n",
      "total 0\n",
      "drwxr-xr-x   3 Navas  staff    96B Feb 10 23:48 \u001b[34m.\u001b[m\u001b[m/\n",
      "drwxr-xr-x@ 10 Navas  staff   320B Feb 10 23:48 \u001b[34m..\u001b[m\u001b[m/\n",
      "drwxr-xr-x   9 Navas  staff   288B Feb 10 23:48 \u001b[34m.git\u001b[m\u001b[m/\n"
     ]
    }
   ],
   "source": [
    "!git init\n",
    "%ls -lah"
   ]
  },
  {
   "cell_type": "code",
   "execution_count": 9,
   "id": "missing-things",
   "metadata": {},
   "outputs": [
    {
     "name": "stdout",
     "output_type": "stream",
     "text": [
      "On branch master\r\n",
      "\r\n",
      "No commits yet\r\n",
      "\r\n",
      "nothing to commit (create/copy files and use \"git add\" to track)\r\n"
     ]
    }
   ],
   "source": [
    "!git status"
   ]
  },
  {
   "cell_type": "code",
   "execution_count": 10,
   "id": "suitable-public",
   "metadata": {},
   "outputs": [
    {
     "name": "stdout",
     "output_type": "stream",
     "text": [
      "fatal: your current branch 'master' does not have any commits yet\r\n"
     ]
    }
   ],
   "source": [
    "!git log"
   ]
  },
  {
   "cell_type": "markdown",
   "id": "scientific-softball",
   "metadata": {},
   "source": [
    "Crear un archivo de texto"
   ]
  },
  {
   "cell_type": "code",
   "execution_count": 11,
   "id": "dirty-earth",
   "metadata": {},
   "outputs": [],
   "source": [
    "!> PrimerArchivo.txt"
   ]
  },
  {
   "cell_type": "markdown",
   "id": "valuable-tracker",
   "metadata": {},
   "source": [
    "Agregar datos al archivo de texto"
   ]
  },
  {
   "cell_type": "code",
   "execution_count": 12,
   "id": "strange-capitol",
   "metadata": {},
   "outputs": [],
   "source": [
    "!echo \"Primer texto en el primer archivo de texto\" > PrimerArchivo.txt"
   ]
  },
  {
   "cell_type": "markdown",
   "id": "automatic-pledge",
   "metadata": {},
   "source": [
    "Estatus del git"
   ]
  },
  {
   "cell_type": "code",
   "execution_count": 13,
   "id": "catholic-retailer",
   "metadata": {},
   "outputs": [
    {
     "name": "stdout",
     "output_type": "stream",
     "text": [
      "On branch master\r\n",
      "\r\n",
      "No commits yet\r\n",
      "\r\n",
      "Untracked files:\r\n",
      "  (use \"git add <file>...\" to include in what will be committed)\r\n",
      "\r\n",
      "\t\u001b[31mPrimerArchivo.txt\u001b[m\r\n",
      "\r\n",
      "nothing added to commit but untracked files present (use \"git add\" to track)\r\n"
     ]
    }
   ],
   "source": [
    "!git status"
   ]
  },
  {
   "cell_type": "markdown",
   "id": "ranking-yorkshire",
   "metadata": {},
   "source": [
    "Agregar el file \"PrimerArchivo.txt\" para tracking"
   ]
  },
  {
   "cell_type": "code",
   "execution_count": 14,
   "id": "certain-burst",
   "metadata": {},
   "outputs": [],
   "source": [
    "!git add PrimerArchivo.txt"
   ]
  },
  {
   "cell_type": "code",
   "execution_count": 15,
   "id": "involved-lesson",
   "metadata": {},
   "outputs": [
    {
     "name": "stdout",
     "output_type": "stream",
     "text": [
      "On branch master\r\n",
      "\r\n",
      "No commits yet\r\n",
      "\r\n",
      "Changes to be committed:\r\n",
      "  (use \"git rm --cached <file>...\" to unstage)\r\n",
      "\r\n",
      "\t\u001b[32mnew file:   PrimerArchivo.txt\u001b[m\r\n",
      "\r\n"
     ]
    }
   ],
   "source": [
    "!git status"
   ]
  },
  {
   "cell_type": "markdown",
   "id": "choice-volume",
   "metadata": {},
   "source": [
    "Haremos el primer commit"
   ]
  },
  {
   "cell_type": "code",
   "execution_count": 16,
   "id": "optimum-formula",
   "metadata": {},
   "outputs": [
    {
     "name": "stdout",
     "output_type": "stream",
     "text": [
      "[master (root-commit) a996388] Commit Primera version\r\n",
      " Committer: Antonio Navas <Navas@Antonios-MacBook-Pro.local>\r\n",
      "Your name and email address were configured automatically based\r\n",
      "on your username and hostname. Please check that they are accurate.\r\n",
      "You can suppress this message by setting them explicitly. Run the\r\n",
      "following command and follow the instructions in your editor to edit\r\n",
      "your configuration file:\r\n",
      "\r\n",
      "    git config --global --edit\r\n",
      "\r\n",
      "After doing this, you may fix the identity used for this commit with:\r\n",
      "\r\n",
      "    git commit --amend --reset-author\r\n",
      "\r\n",
      " 1 file changed, 1 insertion(+)\r\n",
      " create mode 100644 PrimerArchivo.txt\r\n"
     ]
    }
   ],
   "source": [
    "!git commit -m \"Commit Primera version\""
   ]
  },
  {
   "cell_type": "code",
   "execution_count": 17,
   "id": "caroline-raise",
   "metadata": {},
   "outputs": [
    {
     "name": "stdout",
     "output_type": "stream",
     "text": [
      "On branch master\r\n",
      "nothing to commit, working tree clean\r\n"
     ]
    }
   ],
   "source": [
    "!git status"
   ]
  },
  {
   "cell_type": "markdown",
   "id": "grateful-experience",
   "metadata": {},
   "source": [
    "Agregar 3 líneas mas al archivo de texto y crear un archivo nuevo"
   ]
  },
  {
   "cell_type": "code",
   "execution_count": 18,
   "id": "stupid-tuning",
   "metadata": {},
   "outputs": [],
   "source": [
    "!echo \"2 línea en primer archivo\" >> PrimerArchivo.txt\n",
    "!echo \"3 línea en primer archivo\" >> PrimerArchivo.txt\n",
    "!echo \"4 línea en primer archivo\" >> PrimerArchivo.txt\n",
    "!> archivo2.txt"
   ]
  },
  {
   "cell_type": "code",
   "execution_count": 19,
   "id": "laughing-praise",
   "metadata": {},
   "outputs": [
    {
     "name": "stdout",
     "output_type": "stream",
     "text": [
      "On branch master\r\n",
      "Changes not staged for commit:\r\n",
      "  (use \"git add <file>...\" to update what will be committed)\r\n",
      "  (use \"git checkout -- <file>...\" to discard changes in working directory)\r\n",
      "\r\n",
      "\t\u001b[31mmodified:   PrimerArchivo.txt\u001b[m\r\n",
      "\r\n",
      "Untracked files:\r\n",
      "  (use \"git add <file>...\" to include in what will be committed)\r\n",
      "\r\n",
      "\t\u001b[31marchivo2.txt\u001b[m\r\n",
      "\r\n",
      "no changes added to commit (use \"git add\" and/or \"git commit -a\")\r\n"
     ]
    }
   ],
   "source": [
    "!git status"
   ]
  },
  {
   "cell_type": "markdown",
   "id": "heard-variance",
   "metadata": {},
   "source": [
    "Segundo commit"
   ]
  },
  {
   "cell_type": "code",
   "execution_count": 20,
   "id": "expired-desktop",
   "metadata": {},
   "outputs": [
    {
     "name": "stdout",
     "output_type": "stream",
     "text": [
      "On branch master\r\n",
      "Changes not staged for commit:\r\n",
      "\t\u001b[31mmodified:   PrimerArchivo.txt\u001b[m\r\n",
      "\r\n",
      "Untracked files:\r\n",
      "\t\u001b[31marchivo2.txt\u001b[m\r\n",
      "\r\n",
      "no changes added to commit\r\n"
     ]
    }
   ],
   "source": [
    "!git commit -m \"Commit 2da version\""
   ]
  },
  {
   "cell_type": "code",
   "execution_count": 21,
   "id": "assured-registration",
   "metadata": {},
   "outputs": [
    {
     "name": "stdout",
     "output_type": "stream",
     "text": [
      "\u001b[33mcommit a9963887738749e21ff097133fb9af43aafa8f99\u001b[m\u001b[33m (\u001b[m\u001b[1;36mHEAD -> \u001b[m\u001b[1;32mmaster\u001b[m\u001b[33m)\u001b[m\r\n",
      "Author: Antonio Navas <Navas@Antonios-MacBook-Pro.local>\r\n",
      "Date:   Wed Feb 10 23:48:12 2021 -0600\r\n",
      "\r\n",
      "    Commit Primera version\r\n"
     ]
    }
   ],
   "source": [
    "!git log"
   ]
  },
  {
   "cell_type": "code",
   "execution_count": 22,
   "id": "rubber-repeat",
   "metadata": {},
   "outputs": [],
   "source": [
    "!git add archivo2.txt"
   ]
  },
  {
   "cell_type": "code",
   "execution_count": 23,
   "id": "changing-learning",
   "metadata": {},
   "outputs": [
    {
     "name": "stdout",
     "output_type": "stream",
     "text": [
      "On branch master\r\n",
      "Changes to be committed:\r\n",
      "  (use \"git reset HEAD <file>...\" to unstage)\r\n",
      "\r\n",
      "\t\u001b[32mnew file:   archivo2.txt\u001b[m\r\n",
      "\r\n",
      "Changes not staged for commit:\r\n",
      "  (use \"git add <file>...\" to update what will be committed)\r\n",
      "  (use \"git checkout -- <file>...\" to discard changes in working directory)\r\n",
      "\r\n",
      "\t\u001b[31mmodified:   PrimerArchivo.txt\u001b[m\r\n",
      "\r\n"
     ]
    }
   ],
   "source": [
    "!git status"
   ]
  },
  {
   "cell_type": "markdown",
   "id": "crucial-thing",
   "metadata": {},
   "source": [
    "Tercer commit"
   ]
  },
  {
   "cell_type": "code",
   "execution_count": 24,
   "id": "isolated-transparency",
   "metadata": {},
   "outputs": [
    {
     "name": "stdout",
     "output_type": "stream",
     "text": [
      "[master aa80852] Commit 3ra version\r\n",
      " Committer: Antonio Navas <Navas@Antonios-MacBook-Pro.local>\r\n",
      "Your name and email address were configured automatically based\r\n",
      "on your username and hostname. Please check that they are accurate.\r\n",
      "You can suppress this message by setting them explicitly. Run the\r\n",
      "following command and follow the instructions in your editor to edit\r\n",
      "your configuration file:\r\n",
      "\r\n",
      "    git config --global --edit\r\n",
      "\r\n",
      "After doing this, you may fix the identity used for this commit with:\r\n",
      "\r\n",
      "    git commit --amend --reset-author\r\n",
      "\r\n",
      " 1 file changed, 0 insertions(+), 0 deletions(-)\r\n",
      " create mode 100644 archivo2.txt\r\n"
     ]
    }
   ],
   "source": [
    "!git commit -m \"Commit 3ra version\""
   ]
  },
  {
   "cell_type": "code",
   "execution_count": 25,
   "id": "graphic-equivalent",
   "metadata": {},
   "outputs": [
    {
     "name": "stdout",
     "output_type": "stream",
     "text": [
      "\u001b[33mcommit aa808523c70dd59382c060da640b844798a5736f\u001b[m\u001b[33m (\u001b[m\u001b[1;36mHEAD -> \u001b[m\u001b[1;32mmaster\u001b[m\u001b[33m)\u001b[m\r\n",
      "Author: Antonio Navas <Navas@Antonios-MacBook-Pro.local>\r\n",
      "Date:   Wed Feb 10 23:48:13 2021 -0600\r\n",
      "\r\n",
      "    Commit 3ra version\r\n",
      "\r\n",
      "\u001b[33mcommit a9963887738749e21ff097133fb9af43aafa8f99\u001b[m\r\n",
      "Author: Antonio Navas <Navas@Antonios-MacBook-Pro.local>\r\n",
      "Date:   Wed Feb 10 23:48:12 2021 -0600\r\n",
      "\r\n",
      "    Commit Primera version\r\n"
     ]
    }
   ],
   "source": [
    "!git log"
   ]
  },
  {
   "cell_type": "markdown",
   "id": "french-illinois",
   "metadata": {},
   "source": [
    "Crear una nueva branch"
   ]
  },
  {
   "cell_type": "code",
   "execution_count": 26,
   "id": "sunset-lightweight",
   "metadata": {},
   "outputs": [
    {
     "name": "stdout",
     "output_type": "stream",
     "text": [
      "* \u001b[32mmaster\u001b[m\r\n"
     ]
    }
   ],
   "source": [
    "!git branch"
   ]
  },
  {
   "cell_type": "code",
   "execution_count": 27,
   "id": "authorized-lending",
   "metadata": {},
   "outputs": [
    {
     "name": "stdout",
     "output_type": "stream",
     "text": [
      "On branch master\r\n",
      "Changes not staged for commit:\r\n",
      "  (use \"git add <file>...\" to update what will be committed)\r\n",
      "  (use \"git checkout -- <file>...\" to discard changes in working directory)\r\n",
      "\r\n",
      "\t\u001b[31mmodified:   PrimerArchivo.txt\u001b[m\r\n",
      "\r\n",
      "no changes added to commit (use \"git add\" and/or \"git commit -a\")\r\n"
     ]
    }
   ],
   "source": [
    "!git status"
   ]
  },
  {
   "cell_type": "code",
   "execution_count": 28,
   "id": "athletic-application",
   "metadata": {},
   "outputs": [],
   "source": [
    "!git branch Segunda_Branch"
   ]
  },
  {
   "cell_type": "code",
   "execution_count": 29,
   "id": "pretty-prevention",
   "metadata": {},
   "outputs": [
    {
     "name": "stdout",
     "output_type": "stream",
     "text": [
      "  Segunda_Branch\u001b[m\r\n",
      "* \u001b[32mmaster\u001b[m\r\n"
     ]
    }
   ],
   "source": [
    "!git branch"
   ]
  },
  {
   "cell_type": "code",
   "execution_count": null,
   "id": "fleet-spank",
   "metadata": {},
   "outputs": [],
   "source": []
  },
  {
   "cell_type": "code",
   "execution_count": null,
   "id": "responsible-elite",
   "metadata": {},
   "outputs": [],
   "source": []
  }
 ],
 "metadata": {
  "kernelspec": {
   "display_name": "Python 3",
   "language": "python",
   "name": "python3"
  },
  "language_info": {
   "codemirror_mode": {
    "name": "ipython",
    "version": 3
   },
   "file_extension": ".py",
   "mimetype": "text/x-python",
   "name": "python",
   "nbconvert_exporter": "python",
   "pygments_lexer": "ipython3",
   "version": "3.9.1"
  }
 },
 "nbformat": 4,
 "nbformat_minor": 5
}
