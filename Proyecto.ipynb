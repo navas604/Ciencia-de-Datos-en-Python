{
  "nbformat": 4,
  "nbformat_minor": 0,
  "metadata": {
    "colab": {
      "name": "Proyecto.ipynb",
      "provenance": [],
      "collapsed_sections": [],
      "authorship_tag": "ABX9TyMVoStSgm8HkDK9A8G94n2c",
      "include_colab_link": true
    },
    "kernelspec": {
      "name": "python3",
      "display_name": "Python 3"
    },
    "language_info": {
      "name": "python"
    }
  },
  "cells": [
    {
      "cell_type": "markdown",
      "metadata": {
        "id": "view-in-github",
        "colab_type": "text"
      },
      "source": [
        "<a href=\"https://colab.research.google.com/github/navas604/Ciencia-de-Datos-en-Python/blob/main/Proyecto.ipynb\" target=\"_parent\"><img src=\"https://colab.research.google.com/assets/colab-badge.svg\" alt=\"Open In Colab\"/></a>"
      ]
    },
    {
      "cell_type": "markdown",
      "metadata": {
        "id": "8n5ihXRiD2V-"
      },
      "source": [
        "## **Universidad Galileo**\n",
        "## **Maestría en Data Science**\n",
        "## **Ciencia de Datos en Python**\n",
        "## **Antonio Everardo Navas Contreras, 14003163**\n",
        "## **07/04/2021**\n",
        "\n",
        "---\n",
        "\n",
        "## **PROYECTO**\n",
        "\n",
        "---"
      ]
    },
    {
      "cell_type": "markdown",
      "metadata": {
        "id": "-OvpCFp8M2oJ"
      },
      "source": [
        "### CARGAR LIBRERIAS"
      ]
    },
    {
      "cell_type": "code",
      "metadata": {
        "id": "0SX0M5CQAKGF"
      },
      "source": [
        "import numpy as np\n",
        "import seaborn as sns\n",
        "import matplotlib.pyplot as plt\n",
        "import pandas as pd\n",
        "from sklearn.linear_model import LinearRegression"
      ],
      "execution_count": 402,
      "outputs": []
    },
    {
      "cell_type": "markdown",
      "metadata": {
        "id": "iQ4PceHiM7e6"
      },
      "source": [
        "### CARGAR Y PREPARAR EL DATASET, SEPARAR EN TRAIN Y TEST"
      ]
    },
    {
      "cell_type": "code",
      "metadata": {
        "id": "5eQoAi6-AQqZ"
      },
      "source": [
        "# Cargar el Dataset original\n",
        "\n",
        "URL = \"proyecto_training_data.npy\"\n",
        "dataset = np.load(URL) "
      ],
      "execution_count": 3,
      "outputs": []
    },
    {
      "cell_type": "code",
      "metadata": {
        "colab": {
          "base_uri": "https://localhost:8080/"
        },
        "id": "tPwdPiCc8smP",
        "outputId": "655d887d-0ac2-4a1d-db7b-6d00d2208cee"
      },
      "source": [
        "dataset"
      ],
      "execution_count": 4,
      "outputs": [
        {
          "output_type": "execute_result",
          "data": {
            "text/plain": [
              "array([[2.08500e+05, 7.00000e+00, 8.56000e+02, 8.00000e+00, 2.00300e+03,\n",
              "        6.50000e+01],\n",
              "       [1.81500e+05, 6.00000e+00, 1.26200e+03, 6.00000e+00, 1.97600e+03,\n",
              "        8.00000e+01],\n",
              "       [2.23500e+05, 7.00000e+00, 9.20000e+02, 6.00000e+00, 2.00100e+03,\n",
              "        6.80000e+01],\n",
              "       ...,\n",
              "       [2.66500e+05, 7.00000e+00, 1.18800e+03, 9.00000e+00, 1.94100e+03,\n",
              "        6.60000e+01],\n",
              "       [1.42125e+05, 5.00000e+00, 1.07800e+03, 5.00000e+00, 1.95000e+03,\n",
              "        6.80000e+01],\n",
              "       [1.47500e+05, 5.00000e+00, 1.25600e+03, 6.00000e+00, 1.96500e+03,\n",
              "        7.50000e+01]])"
            ]
          },
          "metadata": {
            "tags": []
          },
          "execution_count": 4
        }
      ]
    },
    {
      "cell_type": "code",
      "metadata": {
        "colab": {
          "base_uri": "https://localhost:8080/"
        },
        "id": "Qz2mnh0h7jmf",
        "outputId": "11672540-0903-4f7b-c0cb-bbb78262479f"
      },
      "source": [
        "# Explorando el Dataset\n",
        "\n",
        "print(\"Dataset Shape:       \", dataset.shape)\n",
        "print(\"Dataset type:        \", type(dataset))\n",
        "print(\"Dataset nan values:  \", np.isnan(dataset).sum())"
      ],
      "execution_count": 5,
      "outputs": [
        {
          "output_type": "stream",
          "text": [
            "Dataset Shape:        (1460, 6)\n",
            "Dataset type:         <class 'numpy.ndarray'>\n",
            "Dataset nan values:   259\n"
          ],
          "name": "stdout"
        }
      ]
    },
    {
      "cell_type": "code",
      "metadata": {
        "id": "dS-mjVtN7aT5",
        "colab": {
          "base_uri": "https://localhost:8080/"
        },
        "outputId": "bca3b847-78f4-4274-be0c-49c6447bb7ad"
      },
      "source": [
        "# Limpiar el dataset de valores \"nan\"\n",
        "\n",
        "dataset = dataset[~np.isnan(dataset).any(axis=1)]\n",
        "\n",
        "print(\"Dataset Shape:       \", dataset.shape)\n",
        "print(\"Dataset type:        \", type(dataset))\n",
        "print(\"Dataset nan values:  \", np.isnan(dataset).sum())"
      ],
      "execution_count": 6,
      "outputs": [
        {
          "output_type": "stream",
          "text": [
            "Dataset Shape:        (1201, 6)\n",
            "Dataset type:         <class 'numpy.ndarray'>\n",
            "Dataset nan values:   0\n"
          ],
          "name": "stdout"
        }
      ]
    },
    {
      "cell_type": "code",
      "metadata": {
        "colab": {
          "base_uri": "https://localhost:8080/",
          "height": 419
        },
        "id": "eZztwf15ziA4",
        "outputId": "67f5dcbd-b685-495c-af36-1e0c1de61392"
      },
      "source": [
        "# Convertirlo a DataFrame\n",
        "\n",
        "variables = list([\"SalePrice\", \"OverallQual\", \"1stFlrSF\", \"TotRmsAbvGrd\", \"YearBuilt\", \"LotFrontage\"])\n",
        "\n",
        "df = pd.DataFrame(dataset, columns=variables)\n",
        "\n",
        "df"
      ],
      "execution_count": 7,
      "outputs": [
        {
          "output_type": "execute_result",
          "data": {
            "text/html": [
              "<div>\n",
              "<style scoped>\n",
              "    .dataframe tbody tr th:only-of-type {\n",
              "        vertical-align: middle;\n",
              "    }\n",
              "\n",
              "    .dataframe tbody tr th {\n",
              "        vertical-align: top;\n",
              "    }\n",
              "\n",
              "    .dataframe thead th {\n",
              "        text-align: right;\n",
              "    }\n",
              "</style>\n",
              "<table border=\"1\" class=\"dataframe\">\n",
              "  <thead>\n",
              "    <tr style=\"text-align: right;\">\n",
              "      <th></th>\n",
              "      <th>SalePrice</th>\n",
              "      <th>OverallQual</th>\n",
              "      <th>1stFlrSF</th>\n",
              "      <th>TotRmsAbvGrd</th>\n",
              "      <th>YearBuilt</th>\n",
              "      <th>LotFrontage</th>\n",
              "    </tr>\n",
              "  </thead>\n",
              "  <tbody>\n",
              "    <tr>\n",
              "      <th>0</th>\n",
              "      <td>208500.0</td>\n",
              "      <td>7.0</td>\n",
              "      <td>856.0</td>\n",
              "      <td>8.0</td>\n",
              "      <td>2003.0</td>\n",
              "      <td>65.0</td>\n",
              "    </tr>\n",
              "    <tr>\n",
              "      <th>1</th>\n",
              "      <td>181500.0</td>\n",
              "      <td>6.0</td>\n",
              "      <td>1262.0</td>\n",
              "      <td>6.0</td>\n",
              "      <td>1976.0</td>\n",
              "      <td>80.0</td>\n",
              "    </tr>\n",
              "    <tr>\n",
              "      <th>2</th>\n",
              "      <td>223500.0</td>\n",
              "      <td>7.0</td>\n",
              "      <td>920.0</td>\n",
              "      <td>6.0</td>\n",
              "      <td>2001.0</td>\n",
              "      <td>68.0</td>\n",
              "    </tr>\n",
              "    <tr>\n",
              "      <th>3</th>\n",
              "      <td>140000.0</td>\n",
              "      <td>7.0</td>\n",
              "      <td>961.0</td>\n",
              "      <td>7.0</td>\n",
              "      <td>1915.0</td>\n",
              "      <td>60.0</td>\n",
              "    </tr>\n",
              "    <tr>\n",
              "      <th>4</th>\n",
              "      <td>250000.0</td>\n",
              "      <td>8.0</td>\n",
              "      <td>1145.0</td>\n",
              "      <td>9.0</td>\n",
              "      <td>2000.0</td>\n",
              "      <td>84.0</td>\n",
              "    </tr>\n",
              "    <tr>\n",
              "      <th>...</th>\n",
              "      <td>...</td>\n",
              "      <td>...</td>\n",
              "      <td>...</td>\n",
              "      <td>...</td>\n",
              "      <td>...</td>\n",
              "      <td>...</td>\n",
              "    </tr>\n",
              "    <tr>\n",
              "      <th>1196</th>\n",
              "      <td>175000.0</td>\n",
              "      <td>6.0</td>\n",
              "      <td>953.0</td>\n",
              "      <td>7.0</td>\n",
              "      <td>1999.0</td>\n",
              "      <td>62.0</td>\n",
              "    </tr>\n",
              "    <tr>\n",
              "      <th>1197</th>\n",
              "      <td>210000.0</td>\n",
              "      <td>6.0</td>\n",
              "      <td>2073.0</td>\n",
              "      <td>7.0</td>\n",
              "      <td>1978.0</td>\n",
              "      <td>85.0</td>\n",
              "    </tr>\n",
              "    <tr>\n",
              "      <th>1198</th>\n",
              "      <td>266500.0</td>\n",
              "      <td>7.0</td>\n",
              "      <td>1188.0</td>\n",
              "      <td>9.0</td>\n",
              "      <td>1941.0</td>\n",
              "      <td>66.0</td>\n",
              "    </tr>\n",
              "    <tr>\n",
              "      <th>1199</th>\n",
              "      <td>142125.0</td>\n",
              "      <td>5.0</td>\n",
              "      <td>1078.0</td>\n",
              "      <td>5.0</td>\n",
              "      <td>1950.0</td>\n",
              "      <td>68.0</td>\n",
              "    </tr>\n",
              "    <tr>\n",
              "      <th>1200</th>\n",
              "      <td>147500.0</td>\n",
              "      <td>5.0</td>\n",
              "      <td>1256.0</td>\n",
              "      <td>6.0</td>\n",
              "      <td>1965.0</td>\n",
              "      <td>75.0</td>\n",
              "    </tr>\n",
              "  </tbody>\n",
              "</table>\n",
              "<p>1201 rows × 6 columns</p>\n",
              "</div>"
            ],
            "text/plain": [
              "      SalePrice  OverallQual  1stFlrSF  TotRmsAbvGrd  YearBuilt  LotFrontage\n",
              "0      208500.0          7.0     856.0           8.0     2003.0         65.0\n",
              "1      181500.0          6.0    1262.0           6.0     1976.0         80.0\n",
              "2      223500.0          7.0     920.0           6.0     2001.0         68.0\n",
              "3      140000.0          7.0     961.0           7.0     1915.0         60.0\n",
              "4      250000.0          8.0    1145.0           9.0     2000.0         84.0\n",
              "...         ...          ...       ...           ...        ...          ...\n",
              "1196   175000.0          6.0     953.0           7.0     1999.0         62.0\n",
              "1197   210000.0          6.0    2073.0           7.0     1978.0         85.0\n",
              "1198   266500.0          7.0    1188.0           9.0     1941.0         66.0\n",
              "1199   142125.0          5.0    1078.0           5.0     1950.0         68.0\n",
              "1200   147500.0          5.0    1256.0           6.0     1965.0         75.0\n",
              "\n",
              "[1201 rows x 6 columns]"
            ]
          },
          "metadata": {
            "tags": []
          },
          "execution_count": 7
        }
      ]
    },
    {
      "cell_type": "code",
      "metadata": {
        "colab": {
          "base_uri": "https://localhost:8080/"
        },
        "id": "EqkcZZbb1Daa",
        "outputId": "b7cc1320-30ef-43da-c1b4-9947017ace44"
      },
      "source": [
        "# Revisar el tipo de las variables\n",
        "\n",
        "print(df.dtypes)"
      ],
      "execution_count": 8,
      "outputs": [
        {
          "output_type": "stream",
          "text": [
            "SalePrice       float64\n",
            "OverallQual     float64\n",
            "1stFlrSF        float64\n",
            "TotRmsAbvGrd    float64\n",
            "YearBuilt       float64\n",
            "LotFrontage     float64\n",
            "dtype: object\n"
          ],
          "name": "stdout"
        }
      ]
    },
    {
      "cell_type": "code",
      "metadata": {
        "id": "jceMYFlWQNqP",
        "colab": {
          "base_uri": "https://localhost:8080/"
        },
        "outputId": "fa012fca-d5d9-4a55-aba6-9fb1e3e0e15b"
      },
      "source": [
        "# Convertir algunas variables a enteros\n",
        "df[\"OverallQual\"] = df[\"OverallQual\"].astype(int)\n",
        "df[\"TotRmsAbvGrd\"] = df[\"TotRmsAbvGrd\"].astype(int)\n",
        "df[\"YearBuilt\"] = df[\"YearBuilt\"].astype(int)\n",
        "\n",
        "print(df.dtypes)"
      ],
      "execution_count": 9,
      "outputs": [
        {
          "output_type": "stream",
          "text": [
            "SalePrice       float64\n",
            "OverallQual       int64\n",
            "1stFlrSF        float64\n",
            "TotRmsAbvGrd      int64\n",
            "YearBuilt         int64\n",
            "LotFrontage     float64\n",
            "dtype: object\n"
          ],
          "name": "stdout"
        }
      ]
    },
    {
      "cell_type": "code",
      "metadata": {
        "colab": {
          "base_uri": "https://localhost:8080/",
          "height": 419
        },
        "id": "yIjT1CaiDybO",
        "outputId": "10a6d1d4-8fc5-4591-df4b-4ca6f9b6b2a2"
      },
      "source": [
        "df"
      ],
      "execution_count": 10,
      "outputs": [
        {
          "output_type": "execute_result",
          "data": {
            "text/html": [
              "<div>\n",
              "<style scoped>\n",
              "    .dataframe tbody tr th:only-of-type {\n",
              "        vertical-align: middle;\n",
              "    }\n",
              "\n",
              "    .dataframe tbody tr th {\n",
              "        vertical-align: top;\n",
              "    }\n",
              "\n",
              "    .dataframe thead th {\n",
              "        text-align: right;\n",
              "    }\n",
              "</style>\n",
              "<table border=\"1\" class=\"dataframe\">\n",
              "  <thead>\n",
              "    <tr style=\"text-align: right;\">\n",
              "      <th></th>\n",
              "      <th>SalePrice</th>\n",
              "      <th>OverallQual</th>\n",
              "      <th>1stFlrSF</th>\n",
              "      <th>TotRmsAbvGrd</th>\n",
              "      <th>YearBuilt</th>\n",
              "      <th>LotFrontage</th>\n",
              "    </tr>\n",
              "  </thead>\n",
              "  <tbody>\n",
              "    <tr>\n",
              "      <th>0</th>\n",
              "      <td>208500.0</td>\n",
              "      <td>7</td>\n",
              "      <td>856.0</td>\n",
              "      <td>8</td>\n",
              "      <td>2003</td>\n",
              "      <td>65.0</td>\n",
              "    </tr>\n",
              "    <tr>\n",
              "      <th>1</th>\n",
              "      <td>181500.0</td>\n",
              "      <td>6</td>\n",
              "      <td>1262.0</td>\n",
              "      <td>6</td>\n",
              "      <td>1976</td>\n",
              "      <td>80.0</td>\n",
              "    </tr>\n",
              "    <tr>\n",
              "      <th>2</th>\n",
              "      <td>223500.0</td>\n",
              "      <td>7</td>\n",
              "      <td>920.0</td>\n",
              "      <td>6</td>\n",
              "      <td>2001</td>\n",
              "      <td>68.0</td>\n",
              "    </tr>\n",
              "    <tr>\n",
              "      <th>3</th>\n",
              "      <td>140000.0</td>\n",
              "      <td>7</td>\n",
              "      <td>961.0</td>\n",
              "      <td>7</td>\n",
              "      <td>1915</td>\n",
              "      <td>60.0</td>\n",
              "    </tr>\n",
              "    <tr>\n",
              "      <th>4</th>\n",
              "      <td>250000.0</td>\n",
              "      <td>8</td>\n",
              "      <td>1145.0</td>\n",
              "      <td>9</td>\n",
              "      <td>2000</td>\n",
              "      <td>84.0</td>\n",
              "    </tr>\n",
              "    <tr>\n",
              "      <th>...</th>\n",
              "      <td>...</td>\n",
              "      <td>...</td>\n",
              "      <td>...</td>\n",
              "      <td>...</td>\n",
              "      <td>...</td>\n",
              "      <td>...</td>\n",
              "    </tr>\n",
              "    <tr>\n",
              "      <th>1196</th>\n",
              "      <td>175000.0</td>\n",
              "      <td>6</td>\n",
              "      <td>953.0</td>\n",
              "      <td>7</td>\n",
              "      <td>1999</td>\n",
              "      <td>62.0</td>\n",
              "    </tr>\n",
              "    <tr>\n",
              "      <th>1197</th>\n",
              "      <td>210000.0</td>\n",
              "      <td>6</td>\n",
              "      <td>2073.0</td>\n",
              "      <td>7</td>\n",
              "      <td>1978</td>\n",
              "      <td>85.0</td>\n",
              "    </tr>\n",
              "    <tr>\n",
              "      <th>1198</th>\n",
              "      <td>266500.0</td>\n",
              "      <td>7</td>\n",
              "      <td>1188.0</td>\n",
              "      <td>9</td>\n",
              "      <td>1941</td>\n",
              "      <td>66.0</td>\n",
              "    </tr>\n",
              "    <tr>\n",
              "      <th>1199</th>\n",
              "      <td>142125.0</td>\n",
              "      <td>5</td>\n",
              "      <td>1078.0</td>\n",
              "      <td>5</td>\n",
              "      <td>1950</td>\n",
              "      <td>68.0</td>\n",
              "    </tr>\n",
              "    <tr>\n",
              "      <th>1200</th>\n",
              "      <td>147500.0</td>\n",
              "      <td>5</td>\n",
              "      <td>1256.0</td>\n",
              "      <td>6</td>\n",
              "      <td>1965</td>\n",
              "      <td>75.0</td>\n",
              "    </tr>\n",
              "  </tbody>\n",
              "</table>\n",
              "<p>1201 rows × 6 columns</p>\n",
              "</div>"
            ],
            "text/plain": [
              "      SalePrice  OverallQual  1stFlrSF  TotRmsAbvGrd  YearBuilt  LotFrontage\n",
              "0      208500.0            7     856.0             8       2003         65.0\n",
              "1      181500.0            6    1262.0             6       1976         80.0\n",
              "2      223500.0            7     920.0             6       2001         68.0\n",
              "3      140000.0            7     961.0             7       1915         60.0\n",
              "4      250000.0            8    1145.0             9       2000         84.0\n",
              "...         ...          ...       ...           ...        ...          ...\n",
              "1196   175000.0            6     953.0             7       1999         62.0\n",
              "1197   210000.0            6    2073.0             7       1978         85.0\n",
              "1198   266500.0            7    1188.0             9       1941         66.0\n",
              "1199   142125.0            5    1078.0             5       1950         68.0\n",
              "1200   147500.0            5    1256.0             6       1965         75.0\n",
              "\n",
              "[1201 rows x 6 columns]"
            ]
          },
          "metadata": {
            "tags": []
          },
          "execution_count": 10
        }
      ]
    },
    {
      "cell_type": "code",
      "metadata": {
        "colab": {
          "base_uri": "https://localhost:8080/"
        },
        "id": "Qsqu2yZPF_4Q",
        "outputId": "88aea7d7-627e-43ab-d1d7-c26a563acf1c"
      },
      "source": [
        "# Separar dataframe en Train y Test\n",
        "\n",
        "rows, columns = df.shape\n",
        "\n",
        "train = df.loc[:int(rows*0.8),]\n",
        "test = df.loc[int(rows*0.8)+1:,]\n",
        "\n",
        "print(\"Train shape: \", train.shape)\n",
        "print(\"Test shape:  \", test.shape)"
      ],
      "execution_count": 11,
      "outputs": [
        {
          "output_type": "stream",
          "text": [
            "Train shape:  (961, 6)\n",
            "Test shape:   (240, 6)\n"
          ],
          "name": "stdout"
        }
      ]
    },
    {
      "cell_type": "code",
      "metadata": {
        "colab": {
          "base_uri": "https://localhost:8080/"
        },
        "id": "Wpv8NnxP-AWd",
        "outputId": "1198c8ed-4268-40ed-abb0-104a9d3a55a4"
      },
      "source": [
        "print(train)\n",
        "print(test)"
      ],
      "execution_count": 12,
      "outputs": [
        {
          "output_type": "stream",
          "text": [
            "     SalePrice  OverallQual  1stFlrSF  TotRmsAbvGrd  YearBuilt  LotFrontage\n",
            "0     208500.0            7     856.0             8       2003         65.0\n",
            "1     181500.0            6    1262.0             6       1976         80.0\n",
            "2     223500.0            7     920.0             6       2001         68.0\n",
            "3     140000.0            7     961.0             7       1915         60.0\n",
            "4     250000.0            8    1145.0             9       2000         84.0\n",
            "..         ...          ...       ...           ...        ...          ...\n",
            "956   146000.0            6     855.0             7       1978         24.0\n",
            "957   129000.0            5     894.0             5       1968        109.0\n",
            "958   108959.0            4    1258.0             6       1969         60.0\n",
            "959   233170.0            7    1502.0             7       2009         79.0\n",
            "960   245350.0            8    1694.0             7       2008         64.0\n",
            "\n",
            "[961 rows x 6 columns]\n",
            "      SalePrice  OverallQual  1stFlrSF  TotRmsAbvGrd  YearBuilt  LotFrontage\n",
            "961    173000.0            6     959.0             7       2000         58.0\n",
            "962    235000.0            6    1236.0             7       1935        120.0\n",
            "963    625000.0           10    1831.0            10       1995        118.0\n",
            "964    171000.0            6    1118.0             6       1977         76.0\n",
            "965    163000.0            6    1261.0             6       1958         76.0\n",
            "...         ...          ...       ...           ...        ...          ...\n",
            "1196   175000.0            6     953.0             7       1999         62.0\n",
            "1197   210000.0            6    2073.0             7       1978         85.0\n",
            "1198   266500.0            7    1188.0             9       1941         66.0\n",
            "1199   142125.0            5    1078.0             5       1950         68.0\n",
            "1200   147500.0            5    1256.0             6       1965         75.0\n",
            "\n",
            "[240 rows x 6 columns]\n"
          ],
          "name": "stdout"
        }
      ]
    },
    {
      "cell_type": "markdown",
      "metadata": {
        "id": "odhcSiS4Mumw"
      },
      "source": [
        "### ANALISIS EXPLORATORIO"
      ]
    },
    {
      "cell_type": "code",
      "metadata": {
        "colab": {
          "base_uri": "https://localhost:8080/",
          "height": 297
        },
        "id": "Spt05sCvsnFt",
        "outputId": "2a96705e-e0d8-43fb-bf53-db4f15a97a69"
      },
      "source": [
        "# Estadística descrip\btiva utilizando la función .describe() de la librería pandas\n",
        "\n",
        "round(train.describe(), 2)"
      ],
      "execution_count": 13,
      "outputs": [
        {
          "output_type": "execute_result",
          "data": {
            "text/html": [
              "<div>\n",
              "<style scoped>\n",
              "    .dataframe tbody tr th:only-of-type {\n",
              "        vertical-align: middle;\n",
              "    }\n",
              "\n",
              "    .dataframe tbody tr th {\n",
              "        vertical-align: top;\n",
              "    }\n",
              "\n",
              "    .dataframe thead th {\n",
              "        text-align: right;\n",
              "    }\n",
              "</style>\n",
              "<table border=\"1\" class=\"dataframe\">\n",
              "  <thead>\n",
              "    <tr style=\"text-align: right;\">\n",
              "      <th></th>\n",
              "      <th>SalePrice</th>\n",
              "      <th>OverallQual</th>\n",
              "      <th>1stFlrSF</th>\n",
              "      <th>TotRmsAbvGrd</th>\n",
              "      <th>YearBuilt</th>\n",
              "      <th>LotFrontage</th>\n",
              "    </tr>\n",
              "  </thead>\n",
              "  <tbody>\n",
              "    <tr>\n",
              "      <th>count</th>\n",
              "      <td>961.00</td>\n",
              "      <td>961.00</td>\n",
              "      <td>961.00</td>\n",
              "      <td>961.00</td>\n",
              "      <td>961.00</td>\n",
              "      <td>961.00</td>\n",
              "    </tr>\n",
              "    <tr>\n",
              "      <th>mean</th>\n",
              "      <td>181002.57</td>\n",
              "      <td>6.12</td>\n",
              "      <td>1155.83</td>\n",
              "      <td>6.50</td>\n",
              "      <td>1970.64</td>\n",
              "      <td>69.96</td>\n",
              "    </tr>\n",
              "    <tr>\n",
              "      <th>std</th>\n",
              "      <td>83374.26</td>\n",
              "      <td>1.42</td>\n",
              "      <td>372.73</td>\n",
              "      <td>1.62</td>\n",
              "      <td>31.55</td>\n",
              "      <td>23.49</td>\n",
              "    </tr>\n",
              "    <tr>\n",
              "      <th>min</th>\n",
              "      <td>34900.00</td>\n",
              "      <td>1.00</td>\n",
              "      <td>334.00</td>\n",
              "      <td>2.00</td>\n",
              "      <td>1875.00</td>\n",
              "      <td>21.00</td>\n",
              "    </tr>\n",
              "    <tr>\n",
              "      <th>25%</th>\n",
              "      <td>127500.00</td>\n",
              "      <td>5.00</td>\n",
              "      <td>877.00</td>\n",
              "      <td>5.00</td>\n",
              "      <td>1950.00</td>\n",
              "      <td>59.00</td>\n",
              "    </tr>\n",
              "    <tr>\n",
              "      <th>50%</th>\n",
              "      <td>159500.00</td>\n",
              "      <td>6.00</td>\n",
              "      <td>1086.00</td>\n",
              "      <td>6.00</td>\n",
              "      <td>1972.00</td>\n",
              "      <td>70.00</td>\n",
              "    </tr>\n",
              "    <tr>\n",
              "      <th>75%</th>\n",
              "      <td>214000.00</td>\n",
              "      <td>7.00</td>\n",
              "      <td>1391.00</td>\n",
              "      <td>7.00</td>\n",
              "      <td>2003.00</td>\n",
              "      <td>80.00</td>\n",
              "    </tr>\n",
              "    <tr>\n",
              "      <th>max</th>\n",
              "      <td>755000.00</td>\n",
              "      <td>10.00</td>\n",
              "      <td>3138.00</td>\n",
              "      <td>14.00</td>\n",
              "      <td>2010.00</td>\n",
              "      <td>313.00</td>\n",
              "    </tr>\n",
              "  </tbody>\n",
              "</table>\n",
              "</div>"
            ],
            "text/plain": [
              "       SalePrice  OverallQual  1stFlrSF  TotRmsAbvGrd  YearBuilt  LotFrontage\n",
              "count     961.00       961.00    961.00        961.00     961.00       961.00\n",
              "mean   181002.57         6.12   1155.83          6.50    1970.64        69.96\n",
              "std     83374.26         1.42    372.73          1.62      31.55        23.49\n",
              "min     34900.00         1.00    334.00          2.00    1875.00        21.00\n",
              "25%    127500.00         5.00    877.00          5.00    1950.00        59.00\n",
              "50%    159500.00         6.00   1086.00          6.00    1972.00        70.00\n",
              "75%    214000.00         7.00   1391.00          7.00    2003.00        80.00\n",
              "max    755000.00        10.00   3138.00         14.00    2010.00       313.00"
            ]
          },
          "metadata": {
            "tags": []
          },
          "execution_count": 13
        }
      ]
    },
    {
      "cell_type": "code",
      "metadata": {
        "colab": {
          "base_uri": "https://localhost:8080/"
        },
        "id": "BvAtZSsk_H1A",
        "outputId": "b26aeffe-0800-419f-9745-f0df5a79d7c4"
      },
      "source": [
        "# Media utilizando la librería numpy\n",
        "\n",
        "print(\" VARIABLE         MEDIA \\n\\n\", round(np.mean(train, axis=0), 2))"
      ],
      "execution_count": 14,
      "outputs": [
        {
          "output_type": "stream",
          "text": [
            " VARIABLE         MEDIA \n",
            "\n",
            " SalePrice       181002.57\n",
            "OverallQual          6.12\n",
            "1stFlrSF          1155.83\n",
            "TotRmsAbvGrd         6.50\n",
            "YearBuilt         1970.64\n",
            "LotFrontage         69.96\n",
            "dtype: float64\n"
          ],
          "name": "stdout"
        }
      ]
    },
    {
      "cell_type": "code",
      "metadata": {
        "colab": {
          "base_uri": "https://localhost:8080/"
        },
        "id": "OD-7z_UNCPte",
        "outputId": "2eb2962b-2e97-4265-b2f3-86fe2b778e4f"
      },
      "source": [
        "# Valor Máximo utilizando la librería numpy\n",
        "\n",
        "print(\" VARIABLE      VALOR MAXIMO \\n\\n\", np.max(train, axis=0))"
      ],
      "execution_count": 15,
      "outputs": [
        {
          "output_type": "stream",
          "text": [
            " VARIABLE      VALOR MAXIMO \n",
            "\n",
            " SalePrice       755000.0\n",
            "OverallQual         10.0\n",
            "1stFlrSF          3138.0\n",
            "TotRmsAbvGrd        14.0\n",
            "YearBuilt         2010.0\n",
            "LotFrontage        313.0\n",
            "dtype: float64\n"
          ],
          "name": "stdout"
        }
      ]
    },
    {
      "cell_type": "code",
      "metadata": {
        "colab": {
          "base_uri": "https://localhost:8080/"
        },
        "id": "PhMdBUD_CPhU",
        "outputId": "ded6950c-bfca-4c3d-c5fc-1b1484901845"
      },
      "source": [
        "# Valor Mínimo utilizando la librería numpy\n",
        "\n",
        "print(\" VARIABLE      VALOR MINIMO \\n\\n\", np.min(train, axis=0))"
      ],
      "execution_count": 16,
      "outputs": [
        {
          "output_type": "stream",
          "text": [
            " VARIABLE      VALOR MINIMO \n",
            "\n",
            " SalePrice       34900.0\n",
            "OverallQual         1.0\n",
            "1stFlrSF          334.0\n",
            "TotRmsAbvGrd        2.0\n",
            "YearBuilt        1875.0\n",
            "LotFrontage        21.0\n",
            "dtype: float64\n"
          ],
          "name": "stdout"
        }
      ]
    },
    {
      "cell_type": "code",
      "metadata": {
        "colab": {
          "base_uri": "https://localhost:8080/"
        },
        "id": "q_FEDyLLCPUp",
        "outputId": "9f1d7774-21f6-4ab6-b768-9aa3dbbf4b55"
      },
      "source": [
        "# Desviación Estándar utilizando la librería numpy\n",
        "\n",
        "print(\" VARIABLE    DESVIACION ESTANDAR \\n\\n\", round(np.std(train, axis=0), 2))"
      ],
      "execution_count": 17,
      "outputs": [
        {
          "output_type": "stream",
          "text": [
            " VARIABLE    DESVIACION ESTANDAR \n",
            "\n",
            " SalePrice       83330.87\n",
            "OverallQual         1.42\n",
            "1stFlrSF          372.53\n",
            "TotRmsAbvGrd        1.62\n",
            "YearBuilt          31.53\n",
            "LotFrontage        23.47\n",
            "dtype: float64\n"
          ],
          "name": "stdout"
        }
      ]
    },
    {
      "cell_type": "code",
      "metadata": {
        "colab": {
          "base_uri": "https://localhost:8080/",
          "height": 497
        },
        "id": "KvUi9o7xDXkG",
        "outputId": "2d86b21e-f9dd-4f0d-e462-9f511c254d33"
      },
      "source": [
        "# Histograma de cada variable\n",
        "\n",
        "plt.figure(figsize=(18, 8))\n",
        "plt.subplots_adjust(hspace=0.4)\n",
        "\n",
        "colors = [\"r\", \"g\", \"b\", \"c\", \"m\", \"y\"]\n",
        "\n",
        "for i in range(columns):\n",
        "  plt.subplot(2, 3, i+1)\n",
        "  sns.histplot(train.iloc[:,i], kde=True, color=colors[i])\n",
        "\n",
        "plt.show()  "
      ],
      "execution_count": 18,
      "outputs": [
        {
          "output_type": "display_data",
          "data": {
            "image/png": "[encoded data removed]",
            "text/plain": [
              "<Figure size 1296x576 with 6 Axes>"
            ]
          },
          "metadata": {
            "tags": [],
            "needs_background": "light"
          }
        }
      ]
    },
    {
      "cell_type": "code",
      "metadata": {
        "id": "-yIOx6_yDXfF",
        "colab": {
          "base_uri": "https://localhost:8080/",
          "height": 235
        },
        "outputId": "c6b3c6dc-2cec-47bf-a765-11207891c0a2"
      },
      "source": [
        "# Matriz de Correlación entre todas las variables\n",
        "\n",
        "corr_matrix = round(train.corr(), 2)\n",
        "corr_matrix"
      ],
      "execution_count": 19,
      "outputs": [
        {
          "output_type": "execute_result",
          "data": {
            "text/html": [
              "<div>\n",
              "<style scoped>\n",
              "    .dataframe tbody tr th:only-of-type {\n",
              "        vertical-align: middle;\n",
              "    }\n",
              "\n",
              "    .dataframe tbody tr th {\n",
              "        vertical-align: top;\n",
              "    }\n",
              "\n",
              "    .dataframe thead th {\n",
              "        text-align: right;\n",
              "    }\n",
              "</style>\n",
              "<table border=\"1\" class=\"dataframe\">\n",
              "  <thead>\n",
              "    <tr style=\"text-align: right;\">\n",
              "      <th></th>\n",
              "      <th>SalePrice</th>\n",
              "      <th>OverallQual</th>\n",
              "      <th>1stFlrSF</th>\n",
              "      <th>TotRmsAbvGrd</th>\n",
              "      <th>YearBuilt</th>\n",
              "      <th>LotFrontage</th>\n",
              "    </tr>\n",
              "  </thead>\n",
              "  <tbody>\n",
              "    <tr>\n",
              "      <th>SalePrice</th>\n",
              "      <td>1.00</td>\n",
              "      <td>0.81</td>\n",
              "      <td>0.64</td>\n",
              "      <td>0.57</td>\n",
              "      <td>0.55</td>\n",
              "      <td>0.36</td>\n",
              "    </tr>\n",
              "    <tr>\n",
              "      <th>OverallQual</th>\n",
              "      <td>0.81</td>\n",
              "      <td>1.00</td>\n",
              "      <td>0.52</td>\n",
              "      <td>0.46</td>\n",
              "      <td>0.58</td>\n",
              "      <td>0.24</td>\n",
              "    </tr>\n",
              "    <tr>\n",
              "      <th>1stFlrSF</th>\n",
              "      <td>0.64</td>\n",
              "      <td>0.52</td>\n",
              "      <td>1.00</td>\n",
              "      <td>0.43</td>\n",
              "      <td>0.35</td>\n",
              "      <td>0.42</td>\n",
              "    </tr>\n",
              "    <tr>\n",
              "      <th>TotRmsAbvGrd</th>\n",
              "      <td>0.57</td>\n",
              "      <td>0.46</td>\n",
              "      <td>0.43</td>\n",
              "      <td>1.00</td>\n",
              "      <td>0.14</td>\n",
              "      <td>0.34</td>\n",
              "    </tr>\n",
              "    <tr>\n",
              "      <th>YearBuilt</th>\n",
              "      <td>0.55</td>\n",
              "      <td>0.58</td>\n",
              "      <td>0.35</td>\n",
              "      <td>0.14</td>\n",
              "      <td>1.00</td>\n",
              "      <td>0.12</td>\n",
              "    </tr>\n",
              "    <tr>\n",
              "      <th>LotFrontage</th>\n",
              "      <td>0.36</td>\n",
              "      <td>0.24</td>\n",
              "      <td>0.42</td>\n",
              "      <td>0.34</td>\n",
              "      <td>0.12</td>\n",
              "      <td>1.00</td>\n",
              "    </tr>\n",
              "  </tbody>\n",
              "</table>\n",
              "</div>"
            ],
            "text/plain": [
              "              SalePrice  OverallQual  ...  YearBuilt  LotFrontage\n",
              "SalePrice          1.00         0.81  ...       0.55         0.36\n",
              "OverallQual        0.81         1.00  ...       0.58         0.24\n",
              "1stFlrSF           0.64         0.52  ...       0.35         0.42\n",
              "TotRmsAbvGrd       0.57         0.46  ...       0.14         0.34\n",
              "YearBuilt          0.55         0.58  ...       1.00         0.12\n",
              "LotFrontage        0.36         0.24  ...       0.12         1.00\n",
              "\n",
              "[6 rows x 6 columns]"
            ]
          },
          "metadata": {
            "tags": []
          },
          "execution_count": 19
        }
      ]
    },
    {
      "cell_type": "code",
      "metadata": {
        "id": "Uqri3cVHYslN",
        "colab": {
          "base_uri": "https://localhost:8080/",
          "height": 349
        },
        "outputId": "4591bf45-75e4-43ac-c5ec-dafa82d2a249"
      },
      "source": [
        "# Visualización de Matriz de Correlación entre todas las variables\n",
        "\n",
        "sns.heatmap(corr_matrix, annot=True)\n",
        "plt.title(\"Matriz de Correlación\", fontdict={\"fontsize\":20, \"color\":\"black\"})\n",
        "plt.show()"
      ],
      "execution_count": 20,
      "outputs": [
        {
          "output_type": "display_data",
          "data": {
            "image/png": "[encoded data removed]",
            "text/plain": [
              "<Figure size 432x288 with 2 Axes>"
            ]
          },
          "metadata": {
            "tags": [],
            "needs_background": "light"
          }
        }
      ]
    },
    {
      "cell_type": "code",
      "metadata": {
        "colab": {
          "base_uri": "https://localhost:8080/"
        },
        "id": "ONYSITUrZHv5",
        "outputId": "018f32f9-7f43-4940-f89f-065723077fd0"
      },
      "source": [
        "# Coeficientes de correlación con el precio de venta \"SalePrice\"\n",
        "\n",
        "corr_matrix[\"SalePrice\"]"
      ],
      "execution_count": 21,
      "outputs": [
        {
          "output_type": "execute_result",
          "data": {
            "text/plain": [
              "SalePrice       1.00\n",
              "OverallQual     0.81\n",
              "1stFlrSF        0.64\n",
              "TotRmsAbvGrd    0.57\n",
              "YearBuilt       0.55\n",
              "LotFrontage     0.36\n",
              "Name: SalePrice, dtype: float64"
            ]
          },
          "metadata": {
            "tags": []
          },
          "execution_count": 21
        }
      ]
    },
    {
      "cell_type": "code",
      "metadata": {
        "colab": {
          "base_uri": "https://localhost:8080/",
          "height": 530
        },
        "id": "g5WM8sRxZyuv",
        "outputId": "ca50f3c3-e7f8-43d6-cc4e-30a19a2fce3b"
      },
      "source": [
        "# Gráfica de dispersión de cada variable x con y (\"SalePrice\")\n",
        "\n",
        "plt.figure(figsize=(18, 8))\n",
        "plt.subplots_adjust(hspace=0.6, wspace=0.3)\n",
        "\n",
        "colors = [\"r\", \"g\", \"b\", \"c\", \"m\", \"y\"]\n",
        "\n",
        "for i in range(columns):\n",
        "  plt.subplot(2, 3, i+1)\n",
        "  plt.scatter(train.iloc[:,i], train.iloc[:,0], color=colors[i])\n",
        "  plt.title(\"Correlación entre SalePrice y {}\\nCoeficiente de Correlación: {}\".format(train.columns[i], corr_matrix.iloc[0,i]), \n",
        "            fontdict={\"fontsize\":14, \"color\":\"black\"})\n",
        "  plt.xlabel(train.columns[i])\n",
        "  plt.ylabel(train.columns[0])\n",
        "\n",
        "plt.show()\n"
      ],
      "execution_count": 22,
      "outputs": [
        {
          "output_type": "display_data",
          "data": {
            "image/png": "[encoded data removed]",
            "text/plain": [
              "<Figure size 1296x576 with 6 Axes>"
            ]
          },
          "metadata": {
            "tags": [],
            "needs_background": "light"
          }
        }
      ]
    },
    {
      "cell_type": "markdown",
      "metadata": {
        "id": "WSUIQNf9JpdF"
      },
      "source": [
        "Las 2 variables con mayor potencial predictivo (que presentan mayor correlación) son:\n",
        "\n",
        "*   **OverallQual** con coeficiente de correlación de **0.81**\n",
        "*   **1stFlrSF** con coeficiente de correlación de **0.64**\n"
      ]
    },
    {
      "cell_type": "markdown",
      "metadata": {
        "id": "69UmLaOIMIPt"
      },
      "source": [
        "### FUNCIONES"
      ]
    },
    {
      "cell_type": "code",
      "metadata": {
        "id": "T67YaxELZye_"
      },
      "source": [
        "# Función para entrenar el modelo\n",
        "\n",
        "def train_function(x, y, epochs, imprimir_error_cada, lr):\n",
        "  \n",
        "  matrix = np.array(x).reshape(-1,1)\n",
        "  ones_matrix = np.ones_like(matrix)\n",
        "  new_matrix = np.hstack((matrix, ones_matrix))\n",
        "\n",
        "  mb = [0, 0]\n",
        "  error = []\n",
        "  modelo_dict = {}\n",
        "  error_dict = {}\n",
        "\n",
        "  for i in range(epochs):\n",
        "    yhat = np.matmul(new_matrix, mb)\n",
        "\n",
        "    error.append(round(0.5 * np.mean(np.power(y - yhat, 2)), 2))\n",
        "\n",
        "    gradientes_m_b = np.array((np.mean((yhat - y)*x), np.mean(yhat - y)))\n",
        "    \n",
        "    mb = mb - (lr * gradientes_m_b)\n",
        "\n",
        "    modelo_dict[i] = list(mb)\n",
        "    error_dict[i] = error[i]\n",
        "\n",
        "    if i % imprimir_error_cada == 0:\n",
        "      print(\"Iteración:\", i, \"  Error:\", error[i])\n",
        "\n",
        "  return(\"----------------------------------------------------------------------------------------------------------------------\",\n",
        "         \"Modelo (mb): \", modelo_dict,\n",
        "         \"----------------------------------------------------------------------------------------------------------------------\",\n",
        "         \"Error: \", error_dict)\n"
      ],
      "execution_count": 610,
      "outputs": []
    },
    {
      "cell_type": "code",
      "metadata": {
        "id": "81eQC5whkQXA"
      },
      "source": [
        "# Función para graficar como cambia el Error por cada Iteración\n",
        "\n",
        "def error_por_iteracion_graph(errores):\n",
        "\n",
        "  plt.plot(list(errores.keys()), list(errores.values()), color=\"green\", linewidth=2)\n",
        "\n",
        "  plt.title(\"Error por cada Iteración\", fontdict={\"fontsize\":20, \"color\":\"black\"})\n",
        "  plt.xlabel(\"Iteración\")\n",
        "  plt.ylabel(\"Error\")\n",
        "\n",
        "  return plt.show()\n"
      ],
      "execution_count": 611,
      "outputs": []
    },
    {
      "cell_type": "code",
      "metadata": {
        "id": "llGNOkyh7hP1"
      },
      "source": [
        "# Función para graficar como evoluciona el modelo entrenado en el tiempo\n",
        "\n",
        "def evolucion_modelo_graph(modelos, n, x, y):\n",
        "\n",
        "  mb_list = list(modelos.values())\n",
        "  \n",
        "  matrix = np.array(x).reshape(-1,1)\n",
        "  ones_matrix = np.ones_like(matrix)\n",
        "  new_matrix = np.hstack((matrix, ones_matrix))\n",
        "\n",
        "  for i in range(0, len(mb_list), n):\n",
        "    mb = mb_list[i]\n",
        "    yhat = np.matmul(new_matrix, mb)\n",
        "    plt.plot(x, yhat, \"orange\", linewidth=2)\n",
        "    \n",
        "  plt.plot(x, y, \"b.\", ms=10)\n",
        "\n",
        "  plt.title(\"Evolución del modelo entrenado\", fontdict={\"fontsize\":20, \"color\":\"black\"})\n",
        "  plt.xlabel(\"Variable x\")\n",
        "  plt.ylabel(\"Precio de casa\")\n",
        "\n",
        "  return plt.show()"
      ],
      "execution_count": 612,
      "outputs": []
    },
    {
      "cell_type": "markdown",
      "metadata": {
        "id": "trRiLNzlBfyI"
      },
      "source": [
        "### ENTRENAR MODELOS CON LA FUNCION CREADA"
      ]
    },
    {
      "cell_type": "markdown",
      "metadata": {
        "id": "7f9NizIFVHS-"
      },
      "source": [
        "#### Modelo con datos de prueba brindados en el Excel"
      ]
    },
    {
      "cell_type": "code",
      "metadata": {
        "id": "mqBsZsXJU4J-"
      },
      "source": [
        "# Datos de prueba brindados en el excel\n",
        "\n",
        "x = [65, 80, 68]\n",
        "y = [208.5, 181.5, 223.5]\n",
        "\n",
        "epochs = 3\n",
        "imprimir_error_cada = 1\n",
        "lr = 0.001"
      ],
      "execution_count": 613,
      "outputs": []
    },
    {
      "cell_type": "code",
      "metadata": {
        "colab": {
          "base_uri": "https://localhost:8080/"
        },
        "id": "yIE7jksWkQkn",
        "outputId": "697bd2d8-3ebd-4057-eff4-f43321489d68"
      },
      "source": [
        "# Entrenar el modelo. Datos de prueba brindados en el excel\n",
        "\n",
        "train_excel = train_function(x, y, epochs, imprimir_error_cada, lr)\n",
        "modelos_excel = train_excel[2]\n",
        "errores_excel = train_excel[5]\n",
        "\n",
        "train_excel"
      ],
      "execution_count": 614,
      "outputs": [
        {
          "output_type": "stream",
          "text": [
            "Iteración: 0   Error: 21061.12\n",
            "Iteración: 1   Error: 341918.33\n",
            "Iteración: 2   Error: 5693492.05\n"
          ],
          "name": "stdout"
        },
        {
          "output_type": "execute_result",
          "data": {
            "text/plain": [
              "('----------------------------------------------------------------------------------------------------------------------',\n",
              " 'Modelo (mb): ',\n",
              " {0: [14.4235, 0.20450000000000002],\n",
              "  1: [-44.48217000000001, -0.6152730000000002],\n",
              "  2: [196.08788449300005, 2.748076343]},\n",
              " '----------------------------------------------------------------------------------------------------------------------',\n",
              " 'Error: ',\n",
              " {0: 21061.12, 1: 341918.33, 2: 5693492.05})"
            ]
          },
          "metadata": {
            "tags": []
          },
          "execution_count": 614
        }
      ]
    },
    {
      "cell_type": "code",
      "metadata": {
        "id": "Mw0GIRkKwiKq",
        "colab": {
          "base_uri": "https://localhost:8080/",
          "height": 301
        },
        "outputId": "b9b994c8-fd90-404e-c380-cda83a9db2ae"
      },
      "source": [
        "# Graficar error por cada interación. Datos de prueba brindados en el excel\n",
        "\n",
        "error_por_iteracion_graph(errores_excel)"
      ],
      "execution_count": 615,
      "outputs": [
        {
          "output_type": "display_data",
          "data": {
            "image/png": "[encoded data removed]",
            "text/plain": [
              "<Figure size 432x288 with 1 Axes>"
            ]
          },
          "metadata": {
            "tags": [],
            "needs_background": "light"
          }
        }
      ]
    },
    {
      "cell_type": "code",
      "metadata": {
        "colab": {
          "base_uri": "https://localhost:8080/",
          "height": 300
        },
        "id": "5l2zJLaR6Dvd",
        "outputId": "01e8cac4-3cfc-4862-ca26-805de8a709d8"
      },
      "source": [
        "# Graficar Evolución del modelo entrenado. Datos de prueba brindados en el excel\n",
        "\n",
        "n = 1\n",
        "\n",
        "evolucion_modelo_graph(modelos_excel, n, x, y)"
      ],
      "execution_count": 616,
      "outputs": [
        {
          "output_type": "display_data",
          "data": {
            "image/png": "[encoded data removed]",
            "text/plain": [
              "<Figure size 432x288 with 1 Axes>"
            ]
          },
          "metadata": {
            "tags": [],
            "needs_background": "light"
          }
        }
      ]
    },
    {
      "cell_type": "markdown",
      "metadata": {
        "id": "CL0ALI7fV5Jq"
      },
      "source": [
        "#### Modelo con variable **OverallQual**"
      ]
    },
    {
      "cell_type": "code",
      "metadata": {
        "id": "lukMBNRIoo-D"
      },
      "source": [
        "# Separar el vector de la variable OverallQual\n",
        "\n",
        "SalePrice = train[\"SalePrice\"]\n",
        "OverallQual = train[\"OverallQual\"]\n",
        "\n",
        "epochs = 300\n",
        "imprimir_error_cada = 50\n",
        "lr = 0.049"
      ],
      "execution_count": 617,
      "outputs": []
    },
    {
      "cell_type": "code",
      "metadata": {
        "id": "6Ngs7tnqBi2g",
        "colab": {
          "base_uri": "https://localhost:8080/"
        },
        "outputId": "568bc585-c814-459f-bd0b-f6b8934e3c6d"
      },
      "source": [
        "# Entrenar el modelo con la variable OverallQual\n",
        "\n",
        "train_OverallQual = train_function(OverallQual, SalePrice, epochs, imprimir_error_cada, lr)\n",
        "modelos_OverallQual = train_OverallQual[2]\n",
        "errores_OverallQual = train_OverallQual[5]\n",
        "\n",
        "train_OverallQual"
      ],
      "execution_count": 618,
      "outputs": [
        {
          "output_type": "stream",
          "text": [
            "Iteración: 0   Error: 19852981010.0\n",
            "Iteración: 50   Error: 4868304610.66\n",
            "Iteración: 100   Error: 2039741814.85\n",
            "Iteración: 150   Error: 1480090910.9\n",
            "Iteración: 200   Error: 1349512186.86\n",
            "Iteración: 250   Error: 1304433374.18\n"
          ],
          "name": "stdout"
        },
        {
          "output_type": "execute_result",
          "data": {
            "text/plain": [
              "('----------------------------------------------------------------------------------------------------------------------',\n",
              " 'Modelo (mb): ',\n",
              " {0: [59005.223013527575, 8869.125686784599],\n",
              "  1: [1070.3365867081811, -404.90226814625566],\n",
              "  2: [58124.10476381347, 8162.835683555975],\n",
              "  3: [2107.6942051005753, -812.1440623893759],\n",
              "  4: [57274.58167229072, 7464.218393681396],\n",
              "  5: [3113.1523595229446, -1221.5714017110477],\n",
              "  6: [56455.596301532765, 6773.096273747563],\n",
              "  7: [4087.7548877446316, -1633.0357732293278],\n",
              "  8: [55666.12626584224, 6089.297284347842],\n",
              "  9: [5032.511140999319, -2046.393949428778],\n",
              "  10: [54905.18307099367, 5412.65470974346],\n",
              "  11: [5948.397124981217, -2461.50781144767],\n",
              "  12: [54171.81099237102, 4743.006983483609],\n",
              "  13: [6836.356603076929, -2878.2441782218893],\n",
              "  14: [53465.08599024153, 4080.1975197889924],\n",
              "  15: [7697.3021630970325, -3296.474641292052],\n",
              "  16: [52784.114660914485, 3424.0745505043596],\n",
              "  17: [8532.116248701095, -3716.075405085321],\n",
              "  18: [52128.03322262368, 2774.490967440367],\n",
              "  19: [9341.652156690092, -4136.927132492585],\n",
              "  20: [51496.0065349677, 2131.3041699239684],\n",
              "  21: [10126.735001303867, -4558.914795563774],\n",
              "  22: [50887.22715079486, 1494.3759173833987],\n",
              "  23: [10888.162646601108, -4981.927531152534],\n",
              "  24: [50300.914399477144, 863.5721868054916],\n",
              "  25: [11626.706607986416, -5405.858501347753],\n",
              "  26: [49736.313500512515, 238.7630349000856],\n",
              "  27: [12343.112923907502, -5830.604758530965],\n",
              "  28: [49192.69470647073, -380.1775351817432],\n",
              "  29: [13038.102998701303, -6256.067114908972],\n",
              "  30: [48669.35247429818, -993.3717027274079],\n",
              "  31: [13712.374417551968, -6682.1500163720475],\n",
              "  32: [48165.60466404907, -1600.9379540857963],\n",
              "  33: [14366.601734483025, -7108.761420534393],\n",
              "  34: [47680.79176413345, -2202.991203175028],\n",
              "  35: [15001.43723426804, -7535.812678819644],\n",
              "  36: [47214.27614221156, -2799.6429080093612],\n",
              "  37: [15617.511669129228, -7963.218422457395],\n",
              "  38: [46765.44132087164, -3391.001183378424],\n",
              "  39: [16215.434971064846, -8390.89645225853],\n",
              "  40: [46333.69127728348, -3977.1709098072306],\n",
              "  41: [16795.796940593278, -8818.76763204917],\n",
              "  42: [45918.44976603208, -4558.253838915679],\n",
              "  43: [17359.167912714736, -9246.755785637491],\n",
              "  44: [45519.15966435647, -5134.348695302217],\n",
              "  45: [17906.099400830735, -9674.787597198794],\n",
              "  46: [45135.28233906332, -5705.551275062182],\n",
              "  47: [18437.124719358733, -10102.792514965622],\n",
              "  48: [44766.297034390096, -6271.954541055045],\n",
              "  49: [18952.75958573683, -10530.70265811315],\n",
              "  50: [44411.70028012826, -6833.648715025562],\n",
              "  51: [19453.502702517606, -10958.45272673325],\n",
              "  52: [44071.00531933231, -7390.721366686188],\n",
              "  53: [19939.836320190672, -11385.979914796544],\n",
              "  54: [43743.74155497357, -7943.257499857537],\n",
              "  55: [20412.226781385834, -11813.223826002539],\n",
              "  56: [43429.45401490218, -8491.339635767352],\n",
              "  57: [20871.125047066478, -12240.12639242224],\n",
              "  58: [43127.70283452049, -9035.047893600007],\n",
              "  59: [21316.96720531098, -12666.631795841064],\n",
              "  60: [42838.06275657608, -9574.460068388595],\n",
              "  61: [21750.174963257443, -13092.686391713045],\n",
              "  62: [42560.12264750835, -10109.651706336903],\n",
              "  63: [22171.156122770066, -13518.238635638472],\n",
              "  64: [42293.485029805655, -10640.69617765617],\n",
              "  65: [22580.305040365056, -13943.239012283331],\n",
              "  66: [42037.765629834874, -11167.664746999711],\n",
              "  67: [22978.00307191854, -14367.639966658126],\n",
              "  68: [41792.592940638235, -11690.626641574236],\n",
              "  69: [23364.619002656917, -14791.395837678436],\n",
              "  70: [41557.60779920114, -12209.649117003994],\n",
              "  71: [23740.509462919963, -15214.462793932431],\n",
              "  72: [41332.46297770785, -12724.797521024127],\n",
              "  73: [24106.019330164734, -15636.798771580954],\n",
              "  74: [41116.822788328005, -13236.135355072274],\n",
              "  75: [24461.48211766943, -16058.363414320853],\n",
              "  76: [40910.362701080216, -13743.7243338511],\n",
              "  77: [24807.22035037209, -16479.11801534191],\n",
              "  78: [40712.768974345796, -14247.62444292544],\n",
              "  79: [25143.545928275023, -16899.025461212692],\n",
              "  80: [40523.73829760899, -14747.893994422346],\n",
              "  81: [25470.7604778219, -17318.050177630703],\n",
              "  82: [40342.97744602314, -15244.589680894042],\n",
              "  83: [25789.15569165047, -17736.158076974887],\n",
              "  84: [40170.202946407706, -15737.766627406734],\n",
              "  85: [26099.013657100477, -18153.31650760159],\n",
              "  86: [40005.140754300766, -16227.478441912266],\n",
              "  87: [26400.607173852426, -18569.494204825583],\n",
              "  88: [39847.525941700085, -16713.777263960284],\n",
              "  89: [26694.20006105549, -18984.661243530376],\n",
              "  90: [39697.1023951387, -17196.713811805774],\n",
              "  91: [26980.04745429352, -19398.78899235458],\n",
              "  92: [39553.62252375309, -17676.33742796501],\n",
              "  93: [27258.39609272235, -19811.850069401313],\n",
              "  94: [39416.84697701378, -18152.696123270594],\n",
              "  95: [27529.484596709233, -20223.818299420207],\n",
              "  96: [39286.544371797936, -18625.836619476286],\n",
              "  97: [27793.54373628226, -20634.668672414056],\n",
              "  98: [39162.49102849591, -19095.80439045861],\n",
              "  99: [28050.79669069854, -21044.377303622306],\n",
              "  100: [39044.470715851254, -19562.643702062345],\n",
              "  101: [28301.459299423368, -21452.921394835605],\n",
              "  102: [38932.27440424591, -20026.397650634226],\n",
              "  103: [28545.7403048048, -21860.27919699788],\n",
              "  104: [38825.70002715173, -20487.108200288774],\n",
              "  105: [28783.841586717725, -22266.429974053135],\n",
              "  106: [38724.55225047646, -20944.81621894743],\n",
              "  107: [29015.958389444953, -22671.353967995197],\n",
              "  108: [38628.642249545155, -21399.56151319234],\n",
              "  109: [29242.279541050375, -23075.03236508163],\n",
              "  110: [38537.78749346153, -21851.382861973594],\n",
              "  111: [29462.98766549352, -23477.447263172082],\n",
              "  112: [38451.81153660825, -22300.31804920759],\n",
              "  113: [29678.2593877261, -23878.581640154716],\n",
              "  114: [38370.543817047204, -22746.403895303934],\n",
              "  115: [29888.265532001256, -24278.419323424503],\n",
              "  116: [38293.81946159227, -23189.67628765538],\n",
              "  117: [30093.17131362238, -24676.944960377827],\n",
              "  118: [38221.4790973346, -23630.170210125852],\n",
              "  119: [30293.13652434663, -25074.143989890734],\n",
              "  120: [38153.36866940595, -24067.919771569126],\n",
              "  121: [30488.315711653915, -25470.00261474772],\n",
              "  122: [38089.33926477375, -24502.95823341067],\n",
              "  123: [30678.858352084666, -25864.50777498963],\n",
              "  124: [38029.246941868536, -24935.318036323304],\n",
              "  125: [30864.909018841827, -26257.647122150192],\n",
              "  126: [37972.95256585023, -25365.03082602669],\n",
              "  127: [31046.607543848328, -26649.408994351714],\n",
              "  128: [37920.321649327685, -25792.127478239792],\n",
              "  129: [31224.089174441197, -27039.78239223183],\n",
              "  130: [37871.22419834995, -26216.638122814016],\n",
              "  131: [31397.484724881844, -27428.75695567324],\n",
              "  132: [37825.534563495676, -26638.592167074254],\n",
              "  133: [31566.920722854036, -27816.32294131013],\n",
              "  134: [37783.13129588987, -27058.01831839428],\n",
              "  135: [31732.519551114037, -28202.47120078546],\n",
              "  136: [37743.897007989275, -27474.94460603127],\n",
              "  137: [31894.399584453447, -28587.193159734503],\n",
              "  138: [37707.71823897323, -27889.39840224421],\n",
              "  139: [32052.6753221325, -28970.48079746996],\n",
              "  140: [37674.48532459175, -28301.40644272018],\n",
              "  141: [32207.457515929273, -29352.326627346152],\n",
              "  142: [37644.0922713212, -28710.994846330672],\n",
              "  143: [32358.853293954162, -29732.723677779126],\n",
              "  144: [37616.43663468548, -29118.18913424068],\n",
              "  145: [32506.96628036719, -30111.665473901365],\n",
              "  146: [37591.41940160532, -29523.014248391784],\n",
              "  147: [32651.896711134406, -30489.14601982995],\n",
              "  148: [37568.944876641675, -29925.494569379738],\n",
              "  149: [32793.741545954435, -30865.159781527716],\n",
              "  150: [37548.92057200481, -30325.653933746806],\n",
              "  151: [32932.59457648258, -31239.701670237955],\n",
              "  152: [37531.25710120409, -30723.5156507081],\n",
              "  153: [33068.546530973756, -31612.76702647344],\n",
              "  154: [37515.86807621879, -31119.102518330525],\n",
              "  155: [33201.68517546351, -31984.351604541658],\n",
              "  156: [37502.67000807204, -31512.43683918253],\n",
              "  157: [33332.09541160191, -32354.451557588167],\n",
              "  158: [37491.58221069678, -31903.540435472125],\n",
              "  159: [33459.85937125039, -32723.063423141175],\n",
              "  160: [37482.52670798366, -32292.4346636901],\n",
              "  161: [33585.05650794932, -33090.184109140566],\n",
              "  162: [37475.428143905876, -32679.14042877467],\n",
              "  163: [33707.763685359285, -33455.81088043534],\n",
              "  164: [37470.21369561963, -33063.67819781348],\n",
              "  165: [33828.05526277656, -33819.94134573398],\n",
              "  166: [37466.81298944105, -33446.06801329816],\n",
              "  167: [33946.003177819664, -34182.573444992704],\n",
              "  168: [37465.15801960459, -33826.32950594632],\n",
              "  169: [34061.67702638049, -34543.70543722699],\n",
              "  170: [37465.18306971097, -34204.48190710516],\n",
              "  171: [34175.14413993014, -34903.335888732574],\n",
              "  172: [37466.824636775826, -34580.54406075056],\n",
              "  173: [34286.46966026798, -35261.463661702044],\n",
              "  174: [37470.02135779227, -34954.53443509501],\n",
              "  175: [34395.71661179724, -35618.08790322416],\n",
              "  176: [37474.7139387251, -35326.47113381726],\n",
              "  177: [34502.945971410416, -35973.20803465299],\n",
              "  178: [37480.845085855595, -35696.37190692624],\n",
              "  179: [34608.21673606208, -36326.823741334876],\n",
              "  180: [37488.35943939903, -36064.25416127129],\n",
              "  181: [34711.58598810706, -36678.93496268099],\n",
              "  182: [37497.2035093204, -36430.13497071036],\n",
              "  183: [34813.108958476674, -37029.54188257441],\n",
              "  184: [37507.32561327449, -36794.03108594751],\n",
              "  185: [34912.83908776584, -37378.644920100225],\n",
              "  186: [37518.67581660104, -37155.95894405059],\n",
              "  187: [35010.82808529873, -37726.244720588336],\n",
              "  188: [37531.20587430642, -37515.93467765968],\n",
              "  189: [35107.12598624134, -38072.34214695822],\n",
              "  190: [37544.86917496625, -37873.97412389651],\n",
              "  191: [35201.78120682422, -38416.938271355975],\n",
              "  192: [37559.62068648529, -38230.092832984614],\n",
              "  193: [35294.84059773922, -38760.03436707364],\n",
              "  194: [37575.41690365326, -38584.30607659001],\n",
              "  195: [35386.349495769515, -39101.631900741624],\n",
              "  196: [37592.21579743687, -38936.62885589131],\n",
              "  197: [35476.351773712384, -39441.73252478506],\n",
              "  198: [37609.9767659512, -39287.07590938847],\n",
              "  199: [35564.88988865021, -39780.338070135454],\n",
              "  200: [37628.66058705401, -39635.66172045861],\n",
              "  201: [35652.00492862534, -40117.45053918901],\n",
              "  202: [37648.22937251015, -39982.40052466734],\n",
              "  203: [35737.736657770896, -40453.07209900353],\n",
              "  204: [37668.64652367338, -40327.30631684366],\n",
              "  205: [35822.123559948996, -40787.20507472595],\n",
              "  206: [37689.87668863575, -40670.39285792612],\n",
              "  207: [35905.20288094588, -41119.85194324278],\n",
              "  208: [37711.88572079589, -41011.67368158801],\n",
              "  209: [35987.01066927109, -41451.01532704621],\n",
              "  210: [37734.64063879932, -41351.16210064857],\n",
              "  211: [36067.5818156078, -41780.69798830853],\n",
              "  212: [37758.109587805244, -41688.87121327757],\n",
              "  213: [36146.95009095791, -42108.90282315815],\n",
              "  214: [37782.26180203597, -42024.813908999815],\n",
              "  215: [36225.14818352618, -42435.63285615019],\n",
              "  216: [37807.067568566585, -42359.00287450634],\n",
              "  217: [36302.20773438412, -42760.89123492563],\n",
              "  218: [37832.49819231373, -42691.45059927864],\n",
              "  219: [36378.15937195467, -43084.68122505236],\n",
              "  220: [37858.525962183885, -43022.16938103201],\n",
              "  221: [36453.03274535654, -43407.00620504229],\n",
              "  222: [37885.12411834253, -43351.17133098405],\n",
              "  223: [36526.856556645784, -43727.869661538614],\n",
              "  224: [37912.26682056769, -43678.468378954065],\n",
              "  225: [36599.65859199115, -44047.27518466754],\n",
              "  226: [37939.92911765119, -44004.07227829889],\n",
              "  227: [36671.46575181874, -44365.22646354908],\n",
              "  228: [37968.08691781351, -44327.994610690585],\n",
              "  229: [36742.30407995974, -44681.72728196161],\n",
              "  230: [37996.71696009849, -44650.246790741236],\n",
              "  231: [36812.19879183436, -44996.78151415501],\n",
              "  232: [38025.79678671543, -44970.840070479746],\n",
              "  233: [36881.174301703984, -45310.39312080745],\n",
              "  234: [38055.304716297396, -45289.78554368565],\n",
              "  235: [36949.25424902203, -45622.56614512122],\n",
              "  236: [38085.21981804514, -45607.094150084624],\n",
              "  237: [37016.46152391383, -45933.30470905272],\n",
              "  238: [38115.5218867275, -45922.776679410155],\n",
              "  239: [37082.81829181385, -46242.613009672255],\n",
              "  240: [38146.191418510025, -46236.84377533588],\n",
              "  241: [37148.34601728855, -46550.49531564947],\n",
              "  242: [38177.20958758405, -46549.30593928281],\n",
              "  243: [37213.06548707153, -46856.955963859895],\n",
              "  244: [38208.55822357035, -46860.173534105525],\n",
              "  245: [37276.996832337056, -47161.99935610898],\n",
              "  246: [38240.219789670846, -47169.456787661366],\n",
              "  247: [37340.1595502375, -47465.62995596932],\n",
              "  248: [38272.17736154456, -47477.16579626647],\n",
              "  249: [37402.57252472861, -47767.852285727575],\n",
              "  250: [38304.414606883176, -47783.310528042304],\n",
              "  251: [37464.2540467064, -48068.670923437334],\n",
              "  252: [38336.91576566327, -48087.900826156416],\n",
              "  253: [37525.22183347841, -48368.090500074344],\n",
              "  254: [38369.6656310529, -48390.94641196076],\n",
              "  255: [37585.4930475914, -48666.1156967908],\n",
              "  256: [38402.649530950766, -48692.45688803102],\n",
              "  257: [37645.084315036635, -48962.751242265294],\n",
              "  258: [38435.85331013703, -48992.44174111019],\n",
              "  259: [37704.01174285352, -49258.00191014528],\n",
              "  260: [38469.263313015625, -49290.91034495956],\n",
              "  261: [37762.290936151396, -49551.872516579],\n",
              "  262: [38502.866366928356, -49587.87196312009],\n",
              "  263: [37819.93701456873, -49844.367917833835],\n",
              "  264: [38536.64976602199, -49883.33575158716],\n",
              "  265: [37876.96462818836, -50135.49300799817],\n",
              "  266: [38570.60125564992, -50177.3107614016],\n",
              "  267: [37933.38797292688, -50425.25271676411],\n",
              "  268: [38604.70901729079, -50469.80594115956],\n",
              "  269: [37989.220805415345, -50713.65200728822],\n",
              "  270: [38638.96165396696, -50760.830139444166],\n",
              "  271: [38044.47645738827, -51000.69587412777],\n",
              "  272: [38673.348176146144, -51050.39210718124],\n",
              "  273: [38099.16784959728, -51286.389341249866],\n",
              "  274: [38707.85798811048, -51338.500499921705],\n",
              "  275: [38153.307505264886, -51570.73746011118],\n",
              "  276: [38742.480874777284, -51625.16388005321],\n",
              "  277: [38206.90756309382, -51853.745307805744],\n",
              "  278: [38777.206988956736, -51910.390718942974],\n",
              "  279: [38259.97978984656, -52135.41798527873],\n",
              "  280: [38812.02683903191, -52194.18939901444],\n",
              "  281: [38312.53559250926, -52415.76061560378],\n",
              "  282: [38846.931277047275, -52476.56821575966],\n",
              "  283: [38364.58603005381, -52694.778342321995],\n",
              "  284: [38881.911487192025, -52757.535379689674],\n",
              "  285: [38416.141824811406, -52972.47632784034],\n",
              "  286: [38916.958974665264, -53037.09901822482],\n",
              "  287: [38467.21337347037, -53248.85975188759],\n",
              "  288: [38952.06555491041, -53315.26717752698],\n",
              "  289: [38517.81075771075, -53523.933810025796],\n",
              "  290: [38987.22334320649, -53592.04782427562],\n",
              "  291: [38567.94375448768, -53797.703712215516],\n",
              "  292: [39022.42474460463, -53867.4488473896],\n",
              "  293: [38617.621845975045, -54070.17468143296],\n",
              "  294: [39057.66244419827, -54141.47805969628],\n",
              "  295: [38666.854229180906, -54341.35195233724],\n",
              "  296: [39092.929397716, -54414.14319954991],\n",
              "  297: [38715.64982524525, -54611.24076998618],\n",
              "  298: [39128.218822426454, -54685.451932400756],\n",
              "  299: [38764.01728843078, -54879.84638859897]},\n",
              " '----------------------------------------------------------------------------------------------------------------------',\n",
              " 'Error: ',\n",
              " {0: 19852981010.0,\n",
              "  1: 19245181827.44,\n",
              "  2: 18657450817.64,\n",
              "  3: 18089124081.92,\n",
              "  4: 17539559691.1,\n",
              "  5: 17008136958.47,\n",
              "  6: 16494255736.8,\n",
              "  7: 15997335738.67,\n",
              "  8: 15516815879.2,\n",
              "  9: 15052153640.59,\n",
              "  10: 14602824457.71,\n",
              "  11: 14168321123.95,\n",
              "  12: 13748153216.8,\n",
              "  13: 13341846542.41,\n",
              "  14: 12948942598.54,\n",
              "  15: 12568998055.26,\n",
              "  16: 12201584252.87,\n",
              "  17: 11846286716.39,\n",
              "  18: 11502704686.22,\n",
              "  19: 11170450664.15,\n",
              "  20: 10849149974.6,\n",
              "  21: 10538440340.22,\n",
              "  22: 10237971471.62,\n",
              "  23: 9947404670.66,\n",
              "  24: 9666412446.83,\n",
              "  25: 9394678146.4,\n",
              "  26: 9131895593.78,\n",
              "  27: 8877768744.75,\n",
              "  28: 8632011351.23,\n",
              "  29: 8394346637.05,\n",
              "  30: 8164506984.53,\n",
              "  31: 7942233631.38,\n",
              "  32: 7727276377.67,\n",
              "  33: 7519393302.46,\n",
              "  34: 7318350489.83,\n",
              "  35: 7123921763.98,\n",
              "  36: 6935888433.08,\n",
              "  37: 6754039041.63,\n",
              "  38: 6578169130.93,\n",
              "  39: 6408081007.61,\n",
              "  40: 6243583519.71,\n",
              "  41: 6084491840.18,\n",
              "  42: 5930627257.64,\n",
              "  43: 5781816973.96,\n",
              "  44: 5637893908.54,\n",
              "  45: 5498696509.18,\n",
              "  46: 5364068569.07,\n",
              "  47: 5233859049.91,\n",
              "  48: 5107921910.9,\n",
              "  49: 4986115943.32,\n",
              "  50: 4868304610.66,\n",
              "  51: 4754355893.97,\n",
              "  52: 4644142142.4,\n",
              "  53: 4537539928.63,\n",
              "  54: 4434429909.1,\n",
              "  55: 4334696688.87,\n",
              "  56: 4238228690.97,\n",
              "  57: 4144918030.03,\n",
              "  58: 4054660390.13,\n",
              "  59: 3967354906.69,\n",
              "  60: 3882904052.21,\n",
              "  61: 3801213525.92,\n",
              "  62: 3722192146.92,\n",
              "  63: 3645751750.99,\n",
              "  64: 3571807090.73,\n",
              "  65: 3500275739.06,\n",
              "  66: 3431077995.89,\n",
              "  67: 3364136797.84,\n",
              "  68: 3299377631.05,\n",
              "  69: 3236728446.77,\n",
              "  70: 3176119579.77,\n",
              "  71: 3117483669.51,\n",
              "  72: 3060755583.85,\n",
              "  73: 3005872345.31,\n",
              "  74: 2952773059.77,\n",
              "  75: 2901398847.53,\n",
              "  76: 2851692776.65,\n",
              "  77: 2803599798.49,\n",
              "  78: 2757066685.39,\n",
              "  79: 2712041970.43,\n",
              "  80: 2668475889.13,\n",
              "  81: 2626320323.16,\n",
              "  82: 2585528745.82,\n",
              "  83: 2546056169.4,\n",
              "  84: 2507859094.25,\n",
              "  85: 2470895459.53,\n",
              "  86: 2435124595.61,\n",
              "  87: 2400507178.01,\n",
              "  88: 2367005182.94,\n",
              "  89: 2334581844.18,\n",
              "  90: 2303201611.55,\n",
              "  91: 2272830110.61,\n",
              "  92: 2243434103.79,\n",
              "  93: 2214981452.75,\n",
              "  94: 2187441082.0,\n",
              "  95: 2160782943.77,\n",
              "  96: 2134977983.96,\n",
              "  97: 2109998109.28,\n",
              "  98: 2085816155.45,\n",
              "  99: 2062405856.46,\n",
              "  100: 2039741814.85,\n",
              "  101: 2017799472.99,\n",
              "  102: 1996555085.23,\n",
              "  103: 1975985691.1,\n",
              "  104: 1956069089.29,\n",
              "  105: 1936783812.55,\n",
              "  106: 1918109103.38,\n",
              "  107: 1900024890.57,\n",
              "  108: 1882511766.46,\n",
              "  109: 1865550965.01,\n",
              "  110: 1849124340.58,\n",
              "  111: 1833214347.35,\n",
              "  112: 1817804019.55,\n",
              "  113: 1802876952.18,\n",
              "  114: 1788417282.54,\n",
              "  115: 1774409672.22,\n",
              "  116: 1760839289.79,\n",
              "  117: 1747691794.02,\n",
              "  118: 1734953317.63,\n",
              "  119: 1722610451.67,\n",
              "  120: 1710650230.3,\n",
              "  121: 1699060116.15,\n",
              "  122: 1687827986.14,\n",
              "  123: 1676942117.79,\n",
              "  124: 1666391175.92,\n",
              "  125: 1656164199.89,\n",
              "  126: 1646250591.18,\n",
              "  127: 1636640101.42,\n",
              "  128: 1627322820.78,\n",
              "  129: 1618289166.81,\n",
              "  130: 1609529873.57,\n",
              "  131: 1601035981.18,\n",
              "  132: 1592798825.71,\n",
              "  133: 1584810029.34,\n",
              "  134: 1577061490.94,\n",
              "  135: 1569545376.89,\n",
              "  136: 1562254112.25,\n",
              "  137: 1555180372.18,\n",
              "  138: 1548317073.7,\n",
              "  139: 1541657367.63,\n",
              "  140: 1535194630.94,\n",
              "  141: 1528922459.17,\n",
              "  142: 1522834659.29,\n",
              "  143: 1516925242.65,\n",
              "  144: 1511188418.24,\n",
              "  145: 1505618586.13,\n",
              "  146: 1500210331.2,\n",
              "  147: 1494958416.96,\n",
              "  148: 1489857779.7,\n",
              "  149: 1484903522.74,\n",
              "  150: 1480090910.9,\n",
              "  151: 1475415365.19,\n",
              "  152: 1470872457.63,\n",
              "  153: 1466457906.23,\n",
              "  154: 1462167570.2,\n",
              "  155: 1457997445.26,\n",
              "  156: 1453943659.12,\n",
              "  157: 1450002467.13,\n",
              "  158: 1446170248.04,\n",
              "  159: 1442443499.95,\n",
              "  160: 1438818836.3,\n",
              "  161: 1435292982.15,\n",
              "  162: 1431862770.4,\n",
              "  163: 1428525138.27,\n",
              "  164: 1425277123.84,\n",
              "  165: 1422115862.71,\n",
              "  166: 1419038584.79,\n",
              "  167: 1416042611.16,\n",
              "  168: 1413125351.07,\n",
              "  169: 1410284299.02,\n",
              "  170: 1407517031.94,\n",
              "  171: 1404821206.48,\n",
              "  172: 1402194556.34,\n",
              "  173: 1399634889.75,\n",
              "  174: 1397140087.01,\n",
              "  175: 1394708098.08,\n",
              "  176: 1392336940.3,\n",
              "  177: 1390024696.15,\n",
              "  178: 1387769511.12,\n",
              "  179: 1385569591.59,\n",
              "  180: 1383423202.85,\n",
              "  181: 1381328667.12,\n",
              "  182: 1379284361.7,\n",
              "  183: 1377288717.15,\n",
              "  184: 1375340215.49,\n",
              "  185: 1373437388.54,\n",
              "  186: 1371578816.26,\n",
              "  187: 1369763125.16,\n",
              "  188: 1367988986.76,\n",
              "  189: 1366255116.08,\n",
              "  190: 1364560270.27,\n",
              "  191: 1362903247.13,\n",
              "  192: 1361282883.84,\n",
              "  193: 1359698055.62,\n",
              "  194: 1358147674.49,\n",
              "  195: 1356630688.02,\n",
              "  196: 1355146078.21,\n",
              "  197: 1353692860.31,\n",
              "  198: 1352270081.76,\n",
              "  199: 1350876821.08,\n",
              "  200: 1349512186.86,\n",
              "  201: 1348175316.81,\n",
              "  202: 1346865376.72,\n",
              "  203: 1345581559.61,\n",
              "  204: 1344323084.78,\n",
              "  205: 1343089196.95,\n",
              "  206: 1341879165.45,\n",
              "  207: 1340692283.37,\n",
              "  208: 1339527866.81,\n",
              "  209: 1338385254.07,\n",
              "  210: 1337263804.99,\n",
              "  211: 1336162900.16,\n",
              "  212: 1335081940.32,\n",
              "  213: 1334020345.6,\n",
              "  214: 1332977554.97,\n",
              "  215: 1331953025.55,\n",
              "  216: 1330946232.06,\n",
              "  217: 1329956666.21,\n",
              "  218: 1328983836.14,\n",
              "  219: 1328027265.9,\n",
              "  220: 1327086494.9,\n",
              "  221: 1326161077.44,\n",
              "  222: 1325250582.16,\n",
              "  223: 1324354591.62,\n",
              "  224: 1323472701.83,\n",
              "  225: 1322604521.78,\n",
              "  226: 1321749673.06,\n",
              "  227: 1320907789.38,\n",
              "  228: 1320078516.23,\n",
              "  229: 1319261510.48,\n",
              "  230: 1318456439.97,\n",
              "  231: 1317662983.19,\n",
              "  232: 1316880828.9,\n",
              "  233: 1316109675.81,\n",
              "  234: 1315349232.25,\n",
              "  235: 1314599215.85,\n",
              "  236: 1313859353.23,\n",
              "  237: 1313129379.72,\n",
              "  238: 1312409039.03,\n",
              "  239: 1311698083.05,\n",
              "  240: 1310996271.5,\n",
              "  241: 1310303371.73,\n",
              "  242: 1309619158.45,\n",
              "  243: 1308943413.47,\n",
              "  244: 1308275925.51,\n",
              "  245: 1307616489.91,\n",
              "  246: 1306964908.49,\n",
              "  247: 1306320989.26,\n",
              "  248: 1305684546.28,\n",
              "  249: 1305055399.41,\n",
              "  250: 1304433374.18,\n",
              "  251: 1303818301.53,\n",
              "  252: 1303210017.69,\n",
              "  253: 1302608363.99,\n",
              "  254: 1302013186.68,\n",
              "  255: 1301424336.77,\n",
              "  256: 1300841669.91,\n",
              "  257: 1300265046.2,\n",
              "  258: 1299694330.03,\n",
              "  259: 1299129390.01,\n",
              "  260: 1298570098.74,\n",
              "  261: 1298016332.77,\n",
              "  262: 1297467972.38,\n",
              "  263: 1296924901.54,\n",
              "  264: 1296387007.75,\n",
              "  265: 1295854181.91,\n",
              "  266: 1295326318.25,\n",
              "  267: 1294803314.19,\n",
              "  268: 1294285070.23,\n",
              "  269: 1293771489.88,\n",
              "  270: 1293262479.56,\n",
              "  271: 1292757948.46,\n",
              "  272: 1292257808.5,\n",
              "  273: 1291761974.23,\n",
              "  274: 1291270362.71,\n",
              "  275: 1290782893.48,\n",
              "  276: 1290299488.45,\n",
              "  277: 1289820071.81,\n",
              "  278: 1289344569.99,\n",
              "  279: 1288872911.57,\n",
              "  280: 1288405027.21,\n",
              "  281: 1287940849.57,\n",
              "  282: 1287480313.28,\n",
              "  283: 1287023354.83,\n",
              "  284: 1286569912.56,\n",
              "  285: 1286119926.56,\n",
              "  286: 1285673338.63,\n",
              "  287: 1285230092.23,\n",
              "  288: 1284790132.4,\n",
              "  289: 1284353405.74,\n",
              "  290: 1283919860.36,\n",
              "  291: 1283489445.8,\n",
              "  292: 1283062113.02,\n",
              "  293: 1282637814.32,\n",
              "  294: 1282216503.32,\n",
              "  295: 1281798134.92,\n",
              "  296: 1281382665.25,\n",
              "  297: 1280970051.62,\n",
              "  298: 1280560252.51,\n",
              "  299: 1280153227.5})"
            ]
          },
          "metadata": {
            "tags": []
          },
          "execution_count": 618
        }
      ]
    },
    {
      "cell_type": "code",
      "metadata": {
        "id": "FXgncKhQ5wgj",
        "colab": {
          "base_uri": "https://localhost:8080/",
          "height": 301
        },
        "outputId": "34f31559-e825-4635-8ad3-0b351cdb4a29"
      },
      "source": [
        "# Graficar error por cada interación. Variable OverallQual\n",
        "\n",
        "error_por_iteracion_graph(errores_OverallQual)"
      ],
      "execution_count": 619,
      "outputs": [
        {
          "output_type": "display_data",
          "data": {
            "image/png": "[encoded data removed]",
            "text/plain": [
              "<Figure size 432x288 with 1 Axes>"
            ]
          },
          "metadata": {
            "tags": [],
            "needs_background": "light"
          }
        }
      ]
    },
    {
      "cell_type": "code",
      "metadata": {
        "colab": {
          "base_uri": "https://localhost:8080/",
          "height": 300
        },
        "id": "kttxLUlSQ17Y",
        "outputId": "413cf4f7-07df-4409-9560-acb72edb9037"
      },
      "source": [
        "# Graficar Evolución del modelo entrenado. Variable OverallQual\n",
        "\n",
        "n = 50    # Graficar cada n iteraciones\n",
        "\n",
        "evolucion_modelo_graph(modelos_OverallQual, n, OverallQual, SalePrice)"
      ],
      "execution_count": 620,
      "outputs": [
        {
          "output_type": "display_data",
          "data": {
            "image/png": "[encoded data removed]",
            "text/plain": [
              "<Figure size 432x288 with 1 Axes>"
            ]
          },
          "metadata": {
            "tags": [],
            "needs_background": "light"
          }
        }
      ]
    },
    {
      "cell_type": "markdown",
      "metadata": {
        "id": "DH74x0QQt5rv"
      },
      "source": [
        "#### Modelo con variable **1stFlrSF**"
      ]
    },
    {
      "cell_type": "code",
      "metadata": {
        "id": "1MNUuasIQ127"
      },
      "source": [
        "# Separar el vector de la variable 1stFlrSF\n",
        "\n",
        "SalePrice = train[\"SalePrice\"]\n",
        "FirstFlrSF = train[\"1stFlrSF\"]\n",
        "\n",
        "epochs = 10\n",
        "imprimir_error_cada = 1\n",
        "lr = 0.000001"
      ],
      "execution_count": 621,
      "outputs": []
    },
    {
      "cell_type": "code",
      "metadata": {
        "colab": {
          "base_uri": "https://localhost:8080/"
        },
        "id": "e0MvX9uKQ1vD",
        "outputId": "c87f1ce7-26c8-48e6-9954-6cb1ea8d54b6"
      },
      "source": [
        "# Entrenar el modelo con la variable 1stFlrSF\n",
        "\n",
        "train_FirstFlrSF = train_function(FirstFlrSF, SalePrice, epochs, imprimir_error_cada, lr)\n",
        "modelos_FirstFlrSF = train_FirstFlrSF[2]\n",
        "errores_FirstFlrSF = train_FirstFlrSF[5]\n",
        "\n",
        "train_FirstFlrSF"
      ],
      "execution_count": 622,
      "outputs": [
        {
          "output_type": "stream",
          "text": [
            "Iteración: 0   Error: 19852981010.0\n",
            "Iteración: 1   Error: 6070309066.2\n",
            "Iteración: 2   Error: 2964076967.28\n",
            "Iteración: 3   Error: 2264018378.54\n",
            "Iteración: 4   Error: 2106244581.86\n",
            "Iteración: 5   Error: 2070686741.12\n",
            "Iteración: 6   Error: 2062672988.1\n",
            "Iteración: 7   Error: 2060866908.72\n",
            "Iteración: 8   Error: 2060459866.86\n",
            "Iteración: 9   Error: 2060368129.27\n"
          ],
          "name": "stdout"
        },
        {
          "output_type": "execute_result",
          "data": {
            "text/plain": [
              "('----------------------------------------------------------------------------------------------------------------------',\n",
              " 'Modelo (mb): ',\n",
              " {0: [229.08248416337148, 0.18100256503642037],\n",
              "  1: [120.32926214562579, 0.09722373806156634],\n",
              "  2: [171.95810130965103, 0.13914561284217092],\n",
              "  3: [147.44813963560495, 0.12139310347980184],\n",
              "  4: [159.08384756041323, 0.13197004682230087],\n",
              "  5: [153.55998091393096, 0.1290980384934462],\n",
              "  6: [156.18234596644652, 0.13261070319349896],\n",
              "  7: [154.9374187024742, 0.13309234698622316],\n",
              "  8: [155.52842618892248, 0.13501291894248657],\n",
              "  9: [155.24785321753194, 0.13625038272259282]},\n",
              " '----------------------------------------------------------------------------------------------------------------------',\n",
              " 'Error: ',\n",
              " {0: 19852981010.0,\n",
              "  1: 6070309066.2,\n",
              "  2: 2964076967.28,\n",
              "  3: 2264018378.54,\n",
              "  4: 2106244581.86,\n",
              "  5: 2070686741.12,\n",
              "  6: 2062672988.1,\n",
              "  7: 2060866908.72,\n",
              "  8: 2060459866.86,\n",
              "  9: 2060368129.27})"
            ]
          },
          "metadata": {
            "tags": []
          },
          "execution_count": 622
        }
      ]
    },
    {
      "cell_type": "code",
      "metadata": {
        "colab": {
          "base_uri": "https://localhost:8080/",
          "height": 301
        },
        "id": "NVBNfKQ7uLai",
        "outputId": "65edb776-73b0-497a-f643-5848b8c00763"
      },
      "source": [
        "# Graficar error por cada interación. Variable 1stFlrSF\n",
        "\n",
        "error_por_iteracion_graph(errores_FirstFlrSF)"
      ],
      "execution_count": 623,
      "outputs": [
        {
          "output_type": "display_data",
          "data": {
            "image/png": "[encoded data removed]",
            "text/plain": [
              "<Figure size 432x288 with 1 Axes>"
            ]
          },
          "metadata": {
            "tags": [],
            "needs_background": "light"
          }
        }
      ]
    },
    {
      "cell_type": "code",
      "metadata": {
        "colab": {
          "base_uri": "https://localhost:8080/",
          "height": 300
        },
        "id": "O1QSVi7nuLOS",
        "outputId": "e4da862e-026a-4db7-aec1-54fd540043fc"
      },
      "source": [
        "# Graficar Evolución del modelo entrenado. Variable 1stFlrSF\n",
        "\n",
        "n = 1    # Graficar cada n iteraciones\n",
        "\n",
        "evolucion_modelo_graph(modelos_FirstFlrSF, n, FirstFlrSF, SalePrice)"
      ],
      "execution_count": 624,
      "outputs": [
        {
          "output_type": "display_data",
          "data": {
            "image/png": "[encoded data removed]",
            "text/plain": [
              "<Figure size 432x288 with 1 Axes>"
            ]
          },
          "metadata": {
            "tags": [],
            "needs_background": "light"
          }
        }
      ]
    },
    {
      "cell_type": "markdown",
      "metadata": {
        "id": "APfY1r7rj3Gr"
      },
      "source": [
        "### ENTRENAR MODELOS CON LA FUNCION **SCIKIT-LEARN**"
      ]
    },
    {
      "cell_type": "code",
      "metadata": {
        "colab": {
          "base_uri": "https://localhost:8080/"
        },
        "id": "mNQNJxRH94Dc",
        "outputId": "0f4e89d1-632f-47cd-b1e0-b8a03e76c14c"
      },
      "source": [
        "# Entrenar modelo de regresión lineal para las 2 variables seleccionadas con mayor correlación, usando SCIKIT-LEARN\n",
        "\n",
        "SalePrice = np.array(train[\"SalePrice\"]).reshape(-1,1)\n",
        "OverallQual = np.array(train[\"OverallQual\"]).reshape(-1,1)\n",
        "FirstFlrSF = np.array(train[\"1stFlrSF\"]).reshape(-1,1)\n",
        "\n",
        "LR_OverallQual = LinearRegression()\n",
        "LR_OverallQual.fit(OverallQual, SalePrice)\n",
        "\n",
        "LR_FirstFlrSF = LinearRegression()\n",
        "LR_FirstFlrSF.fit(FirstFlrSF, SalePrice)"
      ],
      "execution_count": 625,
      "outputs": [
        {
          "output_type": "execute_result",
          "data": {
            "text/plain": [
              "LinearRegression(copy_X=True, fit_intercept=True, n_jobs=None, normalize=False)"
            ]
          },
          "metadata": {
            "tags": []
          },
          "execution_count": 625
        }
      ]
    },
    {
      "cell_type": "code",
      "metadata": {
        "colab": {
          "base_uri": "https://localhost:8080/"
        },
        "id": "8G9KypJU_R9e",
        "outputId": "7429a892-debc-488c-aa43-582ce4b5766b"
      },
      "source": [
        "# Último modelo(con menor error) para cada variable x elegida\n",
        "\n",
        "mb_OverallQual = modelos_OverallQual[len(modelos_OverallQual)-1]\n",
        "mb_FirstFlrSF = modelos_FirstFlrSF[len(modelos_FirstFlrSF)-1]\n",
        "\n",
        "print(\"Modelo (mb) para OverallQual: \", mb_OverallQual)\n",
        "print(\"Modelo (mb) para FirstFlrSF:  \", mb_FirstFlrSF)"
      ],
      "execution_count": 629,
      "outputs": [
        {
          "output_type": "stream",
          "text": [
            "Modelo (mb) para OverallQual:  [38764.01728843078, -54879.84638859897]\n",
            "Modelo (mb) para FirstFlrSF:   [155.24785321753194, 0.13625038272259282]\n"
          ],
          "name": "stdout"
        }
      ]
    },
    {
      "cell_type": "code",
      "metadata": {
        "id": "rkBknsBa-Mae"
      },
      "source": [
        "def prediccion_promedio(mb_model, LR_model, x):\n",
        "  matrix = np.array(x).reshape(-1,1)\n",
        "  ones_matrix = np.ones_like(matrix)\n",
        "  new_matrix = np.hstack((matrix, ones_matrix))\n",
        "\n",
        "  yhat_manual = np.matmul(new_matrix, mb_model).reshape(-1,1)\n",
        "  yhat_scikit_learn = LR_model.predict(x)\n",
        "  yhat_promedio = (yhat_manual + yhat_scikit_learn) / 2\n",
        "\n",
        "  return(\"----------------------------------------------------------------------------------------------------------------------\",\n",
        "         \"Predicción de SalePrice con el modelo entrenado manualmente: \", yhat_manual,\n",
        "         \"----------------------------------------------------------------------------------------------------------------------\",\n",
        "         \"Predicción de SalePrice con  el modelo entrenado con SCIKIT-LEARN: \", yhat_scikit_learn,\n",
        "         \"----------------------------------------------------------------------------------------------------------------------\",\n",
        "         \"Predicción de SalePrice promedio de las 2 anteriores: \", yhat_promedio)"
      ],
      "execution_count": 631,
      "outputs": []
    },
    {
      "cell_type": "code",
      "metadata": {
        "colab": {
          "base_uri": "https://localhost:8080/"
        },
        "id": "cMiGVLGAT2JG",
        "outputId": "ec65842d-234a-4092-c18f-ba4728af8804"
      },
      "source": [
        "prediccion_promedio(mb_OverallQual, LR_OverallQual, OverallQual[:5,])"
      ],
      "execution_count": 632,
      "outputs": [
        {
          "output_type": "execute_result",
          "data": {
            "text/plain": [
              "('----------------------------------------------------------------------------------------------------------------------',\n",
              " 'Predicción de SalePrice con el modelo entrenado manualmente: ',\n",
              " array([[216468.27463042],\n",
              "        [177704.25734199],\n",
              "        [216468.27463042],\n",
              "        [216468.27463042],\n",
              "        [255232.29191885]]),\n",
              " '----------------------------------------------------------------------------------------------------------------------',\n",
              " 'Predicción de SalePrice con  el modelo entrenado con SCIKIT-LEARN: ',\n",
              " array([[222582.80833084],\n",
              "        [175069.59334162],\n",
              "        [222582.80833084],\n",
              "        [222582.80833084],\n",
              "        [270096.02332006]]),\n",
              " '----------------------------------------------------------------------------------------------------------------------',\n",
              " 'Predicción de SalePrice promedio de las 2 anteriores: ',\n",
              " array([[219525.54148063],\n",
              "        [176386.9253418 ],\n",
              "        [219525.54148063],\n",
              "        [219525.54148063],\n",
              "        [262664.15761945]]))"
            ]
          },
          "metadata": {
            "tags": []
          },
          "execution_count": 632
        }
      ]
    },
    {
      "cell_type": "code",
      "metadata": {
        "id": "aBU9mBU9XkrR"
      },
      "source": [
        ""
      ],
      "execution_count": null,
      "outputs": []
    },
    {
      "cell_type": "code",
      "metadata": {
        "id": "3-GoIwmAXkg8"
      },
      "source": [
        ""
      ],
      "execution_count": null,
      "outputs": []
    },
    {
      "cell_type": "code",
      "metadata": {
        "id": "b3FAhbcpXkQU"
      },
      "source": [
        ""
      ],
      "execution_count": null,
      "outputs": []
    },
    {
      "cell_type": "code",
      "metadata": {
        "id": "jz6bzT5iuLI5"
      },
      "source": [
        ""
      ],
      "execution_count": 40,
      "outputs": []
    }
  ]
}