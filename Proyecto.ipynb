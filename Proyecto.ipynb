{
  "nbformat": 4,
  "nbformat_minor": 0,
  "metadata": {
    "colab": {
      "name": "Proyecto.ipynb",
      "provenance": [],
      "collapsed_sections": [],
      "authorship_tag": "ABX9TyO2B4QReS18s8XB6G+bShDl",
      "include_colab_link": true
    },
    "kernelspec": {
      "name": "python3",
      "display_name": "Python 3"
    },
    "language_info": {
      "name": "python"
    }
  },
  "cells": [
    {
      "cell_type": "markdown",
      "metadata": {
        "id": "view-in-github",
        "colab_type": "text"
      },
      "source": [
        "<a href=\"https://colab.research.google.com/github/navas604/Ciencia-de-Datos-en-Python/blob/main/Proyecto.ipynb\" target=\"_parent\"><img src=\"https://colab.research.google.com/assets/colab-badge.svg\" alt=\"Open In Colab\"/></a>"
      ]
    },
    {
      "cell_type": "markdown",
      "metadata": {
        "id": "8n5ihXRiD2V-"
      },
      "source": [
        "## **Universidad Galileo**\n",
        "## **Maestría en Data Science**\n",
        "## **Ciencia de Datos en Python**\n",
        "## **Antonio Everardo Navas Contreras, 14003163**\n",
        "## **07/04/2021**\n",
        "\n",
        "---\n",
        "\n",
        "## **PROYECTO**\n",
        "\n",
        "---"
      ]
    },
    {
      "cell_type": "markdown",
      "metadata": {
        "id": "-OvpCFp8M2oJ"
      },
      "source": [
        "### CARGAR LIBRERIAS"
      ]
    },
    {
      "cell_type": "code",
      "metadata": {
        "id": "0SX0M5CQAKGF"
      },
      "source": [
        "import numpy as np\n",
        "import seaborn as sns\n",
        "import matplotlib.pyplot as plt\n",
        "import pandas as pd"
      ],
      "execution_count": 1,
      "outputs": []
    },
    {
      "cell_type": "markdown",
      "metadata": {
        "id": "iQ4PceHiM7e6"
      },
      "source": [
        "### CARGAR Y PREPARAR EL DATASET, SEPARAR EN TRAIN Y TEST"
      ]
    },
    {
      "cell_type": "code",
      "metadata": {
        "id": "5eQoAi6-AQqZ"
      },
      "source": [
        "# Cargar el Dataset original\n",
        "\n",
        "URL = \"proyecto_training_data.npy\"\n",
        "dataset = np.load(URL) "
      ],
      "execution_count": 2,
      "outputs": []
    },
    {
      "cell_type": "code",
      "metadata": {
        "colab": {
          "base_uri": "https://localhost:8080/"
        },
        "id": "tPwdPiCc8smP",
        "outputId": "70f30ab3-dfdc-456d-ce1f-78d7afb005ac"
      },
      "source": [
        "dataset"
      ],
      "execution_count": 3,
      "outputs": [
        {
          "output_type": "execute_result",
          "data": {
            "text/plain": [
              "array([[2.08500e+05, 7.00000e+00, 8.56000e+02, 8.00000e+00, 2.00300e+03,\n",
              "        6.50000e+01],\n",
              "       [1.81500e+05, 6.00000e+00, 1.26200e+03, 6.00000e+00, 1.97600e+03,\n",
              "        8.00000e+01],\n",
              "       [2.23500e+05, 7.00000e+00, 9.20000e+02, 6.00000e+00, 2.00100e+03,\n",
              "        6.80000e+01],\n",
              "       ...,\n",
              "       [2.66500e+05, 7.00000e+00, 1.18800e+03, 9.00000e+00, 1.94100e+03,\n",
              "        6.60000e+01],\n",
              "       [1.42125e+05, 5.00000e+00, 1.07800e+03, 5.00000e+00, 1.95000e+03,\n",
              "        6.80000e+01],\n",
              "       [1.47500e+05, 5.00000e+00, 1.25600e+03, 6.00000e+00, 1.96500e+03,\n",
              "        7.50000e+01]])"
            ]
          },
          "metadata": {
            "tags": []
          },
          "execution_count": 3
        }
      ]
    },
    {
      "cell_type": "code",
      "metadata": {
        "colab": {
          "base_uri": "https://localhost:8080/"
        },
        "id": "Qz2mnh0h7jmf",
        "outputId": "bd6ff39e-d09d-4aa8-f843-343dbf257354"
      },
      "source": [
        "# Explorando el Dataset\n",
        "\n",
        "print(\"Dataset Shape:       \", dataset.shape)\n",
        "print(\"Dataset type:        \", type(dataset))\n",
        "print(\"Dataset nan values:  \", np.isnan(dataset).sum())"
      ],
      "execution_count": 4,
      "outputs": [
        {
          "output_type": "stream",
          "text": [
            "Dataset Shape:        (1460, 6)\n",
            "Dataset type:         <class 'numpy.ndarray'>\n",
            "Dataset nan values:   259\n"
          ],
          "name": "stdout"
        }
      ]
    },
    {
      "cell_type": "code",
      "metadata": {
        "id": "dS-mjVtN7aT5",
        "colab": {
          "base_uri": "https://localhost:8080/"
        },
        "outputId": "9428f123-5359-4631-d3e2-92ecdcea8756"
      },
      "source": [
        "# Limpiar el dataset de valores \"nan\"\n",
        "\n",
        "dataset = dataset[~np.isnan(dataset).any(axis=1)]\n",
        "\n",
        "print(\"Dataset Shape:       \", dataset.shape)\n",
        "print(\"Dataset type:        \", type(dataset))\n",
        "print(\"Dataset nan values:  \", np.isnan(dataset).sum())"
      ],
      "execution_count": 5,
      "outputs": [
        {
          "output_type": "stream",
          "text": [
            "Dataset Shape:        (1201, 6)\n",
            "Dataset type:         <class 'numpy.ndarray'>\n",
            "Dataset nan values:   0\n"
          ],
          "name": "stdout"
        }
      ]
    },
    {
      "cell_type": "code",
      "metadata": {
        "colab": {
          "base_uri": "https://localhost:8080/",
          "height": 419
        },
        "id": "eZztwf15ziA4",
        "outputId": "0a2db5d1-b84b-4666-e13a-432485fa4977"
      },
      "source": [
        "# Convertirlo a DataFrame\n",
        "\n",
        "variables = list([\"SalePrice\", \"OverallQual\", \"1stFlrSF\", \"TotRmsAbvGrd\", \"YearBuilt\", \"LotFrontage\"])\n",
        "\n",
        "df = pd.DataFrame(dataset, columns=variables)\n",
        "\n",
        "df"
      ],
      "execution_count": 6,
      "outputs": [
        {
          "output_type": "execute_result",
          "data": {
            "text/html": [
              "<div>\n",
              "<style scoped>\n",
              "    .dataframe tbody tr th:only-of-type {\n",
              "        vertical-align: middle;\n",
              "    }\n",
              "\n",
              "    .dataframe tbody tr th {\n",
              "        vertical-align: top;\n",
              "    }\n",
              "\n",
              "    .dataframe thead th {\n",
              "        text-align: right;\n",
              "    }\n",
              "</style>\n",
              "<table border=\"1\" class=\"dataframe\">\n",
              "  <thead>\n",
              "    <tr style=\"text-align: right;\">\n",
              "      <th></th>\n",
              "      <th>SalePrice</th>\n",
              "      <th>OverallQual</th>\n",
              "      <th>1stFlrSF</th>\n",
              "      <th>TotRmsAbvGrd</th>\n",
              "      <th>YearBuilt</th>\n",
              "      <th>LotFrontage</th>\n",
              "    </tr>\n",
              "  </thead>\n",
              "  <tbody>\n",
              "    <tr>\n",
              "      <th>0</th>\n",
              "      <td>208500.0</td>\n",
              "      <td>7.0</td>\n",
              "      <td>856.0</td>\n",
              "      <td>8.0</td>\n",
              "      <td>2003.0</td>\n",
              "      <td>65.0</td>\n",
              "    </tr>\n",
              "    <tr>\n",
              "      <th>1</th>\n",
              "      <td>181500.0</td>\n",
              "      <td>6.0</td>\n",
              "      <td>1262.0</td>\n",
              "      <td>6.0</td>\n",
              "      <td>1976.0</td>\n",
              "      <td>80.0</td>\n",
              "    </tr>\n",
              "    <tr>\n",
              "      <th>2</th>\n",
              "      <td>223500.0</td>\n",
              "      <td>7.0</td>\n",
              "      <td>920.0</td>\n",
              "      <td>6.0</td>\n",
              "      <td>2001.0</td>\n",
              "      <td>68.0</td>\n",
              "    </tr>\n",
              "    <tr>\n",
              "      <th>3</th>\n",
              "      <td>140000.0</td>\n",
              "      <td>7.0</td>\n",
              "      <td>961.0</td>\n",
              "      <td>7.0</td>\n",
              "      <td>1915.0</td>\n",
              "      <td>60.0</td>\n",
              "    </tr>\n",
              "    <tr>\n",
              "      <th>4</th>\n",
              "      <td>250000.0</td>\n",
              "      <td>8.0</td>\n",
              "      <td>1145.0</td>\n",
              "      <td>9.0</td>\n",
              "      <td>2000.0</td>\n",
              "      <td>84.0</td>\n",
              "    </tr>\n",
              "    <tr>\n",
              "      <th>...</th>\n",
              "      <td>...</td>\n",
              "      <td>...</td>\n",
              "      <td>...</td>\n",
              "      <td>...</td>\n",
              "      <td>...</td>\n",
              "      <td>...</td>\n",
              "    </tr>\n",
              "    <tr>\n",
              "      <th>1196</th>\n",
              "      <td>175000.0</td>\n",
              "      <td>6.0</td>\n",
              "      <td>953.0</td>\n",
              "      <td>7.0</td>\n",
              "      <td>1999.0</td>\n",
              "      <td>62.0</td>\n",
              "    </tr>\n",
              "    <tr>\n",
              "      <th>1197</th>\n",
              "      <td>210000.0</td>\n",
              "      <td>6.0</td>\n",
              "      <td>2073.0</td>\n",
              "      <td>7.0</td>\n",
              "      <td>1978.0</td>\n",
              "      <td>85.0</td>\n",
              "    </tr>\n",
              "    <tr>\n",
              "      <th>1198</th>\n",
              "      <td>266500.0</td>\n",
              "      <td>7.0</td>\n",
              "      <td>1188.0</td>\n",
              "      <td>9.0</td>\n",
              "      <td>1941.0</td>\n",
              "      <td>66.0</td>\n",
              "    </tr>\n",
              "    <tr>\n",
              "      <th>1199</th>\n",
              "      <td>142125.0</td>\n",
              "      <td>5.0</td>\n",
              "      <td>1078.0</td>\n",
              "      <td>5.0</td>\n",
              "      <td>1950.0</td>\n",
              "      <td>68.0</td>\n",
              "    </tr>\n",
              "    <tr>\n",
              "      <th>1200</th>\n",
              "      <td>147500.0</td>\n",
              "      <td>5.0</td>\n",
              "      <td>1256.0</td>\n",
              "      <td>6.0</td>\n",
              "      <td>1965.0</td>\n",
              "      <td>75.0</td>\n",
              "    </tr>\n",
              "  </tbody>\n",
              "</table>\n",
              "<p>1201 rows × 6 columns</p>\n",
              "</div>"
            ],
            "text/plain": [
              "      SalePrice  OverallQual  1stFlrSF  TotRmsAbvGrd  YearBuilt  LotFrontage\n",
              "0      208500.0          7.0     856.0           8.0     2003.0         65.0\n",
              "1      181500.0          6.0    1262.0           6.0     1976.0         80.0\n",
              "2      223500.0          7.0     920.0           6.0     2001.0         68.0\n",
              "3      140000.0          7.0     961.0           7.0     1915.0         60.0\n",
              "4      250000.0          8.0    1145.0           9.0     2000.0         84.0\n",
              "...         ...          ...       ...           ...        ...          ...\n",
              "1196   175000.0          6.0     953.0           7.0     1999.0         62.0\n",
              "1197   210000.0          6.0    2073.0           7.0     1978.0         85.0\n",
              "1198   266500.0          7.0    1188.0           9.0     1941.0         66.0\n",
              "1199   142125.0          5.0    1078.0           5.0     1950.0         68.0\n",
              "1200   147500.0          5.0    1256.0           6.0     1965.0         75.0\n",
              "\n",
              "[1201 rows x 6 columns]"
            ]
          },
          "metadata": {
            "tags": []
          },
          "execution_count": 6
        }
      ]
    },
    {
      "cell_type": "code",
      "metadata": {
        "colab": {
          "base_uri": "https://localhost:8080/"
        },
        "id": "EqkcZZbb1Daa",
        "outputId": "97a5d710-c006-4b09-a073-001f74087cad"
      },
      "source": [
        "# Revisar el tipo de las variables\n",
        "\n",
        "print(df.dtypes)"
      ],
      "execution_count": 7,
      "outputs": [
        {
          "output_type": "stream",
          "text": [
            "SalePrice       float64\n",
            "OverallQual     float64\n",
            "1stFlrSF        float64\n",
            "TotRmsAbvGrd    float64\n",
            "YearBuilt       float64\n",
            "LotFrontage     float64\n",
            "dtype: object\n"
          ],
          "name": "stdout"
        }
      ]
    },
    {
      "cell_type": "code",
      "metadata": {
        "id": "jceMYFlWQNqP",
        "colab": {
          "base_uri": "https://localhost:8080/"
        },
        "outputId": "ee0250f6-001e-4429-cbce-965ccbb01700"
      },
      "source": [
        "# Convertir algunas variables a enteros\n",
        "df[\"OverallQual\"] = df[\"OverallQual\"].astype(int)\n",
        "df[\"TotRmsAbvGrd\"] = df[\"TotRmsAbvGrd\"].astype(int)\n",
        "df[\"YearBuilt\"] = df[\"YearBuilt\"].astype(int)\n",
        "\n",
        "print(df.dtypes)"
      ],
      "execution_count": 8,
      "outputs": [
        {
          "output_type": "stream",
          "text": [
            "SalePrice       float64\n",
            "OverallQual       int64\n",
            "1stFlrSF        float64\n",
            "TotRmsAbvGrd      int64\n",
            "YearBuilt         int64\n",
            "LotFrontage     float64\n",
            "dtype: object\n"
          ],
          "name": "stdout"
        }
      ]
    },
    {
      "cell_type": "code",
      "metadata": {
        "colab": {
          "base_uri": "https://localhost:8080/",
          "height": 419
        },
        "id": "yIjT1CaiDybO",
        "outputId": "595ba149-dea3-45f2-d5c2-34cfb32a150a"
      },
      "source": [
        "df"
      ],
      "execution_count": 9,
      "outputs": [
        {
          "output_type": "execute_result",
          "data": {
            "text/html": [
              "<div>\n",
              "<style scoped>\n",
              "    .dataframe tbody tr th:only-of-type {\n",
              "        vertical-align: middle;\n",
              "    }\n",
              "\n",
              "    .dataframe tbody tr th {\n",
              "        vertical-align: top;\n",
              "    }\n",
              "\n",
              "    .dataframe thead th {\n",
              "        text-align: right;\n",
              "    }\n",
              "</style>\n",
              "<table border=\"1\" class=\"dataframe\">\n",
              "  <thead>\n",
              "    <tr style=\"text-align: right;\">\n",
              "      <th></th>\n",
              "      <th>SalePrice</th>\n",
              "      <th>OverallQual</th>\n",
              "      <th>1stFlrSF</th>\n",
              "      <th>TotRmsAbvGrd</th>\n",
              "      <th>YearBuilt</th>\n",
              "      <th>LotFrontage</th>\n",
              "    </tr>\n",
              "  </thead>\n",
              "  <tbody>\n",
              "    <tr>\n",
              "      <th>0</th>\n",
              "      <td>208500.0</td>\n",
              "      <td>7</td>\n",
              "      <td>856.0</td>\n",
              "      <td>8</td>\n",
              "      <td>2003</td>\n",
              "      <td>65.0</td>\n",
              "    </tr>\n",
              "    <tr>\n",
              "      <th>1</th>\n",
              "      <td>181500.0</td>\n",
              "      <td>6</td>\n",
              "      <td>1262.0</td>\n",
              "      <td>6</td>\n",
              "      <td>1976</td>\n",
              "      <td>80.0</td>\n",
              "    </tr>\n",
              "    <tr>\n",
              "      <th>2</th>\n",
              "      <td>223500.0</td>\n",
              "      <td>7</td>\n",
              "      <td>920.0</td>\n",
              "      <td>6</td>\n",
              "      <td>2001</td>\n",
              "      <td>68.0</td>\n",
              "    </tr>\n",
              "    <tr>\n",
              "      <th>3</th>\n",
              "      <td>140000.0</td>\n",
              "      <td>7</td>\n",
              "      <td>961.0</td>\n",
              "      <td>7</td>\n",
              "      <td>1915</td>\n",
              "      <td>60.0</td>\n",
              "    </tr>\n",
              "    <tr>\n",
              "      <th>4</th>\n",
              "      <td>250000.0</td>\n",
              "      <td>8</td>\n",
              "      <td>1145.0</td>\n",
              "      <td>9</td>\n",
              "      <td>2000</td>\n",
              "      <td>84.0</td>\n",
              "    </tr>\n",
              "    <tr>\n",
              "      <th>...</th>\n",
              "      <td>...</td>\n",
              "      <td>...</td>\n",
              "      <td>...</td>\n",
              "      <td>...</td>\n",
              "      <td>...</td>\n",
              "      <td>...</td>\n",
              "    </tr>\n",
              "    <tr>\n",
              "      <th>1196</th>\n",
              "      <td>175000.0</td>\n",
              "      <td>6</td>\n",
              "      <td>953.0</td>\n",
              "      <td>7</td>\n",
              "      <td>1999</td>\n",
              "      <td>62.0</td>\n",
              "    </tr>\n",
              "    <tr>\n",
              "      <th>1197</th>\n",
              "      <td>210000.0</td>\n",
              "      <td>6</td>\n",
              "      <td>2073.0</td>\n",
              "      <td>7</td>\n",
              "      <td>1978</td>\n",
              "      <td>85.0</td>\n",
              "    </tr>\n",
              "    <tr>\n",
              "      <th>1198</th>\n",
              "      <td>266500.0</td>\n",
              "      <td>7</td>\n",
              "      <td>1188.0</td>\n",
              "      <td>9</td>\n",
              "      <td>1941</td>\n",
              "      <td>66.0</td>\n",
              "    </tr>\n",
              "    <tr>\n",
              "      <th>1199</th>\n",
              "      <td>142125.0</td>\n",
              "      <td>5</td>\n",
              "      <td>1078.0</td>\n",
              "      <td>5</td>\n",
              "      <td>1950</td>\n",
              "      <td>68.0</td>\n",
              "    </tr>\n",
              "    <tr>\n",
              "      <th>1200</th>\n",
              "      <td>147500.0</td>\n",
              "      <td>5</td>\n",
              "      <td>1256.0</td>\n",
              "      <td>6</td>\n",
              "      <td>1965</td>\n",
              "      <td>75.0</td>\n",
              "    </tr>\n",
              "  </tbody>\n",
              "</table>\n",
              "<p>1201 rows × 6 columns</p>\n",
              "</div>"
            ],
            "text/plain": [
              "      SalePrice  OverallQual  1stFlrSF  TotRmsAbvGrd  YearBuilt  LotFrontage\n",
              "0      208500.0            7     856.0             8       2003         65.0\n",
              "1      181500.0            6    1262.0             6       1976         80.0\n",
              "2      223500.0            7     920.0             6       2001         68.0\n",
              "3      140000.0            7     961.0             7       1915         60.0\n",
              "4      250000.0            8    1145.0             9       2000         84.0\n",
              "...         ...          ...       ...           ...        ...          ...\n",
              "1196   175000.0            6     953.0             7       1999         62.0\n",
              "1197   210000.0            6    2073.0             7       1978         85.0\n",
              "1198   266500.0            7    1188.0             9       1941         66.0\n",
              "1199   142125.0            5    1078.0             5       1950         68.0\n",
              "1200   147500.0            5    1256.0             6       1965         75.0\n",
              "\n",
              "[1201 rows x 6 columns]"
            ]
          },
          "metadata": {
            "tags": []
          },
          "execution_count": 9
        }
      ]
    },
    {
      "cell_type": "code",
      "metadata": {
        "colab": {
          "base_uri": "https://localhost:8080/"
        },
        "id": "Qsqu2yZPF_4Q",
        "outputId": "0173cc60-50d6-4641-a272-3fc58dee38f6"
      },
      "source": [
        "# Separar dataframe en Train y Test\n",
        "\n",
        "rows, columns = df.shape\n",
        "\n",
        "train = df.loc[:int(rows*0.8),]\n",
        "test = df.loc[int(rows*0.8)+1:,]\n",
        "\n",
        "print(\"Train shape: \", train.shape)\n",
        "print(\"Test shape:  \", test.shape)"
      ],
      "execution_count": 10,
      "outputs": [
        {
          "output_type": "stream",
          "text": [
            "Train shape:  (961, 6)\n",
            "Test shape:   (240, 6)\n"
          ],
          "name": "stdout"
        }
      ]
    },
    {
      "cell_type": "code",
      "metadata": {
        "colab": {
          "base_uri": "https://localhost:8080/"
        },
        "id": "Wpv8NnxP-AWd",
        "outputId": "744bac90-4844-491f-fa6b-7c23315de304"
      },
      "source": [
        "print(train)\n",
        "print(test)"
      ],
      "execution_count": 11,
      "outputs": [
        {
          "output_type": "stream",
          "text": [
            "     SalePrice  OverallQual  1stFlrSF  TotRmsAbvGrd  YearBuilt  LotFrontage\n",
            "0     208500.0            7     856.0             8       2003         65.0\n",
            "1     181500.0            6    1262.0             6       1976         80.0\n",
            "2     223500.0            7     920.0             6       2001         68.0\n",
            "3     140000.0            7     961.0             7       1915         60.0\n",
            "4     250000.0            8    1145.0             9       2000         84.0\n",
            "..         ...          ...       ...           ...        ...          ...\n",
            "956   146000.0            6     855.0             7       1978         24.0\n",
            "957   129000.0            5     894.0             5       1968        109.0\n",
            "958   108959.0            4    1258.0             6       1969         60.0\n",
            "959   233170.0            7    1502.0             7       2009         79.0\n",
            "960   245350.0            8    1694.0             7       2008         64.0\n",
            "\n",
            "[961 rows x 6 columns]\n",
            "      SalePrice  OverallQual  1stFlrSF  TotRmsAbvGrd  YearBuilt  LotFrontage\n",
            "961    173000.0            6     959.0             7       2000         58.0\n",
            "962    235000.0            6    1236.0             7       1935        120.0\n",
            "963    625000.0           10    1831.0            10       1995        118.0\n",
            "964    171000.0            6    1118.0             6       1977         76.0\n",
            "965    163000.0            6    1261.0             6       1958         76.0\n",
            "...         ...          ...       ...           ...        ...          ...\n",
            "1196   175000.0            6     953.0             7       1999         62.0\n",
            "1197   210000.0            6    2073.0             7       1978         85.0\n",
            "1198   266500.0            7    1188.0             9       1941         66.0\n",
            "1199   142125.0            5    1078.0             5       1950         68.0\n",
            "1200   147500.0            5    1256.0             6       1965         75.0\n",
            "\n",
            "[240 rows x 6 columns]\n"
          ],
          "name": "stdout"
        }
      ]
    },
    {
      "cell_type": "markdown",
      "metadata": {
        "id": "odhcSiS4Mumw"
      },
      "source": [
        "### ANALISIS EXPLORATORIO"
      ]
    },
    {
      "cell_type": "code",
      "metadata": {
        "colab": {
          "base_uri": "https://localhost:8080/",
          "height": 297
        },
        "id": "Spt05sCvsnFt",
        "outputId": "38c6b99a-3858-4f14-d858-8610544f75dc"
      },
      "source": [
        "# Estadística descrip\btiva utilizando la función .describe() de la librería pandas\n",
        "\n",
        "round(train.describe(), 2)"
      ],
      "execution_count": 12,
      "outputs": [
        {
          "output_type": "execute_result",
          "data": {
            "text/html": [
              "<div>\n",
              "<style scoped>\n",
              "    .dataframe tbody tr th:only-of-type {\n",
              "        vertical-align: middle;\n",
              "    }\n",
              "\n",
              "    .dataframe tbody tr th {\n",
              "        vertical-align: top;\n",
              "    }\n",
              "\n",
              "    .dataframe thead th {\n",
              "        text-align: right;\n",
              "    }\n",
              "</style>\n",
              "<table border=\"1\" class=\"dataframe\">\n",
              "  <thead>\n",
              "    <tr style=\"text-align: right;\">\n",
              "      <th></th>\n",
              "      <th>SalePrice</th>\n",
              "      <th>OverallQual</th>\n",
              "      <th>1stFlrSF</th>\n",
              "      <th>TotRmsAbvGrd</th>\n",
              "      <th>YearBuilt</th>\n",
              "      <th>LotFrontage</th>\n",
              "    </tr>\n",
              "  </thead>\n",
              "  <tbody>\n",
              "    <tr>\n",
              "      <th>count</th>\n",
              "      <td>961.00</td>\n",
              "      <td>961.00</td>\n",
              "      <td>961.00</td>\n",
              "      <td>961.00</td>\n",
              "      <td>961.00</td>\n",
              "      <td>961.00</td>\n",
              "    </tr>\n",
              "    <tr>\n",
              "      <th>mean</th>\n",
              "      <td>181002.57</td>\n",
              "      <td>6.12</td>\n",
              "      <td>1155.83</td>\n",
              "      <td>6.50</td>\n",
              "      <td>1970.64</td>\n",
              "      <td>69.96</td>\n",
              "    </tr>\n",
              "    <tr>\n",
              "      <th>std</th>\n",
              "      <td>83374.26</td>\n",
              "      <td>1.42</td>\n",
              "      <td>372.73</td>\n",
              "      <td>1.62</td>\n",
              "      <td>31.55</td>\n",
              "      <td>23.49</td>\n",
              "    </tr>\n",
              "    <tr>\n",
              "      <th>min</th>\n",
              "      <td>34900.00</td>\n",
              "      <td>1.00</td>\n",
              "      <td>334.00</td>\n",
              "      <td>2.00</td>\n",
              "      <td>1875.00</td>\n",
              "      <td>21.00</td>\n",
              "    </tr>\n",
              "    <tr>\n",
              "      <th>25%</th>\n",
              "      <td>127500.00</td>\n",
              "      <td>5.00</td>\n",
              "      <td>877.00</td>\n",
              "      <td>5.00</td>\n",
              "      <td>1950.00</td>\n",
              "      <td>59.00</td>\n",
              "    </tr>\n",
              "    <tr>\n",
              "      <th>50%</th>\n",
              "      <td>159500.00</td>\n",
              "      <td>6.00</td>\n",
              "      <td>1086.00</td>\n",
              "      <td>6.00</td>\n",
              "      <td>1972.00</td>\n",
              "      <td>70.00</td>\n",
              "    </tr>\n",
              "    <tr>\n",
              "      <th>75%</th>\n",
              "      <td>214000.00</td>\n",
              "      <td>7.00</td>\n",
              "      <td>1391.00</td>\n",
              "      <td>7.00</td>\n",
              "      <td>2003.00</td>\n",
              "      <td>80.00</td>\n",
              "    </tr>\n",
              "    <tr>\n",
              "      <th>max</th>\n",
              "      <td>755000.00</td>\n",
              "      <td>10.00</td>\n",
              "      <td>3138.00</td>\n",
              "      <td>14.00</td>\n",
              "      <td>2010.00</td>\n",
              "      <td>313.00</td>\n",
              "    </tr>\n",
              "  </tbody>\n",
              "</table>\n",
              "</div>"
            ],
            "text/plain": [
              "       SalePrice  OverallQual  1stFlrSF  TotRmsAbvGrd  YearBuilt  LotFrontage\n",
              "count     961.00       961.00    961.00        961.00     961.00       961.00\n",
              "mean   181002.57         6.12   1155.83          6.50    1970.64        69.96\n",
              "std     83374.26         1.42    372.73          1.62      31.55        23.49\n",
              "min     34900.00         1.00    334.00          2.00    1875.00        21.00\n",
              "25%    127500.00         5.00    877.00          5.00    1950.00        59.00\n",
              "50%    159500.00         6.00   1086.00          6.00    1972.00        70.00\n",
              "75%    214000.00         7.00   1391.00          7.00    2003.00        80.00\n",
              "max    755000.00        10.00   3138.00         14.00    2010.00       313.00"
            ]
          },
          "metadata": {
            "tags": []
          },
          "execution_count": 12
        }
      ]
    },
    {
      "cell_type": "code",
      "metadata": {
        "colab": {
          "base_uri": "https://localhost:8080/"
        },
        "id": "BvAtZSsk_H1A",
        "outputId": "e764d083-4923-4fe9-a65c-155f3e4981f4"
      },
      "source": [
        "# Media utilizando la librería numpy\n",
        "\n",
        "print(\" VARIABLE         MEDIA \\n\\n\", round(np.mean(train, axis=0), 2))"
      ],
      "execution_count": 13,
      "outputs": [
        {
          "output_type": "stream",
          "text": [
            " VARIABLE         MEDIA \n",
            "\n",
            " SalePrice       181002.57\n",
            "OverallQual          6.12\n",
            "1stFlrSF          1155.83\n",
            "TotRmsAbvGrd         6.50\n",
            "YearBuilt         1970.64\n",
            "LotFrontage         69.96\n",
            "dtype: float64\n"
          ],
          "name": "stdout"
        }
      ]
    },
    {
      "cell_type": "code",
      "metadata": {
        "colab": {
          "base_uri": "https://localhost:8080/"
        },
        "id": "OD-7z_UNCPte",
        "outputId": "7dcded91-bd2d-48d7-f596-df079f99b706"
      },
      "source": [
        "# Valor Máximo utilizando la librería numpy\n",
        "\n",
        "print(\" VARIABLE      VALOR MAXIMO \\n\\n\", np.max(train, axis=0))"
      ],
      "execution_count": 14,
      "outputs": [
        {
          "output_type": "stream",
          "text": [
            " VARIABLE      VALOR MAXIMO \n",
            "\n",
            " SalePrice       755000.0\n",
            "OverallQual         10.0\n",
            "1stFlrSF          3138.0\n",
            "TotRmsAbvGrd        14.0\n",
            "YearBuilt         2010.0\n",
            "LotFrontage        313.0\n",
            "dtype: float64\n"
          ],
          "name": "stdout"
        }
      ]
    },
    {
      "cell_type": "code",
      "metadata": {
        "colab": {
          "base_uri": "https://localhost:8080/"
        },
        "id": "PhMdBUD_CPhU",
        "outputId": "6b3830e3-ffa8-478d-e51b-5cea2b0b1438"
      },
      "source": [
        "# Valor Mínimo utilizando la librería numpy\n",
        "\n",
        "print(\" VARIABLE      VALOR MINIMO \\n\\n\", np.min(train, axis=0))"
      ],
      "execution_count": 15,
      "outputs": [
        {
          "output_type": "stream",
          "text": [
            " VARIABLE      VALOR MINIMO \n",
            "\n",
            " SalePrice       34900.0\n",
            "OverallQual         1.0\n",
            "1stFlrSF          334.0\n",
            "TotRmsAbvGrd        2.0\n",
            "YearBuilt        1875.0\n",
            "LotFrontage        21.0\n",
            "dtype: float64\n"
          ],
          "name": "stdout"
        }
      ]
    },
    {
      "cell_type": "code",
      "metadata": {
        "colab": {
          "base_uri": "https://localhost:8080/"
        },
        "id": "q_FEDyLLCPUp",
        "outputId": "151c0c5a-a301-4c51-89c4-dd1de9deaba0"
      },
      "source": [
        "# Desviación Estándar utilizando la librería numpy\n",
        "\n",
        "print(\" VARIABLE    DESVIACION ESTANDAR \\n\\n\", round(np.std(train, axis=0), 2))"
      ],
      "execution_count": 16,
      "outputs": [
        {
          "output_type": "stream",
          "text": [
            " VARIABLE    DESVIACION ESTANDAR \n",
            "\n",
            " SalePrice       83330.87\n",
            "OverallQual         1.42\n",
            "1stFlrSF          372.53\n",
            "TotRmsAbvGrd        1.62\n",
            "YearBuilt          31.53\n",
            "LotFrontage        23.47\n",
            "dtype: float64\n"
          ],
          "name": "stdout"
        }
      ]
    },
    {
      "cell_type": "code",
      "metadata": {
        "colab": {
          "base_uri": "https://localhost:8080/",
          "height": 497
        },
        "id": "KvUi9o7xDXkG",
        "outputId": "a454fd31-d0de-4d66-adc8-d4cc18806240"
      },
      "source": [
        "# Histograma de cada variable\n",
        "\n",
        "plt.figure(figsize=(18, 8))\n",
        "plt.subplots_adjust(hspace=0.4)\n",
        "\n",
        "colors = [\"r\", \"g\", \"b\", \"c\", \"m\", \"y\"]\n",
        "\n",
        "for i in range(columns):\n",
        "  plt.subplot(2, 3, i+1)\n",
        "  sns.histplot(train.iloc[:,i], kde=True, color=colors[i])\n",
        "\n",
        "plt.show()  "
      ],
      "execution_count": 17,
      "outputs": [
        {
          "output_type": "display_data",
          "data": {
            "image/png": "[encoded data removed]",
            "text/plain": [
              "<Figure size 1296x576 with 6 Axes>"
            ]
          },
          "metadata": {
            "tags": [],
            "needs_background": "light"
          }
        }
      ]
    },
    {
      "cell_type": "code",
      "metadata": {
        "id": "-yIOx6_yDXfF",
        "colab": {
          "base_uri": "https://localhost:8080/",
          "height": 235
        },
        "outputId": "b47441cc-657f-4bde-bc95-aeaab99f13e4"
      },
      "source": [
        "# Matriz de Correlación entre todas las variables\n",
        "\n",
        "corr_matrix = round(train.corr(), 2)\n",
        "corr_matrix"
      ],
      "execution_count": 18,
      "outputs": [
        {
          "output_type": "execute_result",
          "data": {
            "text/html": [
              "<div>\n",
              "<style scoped>\n",
              "    .dataframe tbody tr th:only-of-type {\n",
              "        vertical-align: middle;\n",
              "    }\n",
              "\n",
              "    .dataframe tbody tr th {\n",
              "        vertical-align: top;\n",
              "    }\n",
              "\n",
              "    .dataframe thead th {\n",
              "        text-align: right;\n",
              "    }\n",
              "</style>\n",
              "<table border=\"1\" class=\"dataframe\">\n",
              "  <thead>\n",
              "    <tr style=\"text-align: right;\">\n",
              "      <th></th>\n",
              "      <th>SalePrice</th>\n",
              "      <th>OverallQual</th>\n",
              "      <th>1stFlrSF</th>\n",
              "      <th>TotRmsAbvGrd</th>\n",
              "      <th>YearBuilt</th>\n",
              "      <th>LotFrontage</th>\n",
              "    </tr>\n",
              "  </thead>\n",
              "  <tbody>\n",
              "    <tr>\n",
              "      <th>SalePrice</th>\n",
              "      <td>1.00</td>\n",
              "      <td>0.81</td>\n",
              "      <td>0.64</td>\n",
              "      <td>0.57</td>\n",
              "      <td>0.55</td>\n",
              "      <td>0.36</td>\n",
              "    </tr>\n",
              "    <tr>\n",
              "      <th>OverallQual</th>\n",
              "      <td>0.81</td>\n",
              "      <td>1.00</td>\n",
              "      <td>0.52</td>\n",
              "      <td>0.46</td>\n",
              "      <td>0.58</td>\n",
              "      <td>0.24</td>\n",
              "    </tr>\n",
              "    <tr>\n",
              "      <th>1stFlrSF</th>\n",
              "      <td>0.64</td>\n",
              "      <td>0.52</td>\n",
              "      <td>1.00</td>\n",
              "      <td>0.43</td>\n",
              "      <td>0.35</td>\n",
              "      <td>0.42</td>\n",
              "    </tr>\n",
              "    <tr>\n",
              "      <th>TotRmsAbvGrd</th>\n",
              "      <td>0.57</td>\n",
              "      <td>0.46</td>\n",
              "      <td>0.43</td>\n",
              "      <td>1.00</td>\n",
              "      <td>0.14</td>\n",
              "      <td>0.34</td>\n",
              "    </tr>\n",
              "    <tr>\n",
              "      <th>YearBuilt</th>\n",
              "      <td>0.55</td>\n",
              "      <td>0.58</td>\n",
              "      <td>0.35</td>\n",
              "      <td>0.14</td>\n",
              "      <td>1.00</td>\n",
              "      <td>0.12</td>\n",
              "    </tr>\n",
              "    <tr>\n",
              "      <th>LotFrontage</th>\n",
              "      <td>0.36</td>\n",
              "      <td>0.24</td>\n",
              "      <td>0.42</td>\n",
              "      <td>0.34</td>\n",
              "      <td>0.12</td>\n",
              "      <td>1.00</td>\n",
              "    </tr>\n",
              "  </tbody>\n",
              "</table>\n",
              "</div>"
            ],
            "text/plain": [
              "              SalePrice  OverallQual  ...  YearBuilt  LotFrontage\n",
              "SalePrice          1.00         0.81  ...       0.55         0.36\n",
              "OverallQual        0.81         1.00  ...       0.58         0.24\n",
              "1stFlrSF           0.64         0.52  ...       0.35         0.42\n",
              "TotRmsAbvGrd       0.57         0.46  ...       0.14         0.34\n",
              "YearBuilt          0.55         0.58  ...       1.00         0.12\n",
              "LotFrontage        0.36         0.24  ...       0.12         1.00\n",
              "\n",
              "[6 rows x 6 columns]"
            ]
          },
          "metadata": {
            "tags": []
          },
          "execution_count": 18
        }
      ]
    },
    {
      "cell_type": "code",
      "metadata": {
        "id": "Uqri3cVHYslN",
        "colab": {
          "base_uri": "https://localhost:8080/",
          "height": 349
        },
        "outputId": "9117afae-2ca1-49a7-86d7-0dea81317123"
      },
      "source": [
        "# Visualización de Matriz de Correlación entre todas las variables\n",
        "\n",
        "sns.heatmap(corr_matrix, annot=True)\n",
        "plt.title(\"Matriz de Correlación\", fontdict={\"fontsize\":20, \"color\":\"black\"})\n",
        "plt.show()"
      ],
      "execution_count": 129,
      "outputs": [
        {
          "output_type": "display_data",
          "data": {
            "image/png": "[encoded data removed]",
            "text/plain": [
              "<Figure size 432x288 with 2 Axes>"
            ]
          },
          "metadata": {
            "tags": [],
            "needs_background": "light"
          }
        }
      ]
    },
    {
      "cell_type": "code",
      "metadata": {
        "colab": {
          "base_uri": "https://localhost:8080/"
        },
        "id": "ONYSITUrZHv5",
        "outputId": "a3409a41-c30f-44cd-f23e-de27a19f33c1"
      },
      "source": [
        "# Coeficientes de correlación con el precio de venta \"SalePrice\"\n",
        "\n",
        "corr_matrix[\"SalePrice\"]"
      ],
      "execution_count": 20,
      "outputs": [
        {
          "output_type": "execute_result",
          "data": {
            "text/plain": [
              "SalePrice       1.00\n",
              "OverallQual     0.81\n",
              "1stFlrSF        0.64\n",
              "TotRmsAbvGrd    0.57\n",
              "YearBuilt       0.55\n",
              "LotFrontage     0.36\n",
              "Name: SalePrice, dtype: float64"
            ]
          },
          "metadata": {
            "tags": []
          },
          "execution_count": 20
        }
      ]
    },
    {
      "cell_type": "code",
      "metadata": {
        "colab": {
          "base_uri": "https://localhost:8080/",
          "height": 530
        },
        "id": "g5WM8sRxZyuv",
        "outputId": "e74e1ff5-31b4-4c86-d8b9-13f8647399b9"
      },
      "source": [
        "# Gráfica de dispersión de cada variable x con y (\"SalePrice\")\n",
        "\n",
        "plt.figure(figsize=(18, 8))\n",
        "plt.subplots_adjust(hspace=0.6, wspace=0.3)\n",
        "\n",
        "colors = [\"r\", \"g\", \"b\", \"c\", \"m\", \"y\"]\n",
        "\n",
        "for i in range(columns):\n",
        "  plt.subplot(2, 3, i+1)\n",
        "  plt.scatter(train.iloc[:,i], train.iloc[:,0], color=colors[i])\n",
        "  plt.title(\"Correlación entre SalePrice y {}\\nCoeficiente de Correlación: {}\".format(train.columns[i], corr_matrix.iloc[0,i]), \n",
        "            fontdict={\"fontsize\":14, \"color\":\"black\"})\n",
        "  plt.xlabel(train.columns[i])\n",
        "  plt.ylabel(train.columns[0])\n",
        "\n",
        "plt.show()\n"
      ],
      "execution_count": 126,
      "outputs": [
        {
          "output_type": "display_data",
          "data": {
            "image/png": "[encoded data removed]",
            "text/plain": [
              "<Figure size 1296x576 with 6 Axes>"
            ]
          },
          "metadata": {
            "tags": [],
            "needs_background": "light"
          }
        }
      ]
    },
    {
      "cell_type": "markdown",
      "metadata": {
        "id": "WSUIQNf9JpdF"
      },
      "source": [
        "Las 2 variables con mayor potencial predictivo (que presentan mayor correlación) son:\n",
        "\n",
        "*   **OverallQual** con coeficiente de correlación de **0.81**\n",
        "*   **1stFlrSF** con coeficiente de correlación de **0.64**\n"
      ]
    },
    {
      "cell_type": "markdown",
      "metadata": {
        "id": "69UmLaOIMIPt"
      },
      "source": [
        "### FUNCIONES"
      ]
    },
    {
      "cell_type": "code",
      "metadata": {
        "id": "T67YaxELZye_"
      },
      "source": [
        "# Función para entrenar el modelo\n",
        "\n",
        "def train_function(x, y, epochs, imprimir_error_cada, lr):\n",
        "  \n",
        "  matrix = np.reshape(np.array(x), (len(x),1))\n",
        "  ones_matrix = np.ones_like(matrix)\n",
        "  new_matrix = np.hstack((matrix, ones_matrix))\n",
        "\n",
        "  mb = [0, 0]\n",
        "  error = []\n",
        "  modelo_dict = {}\n",
        "  error_dict = {}\n",
        "\n",
        "  for i in range(epochs):\n",
        "    yhat = np.matmul(new_matrix, mb)\n",
        "\n",
        "    error.append(round(0.5 * np.mean(np.power(y - yhat, 2)), 2))\n",
        "\n",
        "    gradientes_m_b = np.array((np.mean((yhat - y)*x), np.mean(yhat - y)))\n",
        "    \n",
        "    mb = mb - (lr * gradientes_m_b)\n",
        "\n",
        "    modelo_dict[i] = tuple(mb)\n",
        "    error_dict[i] = error[i]\n",
        "\n",
        "    if i % imprimir_error_cada == 0:\n",
        "      print(\"Iteración:\", i, \"  Error:\", error[i])\n",
        "\n",
        "  return(\"----------------------------------------------------------------------------------------------------------------------\",\n",
        "         \"Modelo: \", modelo_dict,\n",
        "         \"----------------------------------------------------------------------------------------------------------------------\",\n",
        "         \"Error: \", error_dict)\n",
        "\n",
        "  #print(\"Modelo: \", modelo_dict)\n",
        "  #print(\"Error:  \", error_dict)\n",
        "\n"
      ],
      "execution_count": 23,
      "outputs": []
    },
    {
      "cell_type": "code",
      "metadata": {
        "colab": {
          "base_uri": "https://localhost:8080/"
        },
        "id": "yIE7jksWkQkn",
        "outputId": "19f65d1b-8762-4f0c-e22d-e885e7408d0d"
      },
      "source": [
        "# Datos de prueba brindados en el excel\n",
        "\n",
        "x = [65, 80, 68]\n",
        "y = [208.5, 181.5, 223.5]\n",
        "epochs = 3\n",
        "imprimir_error_cada = 1\n",
        "lr = 0.001\n",
        "\n",
        "train_function(x, y, epochs, imprimir_error_cada, lr)"
      ],
      "execution_count": 69,
      "outputs": [
        {
          "output_type": "stream",
          "text": [
            "Iteración: 0   Error: 21061.12\n",
            "Iteración: 1   Error: 341918.33\n",
            "Iteración: 2   Error: 5693492.05\n"
          ],
          "name": "stdout"
        },
        {
          "output_type": "execute_result",
          "data": {
            "text/plain": [
              "('------------------------------------------------------------------------------------------------------------------------',\n",
              " 'Modelo: ',\n",
              " {0: (14.4235, 0.20450000000000002),\n",
              "  1: (-44.48217000000001, -0.6152730000000002),\n",
              "  2: (196.08788449300005, 2.748076343)},\n",
              " '------------------------------------------------------------------------------------------------------------------------',\n",
              " 'Error: ',\n",
              " {0: 21061.12, 1: 341918.33, 2: 5693492.05})"
            ]
          },
          "metadata": {
            "tags": []
          },
          "execution_count": 69
        }
      ]
    },
    {
      "cell_type": "code",
      "metadata": {
        "id": "81eQC5whkQXA"
      },
      "source": [
        "# Función para graficar como cambia el Error por cada Iteración\n",
        "\n",
        "def error_por_iteracion_graph(errores):\n",
        "\n",
        "  plt.plot(list(errores.keys()), list(errores.values()), color=\"green\", linewidth=2, marker='.', ms=12, mfc='red')\n",
        "\n",
        "  plt.title(\"Error por cada Iteración\", fontdict={\"fontsize\":20, \"color\":\"black\"})\n",
        "  plt.xlabel(\"Iteración\")\n",
        "  plt.ylabel(\"Error\")\n",
        "\n",
        "  return plt.show()\n"
      ],
      "execution_count": 228,
      "outputs": []
    },
    {
      "cell_type": "code",
      "metadata": {
        "id": "afGTd9oHwiOD",
        "colab": {
          "base_uri": "https://localhost:8080/"
        },
        "outputId": "065affa5-78dc-4dda-f89b-5eeb7c970d26"
      },
      "source": [
        "# Capturar lo que retorna la funcion de entrenamiento en variables\n",
        "\n",
        "line1, text1, modelos, line2, text2, errores = train_function(x, y, epochs, imprimir_error_cada, lr)"
      ],
      "execution_count": 229,
      "outputs": [
        {
          "output_type": "stream",
          "text": [
            "Iteración: 0   Error: 21061.12\n",
            "Iteración: 1   Error: 341918.33\n",
            "Iteración: 2   Error: 5693492.05\n"
          ],
          "name": "stdout"
        }
      ]
    },
    {
      "cell_type": "code",
      "metadata": {
        "id": "Mw0GIRkKwiKq",
        "colab": {
          "base_uri": "https://localhost:8080/",
          "height": 301
        },
        "outputId": "2336db1e-763a-4e76-9428-890098452d0d"
      },
      "source": [
        "# Graficar error por cada interación\n",
        "\n",
        "error_por_iteracion_graph(errores)"
      ],
      "execution_count": 230,
      "outputs": [
        {
          "output_type": "display_data",
          "data": {
            "image/png": "[encoded data removed]",
            "text/plain": [
              "<Figure size 432x288 with 1 Axes>"
            ]
          },
          "metadata": {
            "tags": [],
            "needs_background": "light"
          }
        }
      ]
    },
    {
      "cell_type": "code",
      "metadata": {
        "id": "llGNOkyh7hP1"
      },
      "source": [
        "# Función para graficar como evoluciona el modelo entrenado en el tiempo\n",
        "\n",
        "def evolucion_modelo_graph(modelos, n, x, y):\n",
        "\n",
        "  mb_list = list(modelos.values())\n",
        "\n",
        "  matrix = np.reshape(np.array(x), (len(x),1))\n",
        "  ones_matrix = np.ones_like(matrix)\n",
        "  new_matrix = np.hstack((matrix, ones_matrix))\n",
        "\n",
        "  for i in range(len(mb_list)): \n",
        "    if i % n == 0:\n",
        "      mb = mb_list[i]\n",
        "      yhat = np.matmul(new_matrix, mb)\n",
        "      plt.plot(x, yhat, \"orange\", linewidth=2)\n",
        "\n",
        "  plt.plot(x, y, \"b.\", ms=10)\n",
        "\n",
        "  plt.title(\"Evolución del modelo entrenado\", fontdict={\"fontsize\":20, \"color\":\"black\"})\n",
        "  plt.xlabel(\"Variable x\")\n",
        "  plt.ylabel(\"Precio de casa\")\n",
        "\n",
        "  return plt.show()"
      ],
      "execution_count": 240,
      "outputs": []
    },
    {
      "cell_type": "code",
      "metadata": {
        "colab": {
          "base_uri": "https://localhost:8080/"
        },
        "id": "q4H97HR69Ab3",
        "outputId": "427822c8-63f0-42ba-ac82-98d1bc48cb1f"
      },
      "source": [
        "# Capturar lo que retorna la funcion de entrenamiento en variables\n",
        "\n",
        "line1, text1, modelos, line2, text2, errores = train_function(x, y, epochs, imprimir_error_cada, lr)"
      ],
      "execution_count": 232,
      "outputs": [
        {
          "output_type": "stream",
          "text": [
            "Iteración: 0   Error: 21061.12\n",
            "Iteración: 1   Error: 341918.33\n",
            "Iteración: 2   Error: 5693492.05\n"
          ],
          "name": "stdout"
        }
      ]
    },
    {
      "cell_type": "code",
      "metadata": {
        "colab": {
          "base_uri": "https://localhost:8080/",
          "height": 300
        },
        "id": "5l2zJLaR6Dvd",
        "outputId": "67df1121-8044-45c8-a34d-df200d70c883"
      },
      "source": [
        "# Graficar Evolución del modelo entrenado. Datos de prueba brindados en el excel\n",
        "\n",
        "x = [65, 80, 68]\n",
        "y = [208.5, 181.5, 223.5]\n",
        "n = 1\n",
        "\n",
        "evolucion_modelo_graph(modelos, n, x, y)"
      ],
      "execution_count": 241,
      "outputs": [
        {
          "output_type": "display_data",
          "data": {
            "image/png": "[encoded data removed]",
            "text/plain": [
              "<Figure size 432x288 with 1 Axes>"
            ]
          },
          "metadata": {
            "tags": [],
            "needs_background": "light"
          }
        }
      ]
    },
    {
      "cell_type": "code",
      "metadata": {
        "id": "FXgncKhQ5wgj"
      },
      "source": [
        ""
      ],
      "execution_count": null,
      "outputs": []
    }
  ]
}