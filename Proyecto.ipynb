{
  "nbformat": 4,
  "nbformat_minor": 0,
  "metadata": {
    "colab": {
      "name": "Proyecto.ipynb",
      "provenance": [],
      "collapsed_sections": [],
      "authorship_tag": "ABX9TyOErxkGpkFofAlGNCrwH5E0",
      "include_colab_link": true
    },
    "kernelspec": {
      "name": "python3",
      "display_name": "Python 3"
    },
    "language_info": {
      "name": "python"
    }
  },
  "cells": [
    {
      "cell_type": "markdown",
      "metadata": {
        "id": "view-in-github",
        "colab_type": "text"
      },
      "source": [
        "<a href=\"https://colab.research.google.com/github/navas604/Ciencia-de-Datos-en-Python/blob/main/Proyecto.ipynb\" target=\"_parent\"><img src=\"https://colab.research.google.com/assets/colab-badge.svg\" alt=\"Open In Colab\"/></a>"
      ]
    },
    {
      "cell_type": "markdown",
      "metadata": {
        "id": "8n5ihXRiD2V-"
      },
      "source": [
        "## **Universidad Galileo**\n",
        "## **Maestría en Data Science**\n",
        "## **Ciencia de Datos en Python**\n",
        "## **Antonio Everardo Navas Contreras, 14003163**\n",
        "## **07/04/2021**\n",
        "\n",
        "---\n",
        "\n",
        "## **PROYECTO**\n",
        "\n",
        "---"
      ]
    },
    {
      "cell_type": "markdown",
      "metadata": {
        "id": "-OvpCFp8M2oJ"
      },
      "source": [
        "### Cargar Librerías"
      ]
    },
    {
      "cell_type": "code",
      "metadata": {
        "id": "0SX0M5CQAKGF"
      },
      "source": [
        "import numpy as np\n",
        "import seaborn as sns\n",
        "import matplotlib.pyplot as plt"
      ],
      "execution_count": 44,
      "outputs": []
    },
    {
      "cell_type": "markdown",
      "metadata": {
        "id": "iQ4PceHiM7e6"
      },
      "source": [
        "### Cargar Dataset, Separar en Train y Test"
      ]
    },
    {
      "cell_type": "code",
      "metadata": {
        "id": "5eQoAi6-AQqZ"
      },
      "source": [
        "# Cargar el Dataset original\n",
        "\n",
        "URL = \"proyecto_training_data.npy\"\n",
        "dataset = np.load(URL) "
      ],
      "execution_count": 31,
      "outputs": []
    },
    {
      "cell_type": "code",
      "metadata": {
        "colab": {
          "base_uri": "https://localhost:8080/"
        },
        "id": "jF8PciYfWEWz",
        "outputId": "700ac4c4-1dda-4381-8f43-d8f66754a531"
      },
      "source": [
        "variables = list([\"SalePrice\", \"OverallQual\", \"1stFlrSF\", \"TotRmsAbvGrd\", \"YearBuilt\", \"LotFrontage\"])\n",
        "print(\"Descripción de variables:\\n  \", variables)"
      ],
      "execution_count": 32,
      "outputs": [
        {
          "output_type": "stream",
          "text": [
            "Descripción de variables:\n",
            "   ['SalePrice', 'OverallQual', '1stFlrSF', 'TotRmsAbvGrd', 'YearBuilt', 'LotFrontage']\n"
          ],
          "name": "stdout"
        }
      ]
    },
    {
      "cell_type": "code",
      "metadata": {
        "colab": {
          "base_uri": "https://localhost:8080/"
        },
        "id": "HHN0nbkVQg1Z",
        "outputId": "e8abbc7b-c06d-43fc-8239-c0092a218dae"
      },
      "source": [
        "print(type(dataset))\n",
        "print(dataset.shape)"
      ],
      "execution_count": 33,
      "outputs": [
        {
          "output_type": "stream",
          "text": [
            "<class 'numpy.ndarray'>\n",
            "(1460, 6)\n"
          ],
          "name": "stdout"
        }
      ]
    },
    {
      "cell_type": "code",
      "metadata": {
        "colab": {
          "base_uri": "https://localhost:8080/"
        },
        "id": "MuYr24nEQ6p7",
        "outputId": "3c1bcbcc-a085-4edc-8545-2ff37be7bdd5"
      },
      "source": [
        "print(dataset[:20,])"
      ],
      "execution_count": 34,
      "outputs": [
        {
          "output_type": "stream",
          "text": [
            "[[208500.00 7.00 856.00 8.00 2003.00 65.00]\n",
            " [181500.00 6.00 1262.00 6.00 1976.00 80.00]\n",
            " [223500.00 7.00 920.00 6.00 2001.00 68.00]\n",
            " [140000.00 7.00 961.00 7.00 1915.00 60.00]\n",
            " [250000.00 8.00 1145.00 9.00 2000.00 84.00]\n",
            " [143000.00 5.00 796.00 5.00 1993.00 85.00]\n",
            " [307000.00 8.00 1694.00 7.00 2004.00 75.00]\n",
            " [200000.00 7.00 1107.00 7.00 1973.00 nan]\n",
            " [129900.00 7.00 1022.00 8.00 1931.00 51.00]\n",
            " [118000.00 5.00 1077.00 5.00 1939.00 50.00]\n",
            " [129500.00 5.00 1040.00 5.00 1965.00 70.00]\n",
            " [345000.00 9.00 1182.00 11.00 2005.00 85.00]\n",
            " [144000.00 5.00 912.00 4.00 1962.00 nan]\n",
            " [279500.00 7.00 1494.00 7.00 2006.00 91.00]\n",
            " [157000.00 6.00 1253.00 5.00 1960.00 nan]\n",
            " [132000.00 7.00 854.00 5.00 1929.00 51.00]\n",
            " [149000.00 6.00 1004.00 5.00 1970.00 nan]\n",
            " [90000.00 4.00 1296.00 6.00 1967.00 72.00]\n",
            " [159000.00 5.00 1114.00 6.00 2004.00 66.00]\n",
            " [139000.00 5.00 1339.00 6.00 1958.00 70.00]]\n"
          ],
          "name": "stdout"
        }
      ]
    },
    {
      "cell_type": "code",
      "metadata": {
        "id": "jceMYFlWQNqP"
      },
      "source": [
        "# Limpiar el dataset de valores \"nan\" y quitar notación científica\n",
        "\n",
        "dataset = dataset[~np.isnan(dataset).any(axis=1)]\n",
        "\n",
        "np.set_printoptions(suppress=True, formatter={'float_kind':'{:0.2f}'.format})"
      ],
      "execution_count": 35,
      "outputs": []
    },
    {
      "cell_type": "code",
      "metadata": {
        "colab": {
          "base_uri": "https://localhost:8080/"
        },
        "id": "lxqLtnvhDWf6",
        "outputId": "ff9b4d67-0b43-4c29-9e8e-246e6fe74700"
      },
      "source": [
        "print(type(dataset))\n",
        "print(dataset.shape)"
      ],
      "execution_count": 36,
      "outputs": [
        {
          "output_type": "stream",
          "text": [
            "<class 'numpy.ndarray'>\n",
            "(1201, 6)\n"
          ],
          "name": "stdout"
        }
      ]
    },
    {
      "cell_type": "code",
      "metadata": {
        "colab": {
          "base_uri": "https://localhost:8080/"
        },
        "id": "yIjT1CaiDybO",
        "outputId": "5976d7a4-4f1b-4100-eb56-a37e9475b4ec"
      },
      "source": [
        "print(dataset[:20,])"
      ],
      "execution_count": 37,
      "outputs": [
        {
          "output_type": "stream",
          "text": [
            "[[208500.00 7.00 856.00 8.00 2003.00 65.00]\n",
            " [181500.00 6.00 1262.00 6.00 1976.00 80.00]\n",
            " [223500.00 7.00 920.00 6.00 2001.00 68.00]\n",
            " [140000.00 7.00 961.00 7.00 1915.00 60.00]\n",
            " [250000.00 8.00 1145.00 9.00 2000.00 84.00]\n",
            " [143000.00 5.00 796.00 5.00 1993.00 85.00]\n",
            " [307000.00 8.00 1694.00 7.00 2004.00 75.00]\n",
            " [129900.00 7.00 1022.00 8.00 1931.00 51.00]\n",
            " [118000.00 5.00 1077.00 5.00 1939.00 50.00]\n",
            " [129500.00 5.00 1040.00 5.00 1965.00 70.00]\n",
            " [345000.00 9.00 1182.00 11.00 2005.00 85.00]\n",
            " [279500.00 7.00 1494.00 7.00 2006.00 91.00]\n",
            " [132000.00 7.00 854.00 5.00 1929.00 51.00]\n",
            " [90000.00 4.00 1296.00 6.00 1967.00 72.00]\n",
            " [159000.00 5.00 1114.00 6.00 2004.00 66.00]\n",
            " [139000.00 5.00 1339.00 6.00 1958.00 70.00]\n",
            " [325300.00 8.00 1158.00 9.00 2005.00 101.00]\n",
            " [139400.00 7.00 1108.00 6.00 1930.00 57.00]\n",
            " [230000.00 8.00 1795.00 7.00 2002.00 75.00]\n",
            " [129900.00 5.00 1060.00 6.00 1976.00 44.00]]\n"
          ],
          "name": "stdout"
        }
      ]
    },
    {
      "cell_type": "code",
      "metadata": {
        "colab": {
          "base_uri": "https://localhost:8080/"
        },
        "id": "Qsqu2yZPF_4Q",
        "outputId": "ab0e8946-a675-4d3e-f5e2-2be89e3f517d"
      },
      "source": [
        "# Separar Train y Test\n",
        "\n",
        "rows, columns = dataset.shape\n",
        "\n",
        "train = dataset[0:int(rows*0.8),]\n",
        "test = dataset[int(rows*0.8):,]\n",
        "\n",
        "print(\"Train shape\", train.shape)\n",
        "print(\"Test shape\", test.shape)"
      ],
      "execution_count": 38,
      "outputs": [
        {
          "output_type": "stream",
          "text": [
            "Train shape (960, 6)\n",
            "Test shape (241, 6)\n"
          ],
          "name": "stdout"
        }
      ]
    },
    {
      "cell_type": "markdown",
      "metadata": {
        "id": "odhcSiS4Mumw"
      },
      "source": [
        "### Análisis Exploratorio"
      ]
    },
    {
      "cell_type": "code",
      "metadata": {
        "colab": {
          "base_uri": "https://localhost:8080/"
        },
        "id": "Brl2D1BPHdYm",
        "outputId": "05c34e11-b9fc-47ac-8795-96271f1e1a01"
      },
      "source": [
        "# Media, Valor Máximo, Valor Mínimo, Desviación Estándar\n",
        "\n",
        "print(\"Descripción de variables: \\n \", variables)\n",
        "print(\"\\n\\nMedia: \\n \", np.mean(train, axis=0))\n",
        "print(\"\\n\\nValor Máximo: \\n \", np.max(train, axis=0))\n",
        "print(\"\\n\\nValor Mínimo: \\n \", np.min(train, axis=0))\n",
        "print(\"\\n\\nDesviación Estándar: \\n \", np.std(train, axis=0))"
      ],
      "execution_count": 39,
      "outputs": [
        {
          "output_type": "stream",
          "text": [
            "Descripción de variables: \n",
            "  ['SalePrice', 'OverallQual', '1stFlrSF', 'TotRmsAbvGrd', 'YearBuilt', 'LotFrontage']\n",
            "\n",
            "\n",
            "Media: \n",
            "  [180935.54 6.12 1155.27 6.50 1970.60 69.97]\n",
            "\n",
            "\n",
            "Valor Máximo: \n",
            "  [755000.00 10.00 3138.00 14.00 2010.00 313.00]\n",
            "\n",
            "\n",
            "Valor Mínimo: \n",
            "  [34900.00 1.00 334.00 2.00 1875.00 21.00]\n",
            "\n",
            "\n",
            "Desviación Estándar: \n",
            "  [83348.36 1.42 372.32 1.62 31.52 23.49]\n"
          ],
          "name": "stdout"
        }
      ]
    },
    {
      "cell_type": "code",
      "metadata": {
        "colab": {
          "base_uri": "https://localhost:8080/",
          "height": 485
        },
        "id": "LC3ByfZojrIM",
        "outputId": "28bca55b-ed84-4d58-b5b2-667d2046d8c0"
      },
      "source": [
        "# Histograma de cada variable\n",
        "\n",
        "size, axes = plt.subplots(2, 3, figsize=(18, 8))\n",
        "\n",
        "\n",
        "for i in range(columns-3):\n",
        "  sns.histplot(train[:,i], ax=axes[0,i])\n",
        "  sns.histplot(train[:,i+3], ax=axes[1,i])\n",
        "\n",
        "plt.show()"
      ],
      "execution_count": 80,
      "outputs": [
        {
          "output_type": "display_data",
          "data": {
            "image/png": "[encoded data removed]",
            "text/plain": [
              "<Figure size 1296x576 with 6 Axes>"
            ]
          },
          "metadata": {
            "tags": []
          }
        }
      ]
    },
    {
      "cell_type": "code",
      "metadata": {
        "id": "Uqri3cVHYslN"
      },
      "source": [
        ""
      ],
      "execution_count": null,
      "outputs": []
    }
  ]
}