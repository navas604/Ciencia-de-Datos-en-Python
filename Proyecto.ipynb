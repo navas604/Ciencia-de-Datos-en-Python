{
  "nbformat": 4,
  "nbformat_minor": 0,
  "metadata": {
    "colab": {
      "name": "Proyecto.ipynb",
      "provenance": [],
      "collapsed_sections": [],
      "authorship_tag": "ABX9TyOB0H3s8wm9wrOlqD6OLRwv",
      "include_colab_link": true
    },
    "kernelspec": {
      "name": "python3",
      "display_name": "Python 3"
    },
    "language_info": {
      "name": "python"
    }
  },
  "cells": [
    {
      "cell_type": "markdown",
      "metadata": {
        "id": "view-in-github",
        "colab_type": "text"
      },
      "source": [
        "<a href=\"https://colab.research.google.com/github/navas604/Ciencia-de-Datos-en-Python/blob/main/Proyecto.ipynb\" target=\"_parent\"><img src=\"https://colab.research.google.com/assets/colab-badge.svg\" alt=\"Open In Colab\"/></a>"
      ]
    },
    {
      "cell_type": "markdown",
      "metadata": {
        "id": "8n5ihXRiD2V-"
      },
      "source": [
        "## **Universidad Galileo**\n",
        "## **Maestría en Data Science**\n",
        "## **Ciencia de Datos en Python**\n",
        "## **Antonio Everardo Navas Contreras, 14003163**\n",
        "## **07/04/2021**\n",
        "\n",
        "---\n",
        "\n",
        "## **PROYECTO**\n",
        "\n",
        "---"
      ]
    },
    {
      "cell_type": "markdown",
      "metadata": {
        "id": "-OvpCFp8M2oJ"
      },
      "source": [
        "### CARGAR LIBRERIAS"
      ]
    },
    {
      "cell_type": "code",
      "metadata": {
        "id": "0SX0M5CQAKGF"
      },
      "source": [
        "import numpy as np\n",
        "import seaborn as sns\n",
        "import matplotlib.pyplot as plt\n",
        "import pandas as pd"
      ],
      "execution_count": 1,
      "outputs": []
    },
    {
      "cell_type": "markdown",
      "metadata": {
        "id": "iQ4PceHiM7e6"
      },
      "source": [
        "### CARGAR Y PREPARAR EL DATASET, SEPARAR EN TRAIN Y TEST"
      ]
    },
    {
      "cell_type": "code",
      "metadata": {
        "id": "5eQoAi6-AQqZ"
      },
      "source": [
        "# Cargar el Dataset original\n",
        "\n",
        "URL = \"proyecto_training_data.npy\"\n",
        "dataset = np.load(URL) "
      ],
      "execution_count": 2,
      "outputs": []
    },
    {
      "cell_type": "code",
      "metadata": {
        "colab": {
          "base_uri": "https://localhost:8080/"
        },
        "id": "tPwdPiCc8smP",
        "outputId": "e0a51583-03ca-4807-94b6-8c40764036b9"
      },
      "source": [
        "dataset"
      ],
      "execution_count": 3,
      "outputs": [
        {
          "output_type": "execute_result",
          "data": {
            "text/plain": [
              "array([[2.08500e+05, 7.00000e+00, 8.56000e+02, 8.00000e+00, 2.00300e+03,\n",
              "        6.50000e+01],\n",
              "       [1.81500e+05, 6.00000e+00, 1.26200e+03, 6.00000e+00, 1.97600e+03,\n",
              "        8.00000e+01],\n",
              "       [2.23500e+05, 7.00000e+00, 9.20000e+02, 6.00000e+00, 2.00100e+03,\n",
              "        6.80000e+01],\n",
              "       ...,\n",
              "       [2.66500e+05, 7.00000e+00, 1.18800e+03, 9.00000e+00, 1.94100e+03,\n",
              "        6.60000e+01],\n",
              "       [1.42125e+05, 5.00000e+00, 1.07800e+03, 5.00000e+00, 1.95000e+03,\n",
              "        6.80000e+01],\n",
              "       [1.47500e+05, 5.00000e+00, 1.25600e+03, 6.00000e+00, 1.96500e+03,\n",
              "        7.50000e+01]])"
            ]
          },
          "metadata": {
            "tags": []
          },
          "execution_count": 3
        }
      ]
    },
    {
      "cell_type": "code",
      "metadata": {
        "colab": {
          "base_uri": "https://localhost:8080/"
        },
        "id": "Qz2mnh0h7jmf",
        "outputId": "f8c8e8a3-471f-4080-d6d5-584e4a000984"
      },
      "source": [
        "# Explorando el Dataset\n",
        "\n",
        "print(\"Dataset Shape:       \", dataset.shape)\n",
        "print(\"Dataset type:        \", type(dataset))\n",
        "print(\"Dataset nan values:  \", np.isnan(dataset).sum())"
      ],
      "execution_count": 4,
      "outputs": [
        {
          "output_type": "stream",
          "text": [
            "Dataset Shape:        (1460, 6)\n",
            "Dataset type:         <class 'numpy.ndarray'>\n",
            "Dataset nan values:   259\n"
          ],
          "name": "stdout"
        }
      ]
    },
    {
      "cell_type": "code",
      "metadata": {
        "id": "dS-mjVtN7aT5",
        "colab": {
          "base_uri": "https://localhost:8080/"
        },
        "outputId": "31288ca8-f635-42b3-f498-c2383ffc6d8e"
      },
      "source": [
        "# Limpiar el dataset de valores \"nan\"\n",
        "\n",
        "dataset = dataset[~np.isnan(dataset).any(axis=1)]\n",
        "\n",
        "print(\"Dataset Shape:       \", dataset.shape)\n",
        "print(\"Dataset type:        \", type(dataset))\n",
        "print(\"Dataset nan values:  \", np.isnan(dataset).sum())"
      ],
      "execution_count": 5,
      "outputs": [
        {
          "output_type": "stream",
          "text": [
            "Dataset Shape:        (1201, 6)\n",
            "Dataset type:         <class 'numpy.ndarray'>\n",
            "Dataset nan values:   0\n"
          ],
          "name": "stdout"
        }
      ]
    },
    {
      "cell_type": "code",
      "metadata": {
        "colab": {
          "base_uri": "https://localhost:8080/",
          "height": 419
        },
        "id": "eZztwf15ziA4",
        "outputId": "c17d9a7b-409f-42fa-b435-9aaba5117c4b"
      },
      "source": [
        "# Convertirlo a DataFrame\n",
        "\n",
        "variables = list([\"SalePrice\", \"OverallQual\", \"1stFlrSF\", \"TotRmsAbvGrd\", \"YearBuilt\", \"LotFrontage\"])\n",
        "\n",
        "df = pd.DataFrame(dataset, columns=variables)\n",
        "\n",
        "df"
      ],
      "execution_count": 6,
      "outputs": [
        {
          "output_type": "execute_result",
          "data": {
            "text/html": [
              "<div>\n",
              "<style scoped>\n",
              "    .dataframe tbody tr th:only-of-type {\n",
              "        vertical-align: middle;\n",
              "    }\n",
              "\n",
              "    .dataframe tbody tr th {\n",
              "        vertical-align: top;\n",
              "    }\n",
              "\n",
              "    .dataframe thead th {\n",
              "        text-align: right;\n",
              "    }\n",
              "</style>\n",
              "<table border=\"1\" class=\"dataframe\">\n",
              "  <thead>\n",
              "    <tr style=\"text-align: right;\">\n",
              "      <th></th>\n",
              "      <th>SalePrice</th>\n",
              "      <th>OverallQual</th>\n",
              "      <th>1stFlrSF</th>\n",
              "      <th>TotRmsAbvGrd</th>\n",
              "      <th>YearBuilt</th>\n",
              "      <th>LotFrontage</th>\n",
              "    </tr>\n",
              "  </thead>\n",
              "  <tbody>\n",
              "    <tr>\n",
              "      <th>0</th>\n",
              "      <td>208500.0</td>\n",
              "      <td>7.0</td>\n",
              "      <td>856.0</td>\n",
              "      <td>8.0</td>\n",
              "      <td>2003.0</td>\n",
              "      <td>65.0</td>\n",
              "    </tr>\n",
              "    <tr>\n",
              "      <th>1</th>\n",
              "      <td>181500.0</td>\n",
              "      <td>6.0</td>\n",
              "      <td>1262.0</td>\n",
              "      <td>6.0</td>\n",
              "      <td>1976.0</td>\n",
              "      <td>80.0</td>\n",
              "    </tr>\n",
              "    <tr>\n",
              "      <th>2</th>\n",
              "      <td>223500.0</td>\n",
              "      <td>7.0</td>\n",
              "      <td>920.0</td>\n",
              "      <td>6.0</td>\n",
              "      <td>2001.0</td>\n",
              "      <td>68.0</td>\n",
              "    </tr>\n",
              "    <tr>\n",
              "      <th>3</th>\n",
              "      <td>140000.0</td>\n",
              "      <td>7.0</td>\n",
              "      <td>961.0</td>\n",
              "      <td>7.0</td>\n",
              "      <td>1915.0</td>\n",
              "      <td>60.0</td>\n",
              "    </tr>\n",
              "    <tr>\n",
              "      <th>4</th>\n",
              "      <td>250000.0</td>\n",
              "      <td>8.0</td>\n",
              "      <td>1145.0</td>\n",
              "      <td>9.0</td>\n",
              "      <td>2000.0</td>\n",
              "      <td>84.0</td>\n",
              "    </tr>\n",
              "    <tr>\n",
              "      <th>...</th>\n",
              "      <td>...</td>\n",
              "      <td>...</td>\n",
              "      <td>...</td>\n",
              "      <td>...</td>\n",
              "      <td>...</td>\n",
              "      <td>...</td>\n",
              "    </tr>\n",
              "    <tr>\n",
              "      <th>1196</th>\n",
              "      <td>175000.0</td>\n",
              "      <td>6.0</td>\n",
              "      <td>953.0</td>\n",
              "      <td>7.0</td>\n",
              "      <td>1999.0</td>\n",
              "      <td>62.0</td>\n",
              "    </tr>\n",
              "    <tr>\n",
              "      <th>1197</th>\n",
              "      <td>210000.0</td>\n",
              "      <td>6.0</td>\n",
              "      <td>2073.0</td>\n",
              "      <td>7.0</td>\n",
              "      <td>1978.0</td>\n",
              "      <td>85.0</td>\n",
              "    </tr>\n",
              "    <tr>\n",
              "      <th>1198</th>\n",
              "      <td>266500.0</td>\n",
              "      <td>7.0</td>\n",
              "      <td>1188.0</td>\n",
              "      <td>9.0</td>\n",
              "      <td>1941.0</td>\n",
              "      <td>66.0</td>\n",
              "    </tr>\n",
              "    <tr>\n",
              "      <th>1199</th>\n",
              "      <td>142125.0</td>\n",
              "      <td>5.0</td>\n",
              "      <td>1078.0</td>\n",
              "      <td>5.0</td>\n",
              "      <td>1950.0</td>\n",
              "      <td>68.0</td>\n",
              "    </tr>\n",
              "    <tr>\n",
              "      <th>1200</th>\n",
              "      <td>147500.0</td>\n",
              "      <td>5.0</td>\n",
              "      <td>1256.0</td>\n",
              "      <td>6.0</td>\n",
              "      <td>1965.0</td>\n",
              "      <td>75.0</td>\n",
              "    </tr>\n",
              "  </tbody>\n",
              "</table>\n",
              "<p>1201 rows × 6 columns</p>\n",
              "</div>"
            ],
            "text/plain": [
              "      SalePrice  OverallQual  1stFlrSF  TotRmsAbvGrd  YearBuilt  LotFrontage\n",
              "0      208500.0          7.0     856.0           8.0     2003.0         65.0\n",
              "1      181500.0          6.0    1262.0           6.0     1976.0         80.0\n",
              "2      223500.0          7.0     920.0           6.0     2001.0         68.0\n",
              "3      140000.0          7.0     961.0           7.0     1915.0         60.0\n",
              "4      250000.0          8.0    1145.0           9.0     2000.0         84.0\n",
              "...         ...          ...       ...           ...        ...          ...\n",
              "1196   175000.0          6.0     953.0           7.0     1999.0         62.0\n",
              "1197   210000.0          6.0    2073.0           7.0     1978.0         85.0\n",
              "1198   266500.0          7.0    1188.0           9.0     1941.0         66.0\n",
              "1199   142125.0          5.0    1078.0           5.0     1950.0         68.0\n",
              "1200   147500.0          5.0    1256.0           6.0     1965.0         75.0\n",
              "\n",
              "[1201 rows x 6 columns]"
            ]
          },
          "metadata": {
            "tags": []
          },
          "execution_count": 6
        }
      ]
    },
    {
      "cell_type": "code",
      "metadata": {
        "colab": {
          "base_uri": "https://localhost:8080/"
        },
        "id": "EqkcZZbb1Daa",
        "outputId": "414f9b40-6d47-4cc7-fffc-f07e2b6eece6"
      },
      "source": [
        "# Revisar el tipo de las variables\n",
        "\n",
        "print(df.dtypes)"
      ],
      "execution_count": 7,
      "outputs": [
        {
          "output_type": "stream",
          "text": [
            "SalePrice       float64\n",
            "OverallQual     float64\n",
            "1stFlrSF        float64\n",
            "TotRmsAbvGrd    float64\n",
            "YearBuilt       float64\n",
            "LotFrontage     float64\n",
            "dtype: object\n"
          ],
          "name": "stdout"
        }
      ]
    },
    {
      "cell_type": "code",
      "metadata": {
        "id": "jceMYFlWQNqP",
        "colab": {
          "base_uri": "https://localhost:8080/"
        },
        "outputId": "dabc1b29-c2a5-4dc1-ad7c-6e708b2fe789"
      },
      "source": [
        "# Convertir algunas variables a enteros\n",
        "df[\"OverallQual\"] = df[\"OverallQual\"].astype(int)\n",
        "df[\"TotRmsAbvGrd\"] = df[\"TotRmsAbvGrd\"].astype(int)\n",
        "df[\"YearBuilt\"] = df[\"YearBuilt\"].astype(int)\n",
        "\n",
        "print(df.dtypes)"
      ],
      "execution_count": 8,
      "outputs": [
        {
          "output_type": "stream",
          "text": [
            "SalePrice       float64\n",
            "OverallQual       int64\n",
            "1stFlrSF        float64\n",
            "TotRmsAbvGrd      int64\n",
            "YearBuilt         int64\n",
            "LotFrontage     float64\n",
            "dtype: object\n"
          ],
          "name": "stdout"
        }
      ]
    },
    {
      "cell_type": "code",
      "metadata": {
        "colab": {
          "base_uri": "https://localhost:8080/",
          "height": 419
        },
        "id": "yIjT1CaiDybO",
        "outputId": "12908aeb-751d-4809-ee45-f066d4a8d4cd"
      },
      "source": [
        "df"
      ],
      "execution_count": 9,
      "outputs": [
        {
          "output_type": "execute_result",
          "data": {
            "text/html": [
              "<div>\n",
              "<style scoped>\n",
              "    .dataframe tbody tr th:only-of-type {\n",
              "        vertical-align: middle;\n",
              "    }\n",
              "\n",
              "    .dataframe tbody tr th {\n",
              "        vertical-align: top;\n",
              "    }\n",
              "\n",
              "    .dataframe thead th {\n",
              "        text-align: right;\n",
              "    }\n",
              "</style>\n",
              "<table border=\"1\" class=\"dataframe\">\n",
              "  <thead>\n",
              "    <tr style=\"text-align: right;\">\n",
              "      <th></th>\n",
              "      <th>SalePrice</th>\n",
              "      <th>OverallQual</th>\n",
              "      <th>1stFlrSF</th>\n",
              "      <th>TotRmsAbvGrd</th>\n",
              "      <th>YearBuilt</th>\n",
              "      <th>LotFrontage</th>\n",
              "    </tr>\n",
              "  </thead>\n",
              "  <tbody>\n",
              "    <tr>\n",
              "      <th>0</th>\n",
              "      <td>208500.0</td>\n",
              "      <td>7</td>\n",
              "      <td>856.0</td>\n",
              "      <td>8</td>\n",
              "      <td>2003</td>\n",
              "      <td>65.0</td>\n",
              "    </tr>\n",
              "    <tr>\n",
              "      <th>1</th>\n",
              "      <td>181500.0</td>\n",
              "      <td>6</td>\n",
              "      <td>1262.0</td>\n",
              "      <td>6</td>\n",
              "      <td>1976</td>\n",
              "      <td>80.0</td>\n",
              "    </tr>\n",
              "    <tr>\n",
              "      <th>2</th>\n",
              "      <td>223500.0</td>\n",
              "      <td>7</td>\n",
              "      <td>920.0</td>\n",
              "      <td>6</td>\n",
              "      <td>2001</td>\n",
              "      <td>68.0</td>\n",
              "    </tr>\n",
              "    <tr>\n",
              "      <th>3</th>\n",
              "      <td>140000.0</td>\n",
              "      <td>7</td>\n",
              "      <td>961.0</td>\n",
              "      <td>7</td>\n",
              "      <td>1915</td>\n",
              "      <td>60.0</td>\n",
              "    </tr>\n",
              "    <tr>\n",
              "      <th>4</th>\n",
              "      <td>250000.0</td>\n",
              "      <td>8</td>\n",
              "      <td>1145.0</td>\n",
              "      <td>9</td>\n",
              "      <td>2000</td>\n",
              "      <td>84.0</td>\n",
              "    </tr>\n",
              "    <tr>\n",
              "      <th>...</th>\n",
              "      <td>...</td>\n",
              "      <td>...</td>\n",
              "      <td>...</td>\n",
              "      <td>...</td>\n",
              "      <td>...</td>\n",
              "      <td>...</td>\n",
              "    </tr>\n",
              "    <tr>\n",
              "      <th>1196</th>\n",
              "      <td>175000.0</td>\n",
              "      <td>6</td>\n",
              "      <td>953.0</td>\n",
              "      <td>7</td>\n",
              "      <td>1999</td>\n",
              "      <td>62.0</td>\n",
              "    </tr>\n",
              "    <tr>\n",
              "      <th>1197</th>\n",
              "      <td>210000.0</td>\n",
              "      <td>6</td>\n",
              "      <td>2073.0</td>\n",
              "      <td>7</td>\n",
              "      <td>1978</td>\n",
              "      <td>85.0</td>\n",
              "    </tr>\n",
              "    <tr>\n",
              "      <th>1198</th>\n",
              "      <td>266500.0</td>\n",
              "      <td>7</td>\n",
              "      <td>1188.0</td>\n",
              "      <td>9</td>\n",
              "      <td>1941</td>\n",
              "      <td>66.0</td>\n",
              "    </tr>\n",
              "    <tr>\n",
              "      <th>1199</th>\n",
              "      <td>142125.0</td>\n",
              "      <td>5</td>\n",
              "      <td>1078.0</td>\n",
              "      <td>5</td>\n",
              "      <td>1950</td>\n",
              "      <td>68.0</td>\n",
              "    </tr>\n",
              "    <tr>\n",
              "      <th>1200</th>\n",
              "      <td>147500.0</td>\n",
              "      <td>5</td>\n",
              "      <td>1256.0</td>\n",
              "      <td>6</td>\n",
              "      <td>1965</td>\n",
              "      <td>75.0</td>\n",
              "    </tr>\n",
              "  </tbody>\n",
              "</table>\n",
              "<p>1201 rows × 6 columns</p>\n",
              "</div>"
            ],
            "text/plain": [
              "      SalePrice  OverallQual  1stFlrSF  TotRmsAbvGrd  YearBuilt  LotFrontage\n",
              "0      208500.0            7     856.0             8       2003         65.0\n",
              "1      181500.0            6    1262.0             6       1976         80.0\n",
              "2      223500.0            7     920.0             6       2001         68.0\n",
              "3      140000.0            7     961.0             7       1915         60.0\n",
              "4      250000.0            8    1145.0             9       2000         84.0\n",
              "...         ...          ...       ...           ...        ...          ...\n",
              "1196   175000.0            6     953.0             7       1999         62.0\n",
              "1197   210000.0            6    2073.0             7       1978         85.0\n",
              "1198   266500.0            7    1188.0             9       1941         66.0\n",
              "1199   142125.0            5    1078.0             5       1950         68.0\n",
              "1200   147500.0            5    1256.0             6       1965         75.0\n",
              "\n",
              "[1201 rows x 6 columns]"
            ]
          },
          "metadata": {
            "tags": []
          },
          "execution_count": 9
        }
      ]
    },
    {
      "cell_type": "code",
      "metadata": {
        "colab": {
          "base_uri": "https://localhost:8080/"
        },
        "id": "Qsqu2yZPF_4Q",
        "outputId": "55fed7c2-cd23-42d1-e0a5-184f7aa76138"
      },
      "source": [
        "# Separar dataframe en Train y Test\n",
        "\n",
        "rows, columns = df.shape\n",
        "\n",
        "train = df.loc[:int(rows*0.8),]\n",
        "test = df.loc[int(rows*0.8)+1:,]\n",
        "\n",
        "print(\"Train shape: \", train.shape)\n",
        "print(\"Test shape:  \", test.shape)"
      ],
      "execution_count": 10,
      "outputs": [
        {
          "output_type": "stream",
          "text": [
            "Train shape:  (961, 6)\n",
            "Test shape:   (240, 6)\n"
          ],
          "name": "stdout"
        }
      ]
    },
    {
      "cell_type": "code",
      "metadata": {
        "colab": {
          "base_uri": "https://localhost:8080/"
        },
        "id": "Wpv8NnxP-AWd",
        "outputId": "e452e831-d0cd-4319-e87e-fa25edd31082"
      },
      "source": [
        "print(train)\n",
        "print(test)"
      ],
      "execution_count": 11,
      "outputs": [
        {
          "output_type": "stream",
          "text": [
            "     SalePrice  OverallQual  1stFlrSF  TotRmsAbvGrd  YearBuilt  LotFrontage\n",
            "0     208500.0            7     856.0             8       2003         65.0\n",
            "1     181500.0            6    1262.0             6       1976         80.0\n",
            "2     223500.0            7     920.0             6       2001         68.0\n",
            "3     140000.0            7     961.0             7       1915         60.0\n",
            "4     250000.0            8    1145.0             9       2000         84.0\n",
            "..         ...          ...       ...           ...        ...          ...\n",
            "956   146000.0            6     855.0             7       1978         24.0\n",
            "957   129000.0            5     894.0             5       1968        109.0\n",
            "958   108959.0            4    1258.0             6       1969         60.0\n",
            "959   233170.0            7    1502.0             7       2009         79.0\n",
            "960   245350.0            8    1694.0             7       2008         64.0\n",
            "\n",
            "[961 rows x 6 columns]\n",
            "      SalePrice  OverallQual  1stFlrSF  TotRmsAbvGrd  YearBuilt  LotFrontage\n",
            "961    173000.0            6     959.0             7       2000         58.0\n",
            "962    235000.0            6    1236.0             7       1935        120.0\n",
            "963    625000.0           10    1831.0            10       1995        118.0\n",
            "964    171000.0            6    1118.0             6       1977         76.0\n",
            "965    163000.0            6    1261.0             6       1958         76.0\n",
            "...         ...          ...       ...           ...        ...          ...\n",
            "1196   175000.0            6     953.0             7       1999         62.0\n",
            "1197   210000.0            6    2073.0             7       1978         85.0\n",
            "1198   266500.0            7    1188.0             9       1941         66.0\n",
            "1199   142125.0            5    1078.0             5       1950         68.0\n",
            "1200   147500.0            5    1256.0             6       1965         75.0\n",
            "\n",
            "[240 rows x 6 columns]\n"
          ],
          "name": "stdout"
        }
      ]
    },
    {
      "cell_type": "markdown",
      "metadata": {
        "id": "odhcSiS4Mumw"
      },
      "source": [
        "### ANALISIS EXPLORATORIO"
      ]
    },
    {
      "cell_type": "code",
      "metadata": {
        "colab": {
          "base_uri": "https://localhost:8080/"
        },
        "id": "BvAtZSsk_H1A",
        "outputId": "69ead8bc-90f5-487a-d9c9-cf3e74220203"
      },
      "source": [
        "# Media\n",
        "\n",
        "print(\" VARIABLE         MEDIA \\n\\n\", round(np.mean(train, axis=0, ), 2))"
      ],
      "execution_count": 12,
      "outputs": [
        {
          "output_type": "stream",
          "text": [
            " VARIABLE         MEDIA \n",
            "\n",
            " SalePrice       181002.57\n",
            "OverallQual          6.12\n",
            "1stFlrSF          1155.83\n",
            "TotRmsAbvGrd         6.50\n",
            "YearBuilt         1970.64\n",
            "LotFrontage         69.96\n",
            "dtype: float64\n"
          ],
          "name": "stdout"
        }
      ]
    },
    {
      "cell_type": "code",
      "metadata": {
        "colab": {
          "base_uri": "https://localhost:8080/"
        },
        "id": "OD-7z_UNCPte",
        "outputId": "a86cb7c1-03b9-432d-d535-3fb22b5d20d5"
      },
      "source": [
        "# Valor Máximo\n",
        "\n",
        "print(\" VARIABLE      VALOR MAXIMO \\n\\n\", np.max(train, axis=0))"
      ],
      "execution_count": 13,
      "outputs": [
        {
          "output_type": "stream",
          "text": [
            " VARIABLE      VALOR MAXIMO \n",
            "\n",
            " SalePrice       755000.0\n",
            "OverallQual         10.0\n",
            "1stFlrSF          3138.0\n",
            "TotRmsAbvGrd        14.0\n",
            "YearBuilt         2010.0\n",
            "LotFrontage        313.0\n",
            "dtype: float64\n"
          ],
          "name": "stdout"
        }
      ]
    },
    {
      "cell_type": "code",
      "metadata": {
        "colab": {
          "base_uri": "https://localhost:8080/"
        },
        "id": "PhMdBUD_CPhU",
        "outputId": "09e209f9-f797-4086-f05b-a46add296c71"
      },
      "source": [
        "# Valor Mínimo\n",
        "\n",
        "print(\" VARIABLE      VALOR MINIMO \\n\\n\", np.min(train, axis=0))"
      ],
      "execution_count": 14,
      "outputs": [
        {
          "output_type": "stream",
          "text": [
            " VARIABLE      VALOR MINIMO \n",
            "\n",
            " SalePrice       34900.0\n",
            "OverallQual         1.0\n",
            "1stFlrSF          334.0\n",
            "TotRmsAbvGrd        2.0\n",
            "YearBuilt        1875.0\n",
            "LotFrontage        21.0\n",
            "dtype: float64\n"
          ],
          "name": "stdout"
        }
      ]
    },
    {
      "cell_type": "code",
      "metadata": {
        "colab": {
          "base_uri": "https://localhost:8080/"
        },
        "id": "q_FEDyLLCPUp",
        "outputId": "4d8275d9-e2dc-4c49-e01c-40a94d5c0d5c"
      },
      "source": [
        "# Desviación Estándar\n",
        "\n",
        "print(\" VARIABLE    DESVIACION ESTANDAR \\n\\n\", round(np.std(train, axis=0), 2))"
      ],
      "execution_count": 15,
      "outputs": [
        {
          "output_type": "stream",
          "text": [
            " VARIABLE    DESVIACION ESTANDAR \n",
            "\n",
            " SalePrice       83330.87\n",
            "OverallQual         1.42\n",
            "1stFlrSF          372.53\n",
            "TotRmsAbvGrd        1.62\n",
            "YearBuilt          31.53\n",
            "LotFrontage        23.47\n",
            "dtype: float64\n"
          ],
          "name": "stdout"
        }
      ]
    },
    {
      "cell_type": "code",
      "metadata": {
        "colab": {
          "base_uri": "https://localhost:8080/",
          "height": 497
        },
        "id": "KvUi9o7xDXkG",
        "outputId": "7c2d9855-e081-4d03-f719-339c6ea974d8"
      },
      "source": [
        "# Histograma de cada variable\n",
        "\n",
        "plt.figure(figsize=(18, 8))\n",
        "plt.subplots_adjust(hspace=0.4)\n",
        "\n",
        "colors = [\"r\", \"g\", \"b\", \"c\", \"m\", \"y\"]\n",
        "\n",
        "for i in range(columns):\n",
        "  plt.subplot(2, 3, i+1)\n",
        "  sns.histplot(train.iloc[:,i], kde=True, color=colors[i])\n",
        "\n",
        "plt.show()  "
      ],
      "execution_count": 17,
      "outputs": [
        {
          "output_type": "display_data",
          "data": {
            "image/png": "[encoded data removed]",
            "text/plain": [
              "<Figure size 1296x576 with 6 Axes>"
            ]
          },
          "metadata": {
            "tags": [],
            "needs_background": "light"
          }
        }
      ]
    },
    {
      "cell_type": "code",
      "metadata": {
        "id": "-yIOx6_yDXfF",
        "colab": {
          "base_uri": "https://localhost:8080/",
          "height": 235
        },
        "outputId": "ff1937cf-49ae-437b-88aa-bbe96dcd3fd8"
      },
      "source": [
        "# Matriz de Correlación entre todas las variables\n",
        "\n",
        "corr_matrix = round(train.corr(), 2)\n",
        "corr_matrix"
      ],
      "execution_count": 18,
      "outputs": [
        {
          "output_type": "execute_result",
          "data": {
            "text/html": [
              "<div>\n",
              "<style scoped>\n",
              "    .dataframe tbody tr th:only-of-type {\n",
              "        vertical-align: middle;\n",
              "    }\n",
              "\n",
              "    .dataframe tbody tr th {\n",
              "        vertical-align: top;\n",
              "    }\n",
              "\n",
              "    .dataframe thead th {\n",
              "        text-align: right;\n",
              "    }\n",
              "</style>\n",
              "<table border=\"1\" class=\"dataframe\">\n",
              "  <thead>\n",
              "    <tr style=\"text-align: right;\">\n",
              "      <th></th>\n",
              "      <th>SalePrice</th>\n",
              "      <th>OverallQual</th>\n",
              "      <th>1stFlrSF</th>\n",
              "      <th>TotRmsAbvGrd</th>\n",
              "      <th>YearBuilt</th>\n",
              "      <th>LotFrontage</th>\n",
              "    </tr>\n",
              "  </thead>\n",
              "  <tbody>\n",
              "    <tr>\n",
              "      <th>SalePrice</th>\n",
              "      <td>1.00</td>\n",
              "      <td>0.81</td>\n",
              "      <td>0.64</td>\n",
              "      <td>0.57</td>\n",
              "      <td>0.55</td>\n",
              "      <td>0.36</td>\n",
              "    </tr>\n",
              "    <tr>\n",
              "      <th>OverallQual</th>\n",
              "      <td>0.81</td>\n",
              "      <td>1.00</td>\n",
              "      <td>0.52</td>\n",
              "      <td>0.46</td>\n",
              "      <td>0.58</td>\n",
              "      <td>0.24</td>\n",
              "    </tr>\n",
              "    <tr>\n",
              "      <th>1stFlrSF</th>\n",
              "      <td>0.64</td>\n",
              "      <td>0.52</td>\n",
              "      <td>1.00</td>\n",
              "      <td>0.43</td>\n",
              "      <td>0.35</td>\n",
              "      <td>0.42</td>\n",
              "    </tr>\n",
              "    <tr>\n",
              "      <th>TotRmsAbvGrd</th>\n",
              "      <td>0.57</td>\n",
              "      <td>0.46</td>\n",
              "      <td>0.43</td>\n",
              "      <td>1.00</td>\n",
              "      <td>0.14</td>\n",
              "      <td>0.34</td>\n",
              "    </tr>\n",
              "    <tr>\n",
              "      <th>YearBuilt</th>\n",
              "      <td>0.55</td>\n",
              "      <td>0.58</td>\n",
              "      <td>0.35</td>\n",
              "      <td>0.14</td>\n",
              "      <td>1.00</td>\n",
              "      <td>0.12</td>\n",
              "    </tr>\n",
              "    <tr>\n",
              "      <th>LotFrontage</th>\n",
              "      <td>0.36</td>\n",
              "      <td>0.24</td>\n",
              "      <td>0.42</td>\n",
              "      <td>0.34</td>\n",
              "      <td>0.12</td>\n",
              "      <td>1.00</td>\n",
              "    </tr>\n",
              "  </tbody>\n",
              "</table>\n",
              "</div>"
            ],
            "text/plain": [
              "              SalePrice  OverallQual  ...  YearBuilt  LotFrontage\n",
              "SalePrice          1.00         0.81  ...       0.55         0.36\n",
              "OverallQual        0.81         1.00  ...       0.58         0.24\n",
              "1stFlrSF           0.64         0.52  ...       0.35         0.42\n",
              "TotRmsAbvGrd       0.57         0.46  ...       0.14         0.34\n",
              "YearBuilt          0.55         0.58  ...       1.00         0.12\n",
              "LotFrontage        0.36         0.24  ...       0.12         1.00\n",
              "\n",
              "[6 rows x 6 columns]"
            ]
          },
          "metadata": {
            "tags": []
          },
          "execution_count": 18
        }
      ]
    },
    {
      "cell_type": "code",
      "metadata": {
        "id": "Uqri3cVHYslN",
        "colab": {
          "base_uri": "https://localhost:8080/",
          "height": 349
        },
        "outputId": "d88dc8c0-c588-4818-f143-070ac985ba42"
      },
      "source": [
        "# Visualización de Matriz de Correlación entre todas las variables\n",
        "\n",
        "sns.heatmap(corr_matrix, annot=True)\n",
        "plt.title(\"Matriz de Correlación\", fontdict={\"fontsize\":20, \"color\":\"green\"})\n",
        "plt.show()"
      ],
      "execution_count": 19,
      "outputs": [
        {
          "output_type": "display_data",
          "data": {
            "image/png": "[encoded data removed]",
            "text/plain": [
              "<Figure size 432x288 with 2 Axes>"
            ]
          },
          "metadata": {
            "tags": [],
            "needs_background": "light"
          }
        }
      ]
    },
    {
      "cell_type": "code",
      "metadata": {
        "colab": {
          "base_uri": "https://localhost:8080/"
        },
        "id": "ONYSITUrZHv5",
        "outputId": "75e4894c-793f-457d-dce7-bd60b586755c"
      },
      "source": [
        "# Coeficientes de correlación con el precio de venta \"SalePrice\"\n",
        "\n",
        "corr_matrix[\"SalePrice\"]"
      ],
      "execution_count": 20,
      "outputs": [
        {
          "output_type": "execute_result",
          "data": {
            "text/plain": [
              "SalePrice       1.00\n",
              "OverallQual     0.81\n",
              "1stFlrSF        0.64\n",
              "TotRmsAbvGrd    0.57\n",
              "YearBuilt       0.55\n",
              "LotFrontage     0.36\n",
              "Name: SalePrice, dtype: float64"
            ]
          },
          "metadata": {
            "tags": []
          },
          "execution_count": 20
        }
      ]
    },
    {
      "cell_type": "code",
      "metadata": {
        "colab": {
          "base_uri": "https://localhost:8080/",
          "height": 528
        },
        "id": "g5WM8sRxZyuv",
        "outputId": "484604a2-e769-4731-ed58-5684bbb0d50e"
      },
      "source": [
        "# Gráfica de dispersión de cada variable x con y (\"SalePrice\")\n",
        "\n",
        "plt.figure(figsize=(18, 8))\n",
        "plt.subplots_adjust(hspace=0.5, wspace=0.3)\n",
        "\n",
        "colors = [\"r\", \"g\", \"b\", \"c\", \"m\", \"y\"]\n",
        "\n",
        "for i in range(columns):\n",
        "  plt.subplot(2, 3, i+1)\n",
        "  plt.scatter(train.iloc[:,i], train.iloc[:,0], color=colors[i])\n",
        "  plt.title(\"Correlación entre SalePrice y {}\\nCoeficiente de Correlación: {}\".format(train.columns[i], corr_matrix.iloc[0,i]))\n",
        "  plt.xlabel(train.columns[i])\n",
        "  plt.ylabel(train.columns[0])\n",
        "\n",
        "plt.show()\n"
      ],
      "execution_count": 36,
      "outputs": [
        {
          "output_type": "display_data",
          "data": {
            "image/png": "[encoded data removed]",
            "text/plain": [
              "<Figure size 1296x576 with 6 Axes>"
            ]
          },
          "metadata": {
            "tags": [],
            "needs_background": "light"
          }
        }
      ]
    },
    {
      "cell_type": "markdown",
      "metadata": {
        "id": "WSUIQNf9JpdF"
      },
      "source": [
        "Las 2 variables con mayor potencial predictivo (que presentan mayor correlación) son:\n",
        "\n",
        "*   **OverallQual** con coeficiente de correlación de **0.81**\n",
        "*   **1stFlrSF** con coeficiente de correlación de **0.64**\n"
      ]
    },
    {
      "cell_type": "markdown",
      "metadata": {
        "id": "69UmLaOIMIPt"
      },
      "source": [
        "### FUNCIONES"
      ]
    },
    {
      "cell_type": "code",
      "metadata": {
        "id": "T67YaxELZye_"
      },
      "source": [
        "def funcion1(x, y, epochs, imprimir_error_cada, lr):\n",
        "  matrix = np.reshape(np.array(x), (len(x),1))\n",
        "  ones_matrix = np.ones_like(matrix)\n",
        "  new_matrix = np.hstack((matrix, ones_matrix))\n",
        "\n",
        "  mb = [0.1, 0.2]\n",
        "  error = []\n",
        "  modelo_dict = {}\n",
        "\n",
        "  for i in range(epochs):\n",
        "    yhat = np.matmul(new_matrix, mb)\n",
        "\n",
        "    error.append(0.5 * np.mean(np.power(y - yhat, 2)))\n",
        "\n",
        "    gradientes_m_b = np.array((np.mean((yhat - y)*x), np.mean(yhat - y)))\n",
        "    \n",
        "    mb = mb - (lr * gradientes_m_b)\n",
        "\n",
        "    modelo_dict[i] = tuple(mb)\n",
        "    error_dict[i] = error[i]\n",
        "\n",
        "    if i % imprimir_error_cada == 0:\n",
        "      print(i, error[i])\n",
        "  \n",
        "  return modelo_dict, error_dict\n",
        "\n",
        "\n",
        "\n",
        "\n",
        "  "
      ],
      "execution_count": 21,
      "outputs": []
    },
    {
      "cell_type": "code",
      "metadata": {
        "colab": {
          "base_uri": "https://localhost:8080/"
        },
        "id": "6RP0O1RVnZyR",
        "outputId": "7c8625c1-d226-4ef8-da9a-0c073e661f50"
      },
      "source": [
        "x = b.copy()\n",
        "print(b)\n",
        "print(type(b))\n",
        "print(\"------------\")\n",
        "#x = list(b.copy())\n",
        "print(x)\n",
        "print(type(x))\n",
        "modelo_dict = {}\n",
        "for i in range(5):\n",
        "  print(i)\n",
        "  modelo_dict[i] = tuple(x)\n",
        "  print(modelo_dict)\n",
        "\n",
        "print(\"--------\")\n",
        "print(modelo_dict)"
      ],
      "execution_count": 182,
      "outputs": [
        {
          "output_type": "stream",
          "text": [
            "[0.5 0.9]\n",
            "<class 'numpy.ndarray'>\n",
            "------------\n",
            "[0.5 0.9]\n",
            "<class 'numpy.ndarray'>\n",
            "0\n",
            "{0: (0.5, 0.9)}\n",
            "1\n",
            "{0: (0.5, 0.9), 1: (0.5, 0.9)}\n",
            "2\n",
            "{0: (0.5, 0.9), 1: (0.5, 0.9), 2: (0.5, 0.9)}\n",
            "3\n",
            "{0: (0.5, 0.9), 1: (0.5, 0.9), 2: (0.5, 0.9), 3: (0.5, 0.9)}\n",
            "4\n",
            "{0: (0.5, 0.9), 1: (0.5, 0.9), 2: (0.5, 0.9), 3: (0.5, 0.9), 4: (0.5, 0.9)}\n",
            "--------\n",
            "{0: (0.5, 0.9), 1: (0.5, 0.9), 2: (0.5, 0.9), 3: (0.5, 0.9), 4: (0.5, 0.9)}\n"
          ],
          "name": "stdout"
        }
      ]
    },
    {
      "cell_type": "code",
      "metadata": {
        "colab": {
          "base_uri": "https://localhost:8080/"
        },
        "id": "UU344qQfi-By",
        "outputId": "bd035bfb-4900-4cce-a1c1-4634172e2afb"
      },
      "source": [
        "\n",
        "b = [1, 1]\n",
        "\n",
        "gradientes_m_b = np.array((np.mean((yhat - y)*x), np.mean(yhat - y)))\n",
        "b = b - (0.1*gradientes_m_b)\n",
        "\n",
        "print(b)"
      ],
      "execution_count": 165,
      "outputs": [
        {
          "output_type": "stream",
          "text": [
            "[0.5 0.9]\n"
          ],
          "name": "stdout"
        }
      ]
    },
    {
      "cell_type": "code",
      "metadata": {
        "colab": {
          "base_uri": "https://localhost:8080/"
        },
        "id": "7JRi2ieucQbU",
        "outputId": "190ffc69-e635-4b66-92b1-e8ab735208c5"
      },
      "source": [
        "error = []\n",
        "for i in range(5):\n",
        "  error.append(0.5 * np.mean(np.power(y - yhat, 2)))\n",
        "  print(\"Error: \", error)"
      ],
      "execution_count": 144,
      "outputs": [
        {
          "output_type": "stream",
          "text": [
            "Error:  [0.5]\n",
            "Error:  [0.5, 0.5]\n",
            "Error:  [0.5, 0.5, 0.5]\n",
            "Error:  [0.5, 0.5, 0.5, 0.5]\n",
            "Error:  [0.5, 0.5, 0.5, 0.5, 0.5]\n"
          ],
          "name": "stdout"
        }
      ]
    },
    {
      "cell_type": "code",
      "metadata": {
        "colab": {
          "base_uri": "https://localhost:8080/"
        },
        "id": "rAl08hJyZbU3",
        "outputId": "5181249c-c2ad-45e0-c4dc-361a4b2d79f9"
      },
      "source": [
        "a = new_matrix\n",
        "b = [1, 1]\n",
        "\n",
        "#print(a)\n",
        "print(a.shape)\n",
        "print(type(a))\n",
        "print(\"--------\")\n",
        "print(b)\n",
        "print(type(b))\n",
        "print(\"--------yhat--------\")\n",
        "yhat = np.matmul(a,b)\n",
        "#print(yhat)\n",
        "print(yhat.shape)\n",
        "print(type(yhat))\n",
        "print(\"--------\")\n",
        "\n",
        "y = train.iloc[:,0]\n",
        "error = 0.5 * np.mean(np.power(y - yhat, 2))\n",
        "print(\"Error: \", error)"
      ],
      "execution_count": 163,
      "outputs": [
        {
          "output_type": "stream",
          "text": [
            "(961, 2)\n",
            "<class 'numpy.ndarray'>\n",
            "--------\n",
            "[1, 1]\n",
            "<class 'list'>\n",
            "--------yhat--------\n",
            "(961,)\n",
            "<class 'numpy.ndarray'>\n",
            "--------\n",
            "Error:  0.5\n"
          ],
          "name": "stdout"
        }
      ]
    },
    {
      "cell_type": "code",
      "metadata": {
        "colab": {
          "base_uri": "https://localhost:8080/"
        },
        "id": "PbNJuuuDYzeo",
        "outputId": "c2762afb-b133-4b8e-a57c-d44aa30d5e03"
      },
      "source": [
        "A = np.array([2,1])\n",
        "#B = np.array([[0.1],[0.2]])\n",
        "B = [0.1, 0.2]\n",
        "\n",
        "print(np.matmul(A,B))\n",
        "print(np.matmul(A,B).shape)\n",
        "print(type(np.matmul(A,B)))"
      ],
      "execution_count": 120,
      "outputs": [
        {
          "output_type": "stream",
          "text": [
            "0.4\n",
            "()\n",
            "<class 'numpy.float64'>\n"
          ],
          "name": "stdout"
        }
      ]
    },
    {
      "cell_type": "code",
      "metadata": {
        "id": "bCy8eDr7QC9r",
        "colab": {
          "base_uri": "https://localhost:8080/"
        },
        "outputId": "7295a93a-2321-4c8d-903c-88161d87c938"
      },
      "source": [
        "matrix = np.reshape(np.array(train.iloc[:,0]), (len(train),1))\n",
        "\n",
        "one_matrix = np.ones_like(matrix)\n",
        "\n",
        "new_matrix = np.hstack((matrix, one_matrix))\n",
        "\n",
        "#print(matrix)\n",
        "print(matrix.shape)\n",
        "#print(one_matrix)\n",
        "print(one_matrix.shape)\n",
        "print(new_matrix)\n",
        "print(new_matrix.shape)\n",
        "print(type(new_matrix))"
      ],
      "execution_count": 131,
      "outputs": [
        {
          "output_type": "stream",
          "text": [
            "(961, 1)\n",
            "(961, 1)\n",
            "[[2.08500e+05 1.00000e+00]\n",
            " [1.81500e+05 1.00000e+00]\n",
            " [2.23500e+05 1.00000e+00]\n",
            " ...\n",
            " [1.08959e+05 1.00000e+00]\n",
            " [2.33170e+05 1.00000e+00]\n",
            " [2.45350e+05 1.00000e+00]]\n",
            "(961, 2)\n",
            "<class 'numpy.ndarray'>\n"
          ],
          "name": "stdout"
        }
      ]
    },
    {
      "cell_type": "code",
      "metadata": {
        "id": "dPE3VQRZQC5M",
        "colab": {
          "base_uri": "https://localhost:8080/"
        },
        "outputId": "1578039d-1859-4aa6-f998-bb1f6df9f24e"
      },
      "source": [
        "len(train)"
      ],
      "execution_count": 60,
      "outputs": [
        {
          "output_type": "execute_result",
          "data": {
            "text/plain": [
              "961"
            ]
          },
          "metadata": {
            "tags": []
          },
          "execution_count": 60
        }
      ]
    },
    {
      "cell_type": "code",
      "metadata": {
        "id": "g9qccwFgQCv0"
      },
      "source": [
        ""
      ],
      "execution_count": 21,
      "outputs": []
    }
  ]
}