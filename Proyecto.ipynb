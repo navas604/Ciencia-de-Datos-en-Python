{
  "nbformat": 4,
  "nbformat_minor": 0,
  "metadata": {
    "colab": {
      "name": "Proyecto.ipynb",
      "provenance": [],
      "collapsed_sections": [],
      "authorship_tag": "ABX9TyPJ2C0tjd1NVuIduJ53Ya+y",
      "include_colab_link": true
    },
    "kernelspec": {
      "name": "python3",
      "display_name": "Python 3"
    },
    "language_info": {
      "name": "python"
    }
  },
  "cells": [
    {
      "cell_type": "markdown",
      "metadata": {
        "id": "view-in-github",
        "colab_type": "text"
      },
      "source": [
        "<a href=\"https://colab.research.google.com/github/navas604/Ciencia-de-Datos-en-Python/blob/main/Proyecto.ipynb\" target=\"_parent\"><img src=\"https://colab.research.google.com/assets/colab-badge.svg\" alt=\"Open In Colab\"/></a>"
      ]
    },
    {
      "cell_type": "markdown",
      "metadata": {
        "id": "8n5ihXRiD2V-"
      },
      "source": [
        "## **Universidad Galileo**\n",
        "## **Maestría en Data Science**\n",
        "## **Ciencia de Datos en Python**\n",
        "## **Antonio Everardo Navas Contreras, 14003163**\n",
        "## **07/04/2021**\n",
        "\n",
        "---\n",
        "\n",
        "## **PROYECTO**\n",
        "\n",
        "---"
      ]
    },
    {
      "cell_type": "markdown",
      "metadata": {
        "id": "-OvpCFp8M2oJ"
      },
      "source": [
        "### Cargar Librerías"
      ]
    },
    {
      "cell_type": "code",
      "metadata": {
        "id": "0SX0M5CQAKGF"
      },
      "source": [
        "import numpy as np\n",
        "import seaborn as sns\n",
        "import matplotlib.pyplot as plt\n",
        "import pandas as pd"
      ],
      "execution_count": 1,
      "outputs": []
    },
    {
      "cell_type": "markdown",
      "metadata": {
        "id": "iQ4PceHiM7e6"
      },
      "source": [
        "### Cargar Dataset, Explorarlo, Separar en Train y Test"
      ]
    },
    {
      "cell_type": "code",
      "metadata": {
        "id": "5eQoAi6-AQqZ"
      },
      "source": [
        "# Cargar el Dataset original\n",
        "\n",
        "URL = \"proyecto_training_data.npy\"\n",
        "dataset = np.load(URL) "
      ],
      "execution_count": 2,
      "outputs": []
    },
    {
      "cell_type": "code",
      "metadata": {
        "colab": {
          "base_uri": "https://localhost:8080/"
        },
        "id": "tPwdPiCc8smP",
        "outputId": "a2c53041-6d07-401d-a962-58f5c235b08a"
      },
      "source": [
        "dataset"
      ],
      "execution_count": 86,
      "outputs": [
        {
          "output_type": "execute_result",
          "data": {
            "text/plain": [
              "array([[2.08500e+05, 7.00000e+00, 8.56000e+02, 8.00000e+00, 2.00300e+03,\n",
              "        6.50000e+01],\n",
              "       [1.81500e+05, 6.00000e+00, 1.26200e+03, 6.00000e+00, 1.97600e+03,\n",
              "        8.00000e+01],\n",
              "       [2.23500e+05, 7.00000e+00, 9.20000e+02, 6.00000e+00, 2.00100e+03,\n",
              "        6.80000e+01],\n",
              "       ...,\n",
              "       [2.66500e+05, 7.00000e+00, 1.18800e+03, 9.00000e+00, 1.94100e+03,\n",
              "        6.60000e+01],\n",
              "       [1.42125e+05, 5.00000e+00, 1.07800e+03, 5.00000e+00, 1.95000e+03,\n",
              "        6.80000e+01],\n",
              "       [1.47500e+05, 5.00000e+00, 1.25600e+03, 6.00000e+00, 1.96500e+03,\n",
              "        7.50000e+01]])"
            ]
          },
          "metadata": {
            "tags": []
          },
          "execution_count": 86
        }
      ]
    },
    {
      "cell_type": "code",
      "metadata": {
        "colab": {
          "base_uri": "https://localhost:8080/"
        },
        "id": "Qz2mnh0h7jmf",
        "outputId": "093cdb37-146a-47e1-dc91-7d60d61cdaae"
      },
      "source": [
        "# Explorando el Dataset\n",
        "\n",
        "print(\"Dataset Shape:       \", dataset.shape)\n",
        "print(\"Dataset type:        \", type(dataset))\n",
        "print(\"Dataset nan values:  \", np.isnan(dataset).sum())"
      ],
      "execution_count": 4,
      "outputs": [
        {
          "output_type": "stream",
          "text": [
            "Dataset Shape:        (1460, 6)\n",
            "Dataset type:         <class 'numpy.ndarray'>\n",
            "Dataset nan values:   259\n"
          ],
          "name": "stdout"
        }
      ]
    },
    {
      "cell_type": "code",
      "metadata": {
        "id": "dS-mjVtN7aT5",
        "colab": {
          "base_uri": "https://localhost:8080/"
        },
        "outputId": "225fe55c-6c15-43ed-fd46-bb552fff7608"
      },
      "source": [
        "# Limpiar el dataset de valores \"nan\"\n",
        "\n",
        "dataset = dataset[~np.isnan(dataset).any(axis=1)]\n",
        "\n",
        "print(\"Dataset Shape:       \", dataset.shape)\n",
        "print(\"Dataset type:        \", type(dataset))\n",
        "print(\"Dataset nan values:  \", np.isnan(dataset).sum())"
      ],
      "execution_count": 16,
      "outputs": [
        {
          "output_type": "stream",
          "text": [
            "Dataset Shape:        (1201, 6)\n",
            "Dataset type:         <class 'numpy.ndarray'>\n",
            "Dataset nan values:   0\n"
          ],
          "name": "stdout"
        }
      ]
    },
    {
      "cell_type": "code",
      "metadata": {
        "colab": {
          "base_uri": "https://localhost:8080/",
          "height": 419
        },
        "id": "eZztwf15ziA4",
        "outputId": "93a3e898-340d-4f99-d69b-1dba7e4561ca"
      },
      "source": [
        "# Convertirlo a DataFrame\n",
        "\n",
        "variables = list([\"SalePrice\", \"OverallQual\", \"1stFlrSF\", \"TotRmsAbvGrd\", \"YearBuilt\", \"LotFrontage\"])\n",
        "\n",
        "df = pd.DataFrame(dataset, columns=variables)\n",
        "\n",
        "df"
      ],
      "execution_count": 84,
      "outputs": [
        {
          "output_type": "execute_result",
          "data": {
            "text/html": [
              "<div>\n",
              "<style scoped>\n",
              "    .dataframe tbody tr th:only-of-type {\n",
              "        vertical-align: middle;\n",
              "    }\n",
              "\n",
              "    .dataframe tbody tr th {\n",
              "        vertical-align: top;\n",
              "    }\n",
              "\n",
              "    .dataframe thead th {\n",
              "        text-align: right;\n",
              "    }\n",
              "</style>\n",
              "<table border=\"1\" class=\"dataframe\">\n",
              "  <thead>\n",
              "    <tr style=\"text-align: right;\">\n",
              "      <th></th>\n",
              "      <th>SalePrice</th>\n",
              "      <th>OverallQual</th>\n",
              "      <th>1stFlrSF</th>\n",
              "      <th>TotRmsAbvGrd</th>\n",
              "      <th>YearBuilt</th>\n",
              "      <th>LotFrontage</th>\n",
              "    </tr>\n",
              "  </thead>\n",
              "  <tbody>\n",
              "    <tr>\n",
              "      <th>0</th>\n",
              "      <td>208500.0</td>\n",
              "      <td>7.0</td>\n",
              "      <td>856.0</td>\n",
              "      <td>8.0</td>\n",
              "      <td>2003.0</td>\n",
              "      <td>65.0</td>\n",
              "    </tr>\n",
              "    <tr>\n",
              "      <th>1</th>\n",
              "      <td>181500.0</td>\n",
              "      <td>6.0</td>\n",
              "      <td>1262.0</td>\n",
              "      <td>6.0</td>\n",
              "      <td>1976.0</td>\n",
              "      <td>80.0</td>\n",
              "    </tr>\n",
              "    <tr>\n",
              "      <th>2</th>\n",
              "      <td>223500.0</td>\n",
              "      <td>7.0</td>\n",
              "      <td>920.0</td>\n",
              "      <td>6.0</td>\n",
              "      <td>2001.0</td>\n",
              "      <td>68.0</td>\n",
              "    </tr>\n",
              "    <tr>\n",
              "      <th>3</th>\n",
              "      <td>140000.0</td>\n",
              "      <td>7.0</td>\n",
              "      <td>961.0</td>\n",
              "      <td>7.0</td>\n",
              "      <td>1915.0</td>\n",
              "      <td>60.0</td>\n",
              "    </tr>\n",
              "    <tr>\n",
              "      <th>4</th>\n",
              "      <td>250000.0</td>\n",
              "      <td>8.0</td>\n",
              "      <td>1145.0</td>\n",
              "      <td>9.0</td>\n",
              "      <td>2000.0</td>\n",
              "      <td>84.0</td>\n",
              "    </tr>\n",
              "    <tr>\n",
              "      <th>...</th>\n",
              "      <td>...</td>\n",
              "      <td>...</td>\n",
              "      <td>...</td>\n",
              "      <td>...</td>\n",
              "      <td>...</td>\n",
              "      <td>...</td>\n",
              "    </tr>\n",
              "    <tr>\n",
              "      <th>1196</th>\n",
              "      <td>175000.0</td>\n",
              "      <td>6.0</td>\n",
              "      <td>953.0</td>\n",
              "      <td>7.0</td>\n",
              "      <td>1999.0</td>\n",
              "      <td>62.0</td>\n",
              "    </tr>\n",
              "    <tr>\n",
              "      <th>1197</th>\n",
              "      <td>210000.0</td>\n",
              "      <td>6.0</td>\n",
              "      <td>2073.0</td>\n",
              "      <td>7.0</td>\n",
              "      <td>1978.0</td>\n",
              "      <td>85.0</td>\n",
              "    </tr>\n",
              "    <tr>\n",
              "      <th>1198</th>\n",
              "      <td>266500.0</td>\n",
              "      <td>7.0</td>\n",
              "      <td>1188.0</td>\n",
              "      <td>9.0</td>\n",
              "      <td>1941.0</td>\n",
              "      <td>66.0</td>\n",
              "    </tr>\n",
              "    <tr>\n",
              "      <th>1199</th>\n",
              "      <td>142125.0</td>\n",
              "      <td>5.0</td>\n",
              "      <td>1078.0</td>\n",
              "      <td>5.0</td>\n",
              "      <td>1950.0</td>\n",
              "      <td>68.0</td>\n",
              "    </tr>\n",
              "    <tr>\n",
              "      <th>1200</th>\n",
              "      <td>147500.0</td>\n",
              "      <td>5.0</td>\n",
              "      <td>1256.0</td>\n",
              "      <td>6.0</td>\n",
              "      <td>1965.0</td>\n",
              "      <td>75.0</td>\n",
              "    </tr>\n",
              "  </tbody>\n",
              "</table>\n",
              "<p>1201 rows × 6 columns</p>\n",
              "</div>"
            ],
            "text/plain": [
              "      SalePrice  OverallQual  1stFlrSF  TotRmsAbvGrd  YearBuilt  LotFrontage\n",
              "0      208500.0          7.0     856.0           8.0     2003.0         65.0\n",
              "1      181500.0          6.0    1262.0           6.0     1976.0         80.0\n",
              "2      223500.0          7.0     920.0           6.0     2001.0         68.0\n",
              "3      140000.0          7.0     961.0           7.0     1915.0         60.0\n",
              "4      250000.0          8.0    1145.0           9.0     2000.0         84.0\n",
              "...         ...          ...       ...           ...        ...          ...\n",
              "1196   175000.0          6.0     953.0           7.0     1999.0         62.0\n",
              "1197   210000.0          6.0    2073.0           7.0     1978.0         85.0\n",
              "1198   266500.0          7.0    1188.0           9.0     1941.0         66.0\n",
              "1199   142125.0          5.0    1078.0           5.0     1950.0         68.0\n",
              "1200   147500.0          5.0    1256.0           6.0     1965.0         75.0\n",
              "\n",
              "[1201 rows x 6 columns]"
            ]
          },
          "metadata": {
            "tags": []
          },
          "execution_count": 84
        }
      ]
    },
    {
      "cell_type": "code",
      "metadata": {
        "colab": {
          "base_uri": "https://localhost:8080/"
        },
        "id": "EqkcZZbb1Daa",
        "outputId": "895bb108-2221-4a37-b2ff-1f9f8f331b68"
      },
      "source": [
        "# Revisar el tipo de las variables\n",
        "\n",
        "print(df.dtypes)"
      ],
      "execution_count": 7,
      "outputs": [
        {
          "output_type": "stream",
          "text": [
            "SalePrice       float64\n",
            "OverallQual     float64\n",
            "1stFlrSF        float64\n",
            "TotRmsAbvGrd    float64\n",
            "YearBuilt       float64\n",
            "LotFrontage     float64\n",
            "dtype: object\n"
          ],
          "name": "stdout"
        }
      ]
    },
    {
      "cell_type": "code",
      "metadata": {
        "id": "jceMYFlWQNqP",
        "colab": {
          "base_uri": "https://localhost:8080/"
        },
        "outputId": "020fa3f6-e72e-4505-e67f-cc2e4ef0b0b3"
      },
      "source": [
        "# Convertir algunas variables a enteros\n",
        "df[\"OverallQual\"] = df[\"OverallQual\"].astype(int)\n",
        "df[\"TotRmsAbvGrd\"] = df[\"TotRmsAbvGrd\"].astype(int)\n",
        "df[\"YearBuilt\"] = df[\"YearBuilt\"].astype(int)\n",
        "\n",
        "print(df.dtypes)"
      ],
      "execution_count": 8,
      "outputs": [
        {
          "output_type": "stream",
          "text": [
            "SalePrice       float64\n",
            "OverallQual       int64\n",
            "1stFlrSF        float64\n",
            "TotRmsAbvGrd      int64\n",
            "YearBuilt         int64\n",
            "LotFrontage     float64\n",
            "dtype: object\n"
          ],
          "name": "stdout"
        }
      ]
    },
    {
      "cell_type": "code",
      "metadata": {
        "colab": {
          "base_uri": "https://localhost:8080/",
          "height": 419
        },
        "id": "yIjT1CaiDybO",
        "outputId": "aa65c1af-ca9b-4377-a4c0-546a052a767d"
      },
      "source": [
        "df"
      ],
      "execution_count": 9,
      "outputs": [
        {
          "output_type": "execute_result",
          "data": {
            "text/html": [
              "<div>\n",
              "<style scoped>\n",
              "    .dataframe tbody tr th:only-of-type {\n",
              "        vertical-align: middle;\n",
              "    }\n",
              "\n",
              "    .dataframe tbody tr th {\n",
              "        vertical-align: top;\n",
              "    }\n",
              "\n",
              "    .dataframe thead th {\n",
              "        text-align: right;\n",
              "    }\n",
              "</style>\n",
              "<table border=\"1\" class=\"dataframe\">\n",
              "  <thead>\n",
              "    <tr style=\"text-align: right;\">\n",
              "      <th></th>\n",
              "      <th>SalePrice</th>\n",
              "      <th>OverallQual</th>\n",
              "      <th>1stFlrSF</th>\n",
              "      <th>TotRmsAbvGrd</th>\n",
              "      <th>YearBuilt</th>\n",
              "      <th>LotFrontage</th>\n",
              "    </tr>\n",
              "  </thead>\n",
              "  <tbody>\n",
              "    <tr>\n",
              "      <th>0</th>\n",
              "      <td>208500.0</td>\n",
              "      <td>7</td>\n",
              "      <td>856.0</td>\n",
              "      <td>8</td>\n",
              "      <td>2003</td>\n",
              "      <td>65.0</td>\n",
              "    </tr>\n",
              "    <tr>\n",
              "      <th>1</th>\n",
              "      <td>181500.0</td>\n",
              "      <td>6</td>\n",
              "      <td>1262.0</td>\n",
              "      <td>6</td>\n",
              "      <td>1976</td>\n",
              "      <td>80.0</td>\n",
              "    </tr>\n",
              "    <tr>\n",
              "      <th>2</th>\n",
              "      <td>223500.0</td>\n",
              "      <td>7</td>\n",
              "      <td>920.0</td>\n",
              "      <td>6</td>\n",
              "      <td>2001</td>\n",
              "      <td>68.0</td>\n",
              "    </tr>\n",
              "    <tr>\n",
              "      <th>3</th>\n",
              "      <td>140000.0</td>\n",
              "      <td>7</td>\n",
              "      <td>961.0</td>\n",
              "      <td>7</td>\n",
              "      <td>1915</td>\n",
              "      <td>60.0</td>\n",
              "    </tr>\n",
              "    <tr>\n",
              "      <th>4</th>\n",
              "      <td>250000.0</td>\n",
              "      <td>8</td>\n",
              "      <td>1145.0</td>\n",
              "      <td>9</td>\n",
              "      <td>2000</td>\n",
              "      <td>84.0</td>\n",
              "    </tr>\n",
              "    <tr>\n",
              "      <th>...</th>\n",
              "      <td>...</td>\n",
              "      <td>...</td>\n",
              "      <td>...</td>\n",
              "      <td>...</td>\n",
              "      <td>...</td>\n",
              "      <td>...</td>\n",
              "    </tr>\n",
              "    <tr>\n",
              "      <th>1196</th>\n",
              "      <td>175000.0</td>\n",
              "      <td>6</td>\n",
              "      <td>953.0</td>\n",
              "      <td>7</td>\n",
              "      <td>1999</td>\n",
              "      <td>62.0</td>\n",
              "    </tr>\n",
              "    <tr>\n",
              "      <th>1197</th>\n",
              "      <td>210000.0</td>\n",
              "      <td>6</td>\n",
              "      <td>2073.0</td>\n",
              "      <td>7</td>\n",
              "      <td>1978</td>\n",
              "      <td>85.0</td>\n",
              "    </tr>\n",
              "    <tr>\n",
              "      <th>1198</th>\n",
              "      <td>266500.0</td>\n",
              "      <td>7</td>\n",
              "      <td>1188.0</td>\n",
              "      <td>9</td>\n",
              "      <td>1941</td>\n",
              "      <td>66.0</td>\n",
              "    </tr>\n",
              "    <tr>\n",
              "      <th>1199</th>\n",
              "      <td>142125.0</td>\n",
              "      <td>5</td>\n",
              "      <td>1078.0</td>\n",
              "      <td>5</td>\n",
              "      <td>1950</td>\n",
              "      <td>68.0</td>\n",
              "    </tr>\n",
              "    <tr>\n",
              "      <th>1200</th>\n",
              "      <td>147500.0</td>\n",
              "      <td>5</td>\n",
              "      <td>1256.0</td>\n",
              "      <td>6</td>\n",
              "      <td>1965</td>\n",
              "      <td>75.0</td>\n",
              "    </tr>\n",
              "  </tbody>\n",
              "</table>\n",
              "<p>1201 rows × 6 columns</p>\n",
              "</div>"
            ],
            "text/plain": [
              "      SalePrice  OverallQual  1stFlrSF  TotRmsAbvGrd  YearBuilt  LotFrontage\n",
              "0      208500.0            7     856.0             8       2003         65.0\n",
              "1      181500.0            6    1262.0             6       1976         80.0\n",
              "2      223500.0            7     920.0             6       2001         68.0\n",
              "3      140000.0            7     961.0             7       1915         60.0\n",
              "4      250000.0            8    1145.0             9       2000         84.0\n",
              "...         ...          ...       ...           ...        ...          ...\n",
              "1196   175000.0            6     953.0             7       1999         62.0\n",
              "1197   210000.0            6    2073.0             7       1978         85.0\n",
              "1198   266500.0            7    1188.0             9       1941         66.0\n",
              "1199   142125.0            5    1078.0             5       1950         68.0\n",
              "1200   147500.0            5    1256.0             6       1965         75.0\n",
              "\n",
              "[1201 rows x 6 columns]"
            ]
          },
          "metadata": {
            "tags": []
          },
          "execution_count": 9
        }
      ]
    },
    {
      "cell_type": "code",
      "metadata": {
        "colab": {
          "base_uri": "https://localhost:8080/"
        },
        "id": "Qsqu2yZPF_4Q",
        "outputId": "070afdce-02a5-494a-c10a-796a6ca695e4"
      },
      "source": [
        "# Separar dataframe en Train y Test\n",
        "\n",
        "rows, columns = df.shape\n",
        "\n",
        "train = df.loc[:int(rows*0.8),]\n",
        "test = df.loc[int(rows*0.8)+1:,]\n",
        "\n",
        "print(\"Train shape: \", train.shape)\n",
        "print(\"Test shape:  \", test.shape)"
      ],
      "execution_count": 10,
      "outputs": [
        {
          "output_type": "stream",
          "text": [
            "Train shape:  (961, 6)\n",
            "Test shape:   (240, 6)\n"
          ],
          "name": "stdout"
        }
      ]
    },
    {
      "cell_type": "code",
      "metadata": {
        "colab": {
          "base_uri": "https://localhost:8080/"
        },
        "id": "Wpv8NnxP-AWd",
        "outputId": "541988af-341a-4dd2-edc9-07278e0c440a"
      },
      "source": [
        "print(train)\n",
        "print(test)"
      ],
      "execution_count": 11,
      "outputs": [
        {
          "output_type": "stream",
          "text": [
            "     SalePrice  OverallQual  1stFlrSF  TotRmsAbvGrd  YearBuilt  LotFrontage\n",
            "0     208500.0            7     856.0             8       2003         65.0\n",
            "1     181500.0            6    1262.0             6       1976         80.0\n",
            "2     223500.0            7     920.0             6       2001         68.0\n",
            "3     140000.0            7     961.0             7       1915         60.0\n",
            "4     250000.0            8    1145.0             9       2000         84.0\n",
            "..         ...          ...       ...           ...        ...          ...\n",
            "956   146000.0            6     855.0             7       1978         24.0\n",
            "957   129000.0            5     894.0             5       1968        109.0\n",
            "958   108959.0            4    1258.0             6       1969         60.0\n",
            "959   233170.0            7    1502.0             7       2009         79.0\n",
            "960   245350.0            8    1694.0             7       2008         64.0\n",
            "\n",
            "[961 rows x 6 columns]\n",
            "      SalePrice  OverallQual  1stFlrSF  TotRmsAbvGrd  YearBuilt  LotFrontage\n",
            "961    173000.0            6     959.0             7       2000         58.0\n",
            "962    235000.0            6    1236.0             7       1935        120.0\n",
            "963    625000.0           10    1831.0            10       1995        118.0\n",
            "964    171000.0            6    1118.0             6       1977         76.0\n",
            "965    163000.0            6    1261.0             6       1958         76.0\n",
            "...         ...          ...       ...           ...        ...          ...\n",
            "1196   175000.0            6     953.0             7       1999         62.0\n",
            "1197   210000.0            6    2073.0             7       1978         85.0\n",
            "1198   266500.0            7    1188.0             9       1941         66.0\n",
            "1199   142125.0            5    1078.0             5       1950         68.0\n",
            "1200   147500.0            5    1256.0             6       1965         75.0\n",
            "\n",
            "[240 rows x 6 columns]\n"
          ],
          "name": "stdout"
        }
      ]
    },
    {
      "cell_type": "markdown",
      "metadata": {
        "id": "odhcSiS4Mumw"
      },
      "source": [
        "### Análisis Exploratorio"
      ]
    },
    {
      "cell_type": "code",
      "metadata": {
        "colab": {
          "base_uri": "https://localhost:8080/"
        },
        "id": "BvAtZSsk_H1A",
        "outputId": "c925fe3c-dd61-4447-b614-5818d3e36543"
      },
      "source": [
        "# Media\n",
        "\n",
        "print(\" VARIABLE         MEDIA \\n\\n\", round(np.mean(train, axis=0, ), 2))"
      ],
      "execution_count": 12,
      "outputs": [
        {
          "output_type": "stream",
          "text": [
            " VARIABLE         MEDIA \n",
            "\n",
            " SalePrice       181002.57\n",
            "OverallQual          6.12\n",
            "1stFlrSF          1155.83\n",
            "TotRmsAbvGrd         6.50\n",
            "YearBuilt         1970.64\n",
            "LotFrontage         69.96\n",
            "dtype: float64\n"
          ],
          "name": "stdout"
        }
      ]
    },
    {
      "cell_type": "code",
      "metadata": {
        "colab": {
          "base_uri": "https://localhost:8080/"
        },
        "id": "OD-7z_UNCPte",
        "outputId": "73bfc9f3-1f2f-459e-ddbe-5091700f6050"
      },
      "source": [
        "# Valor Máximo\n",
        "\n",
        "print(\" VARIABLE      VALOR MAXIMO \\n\\n\", np.max(train, axis=0))"
      ],
      "execution_count": 13,
      "outputs": [
        {
          "output_type": "stream",
          "text": [
            " VARIABLE      VALOR MAXIMO \n",
            "\n",
            " SalePrice       755000.0\n",
            "OverallQual         10.0\n",
            "1stFlrSF          3138.0\n",
            "TotRmsAbvGrd        14.0\n",
            "YearBuilt         2010.0\n",
            "LotFrontage        313.0\n",
            "dtype: float64\n"
          ],
          "name": "stdout"
        }
      ]
    },
    {
      "cell_type": "code",
      "metadata": {
        "colab": {
          "base_uri": "https://localhost:8080/"
        },
        "id": "PhMdBUD_CPhU",
        "outputId": "a703e994-1500-4dfc-e83c-7e6402300ba7"
      },
      "source": [
        "# Valor Mínimo\n",
        "\n",
        "print(\" VARIABLE      VALOR MINIMO \\n\\n\", np.min(train, axis=0))"
      ],
      "execution_count": 17,
      "outputs": [
        {
          "output_type": "stream",
          "text": [
            " VARIABLE      VALOR MINIMO \n",
            "\n",
            " SalePrice       34900.0\n",
            "OverallQual         1.0\n",
            "1stFlrSF          334.0\n",
            "TotRmsAbvGrd        2.0\n",
            "YearBuilt        1875.0\n",
            "LotFrontage        21.0\n",
            "dtype: float64\n"
          ],
          "name": "stdout"
        }
      ]
    },
    {
      "cell_type": "code",
      "metadata": {
        "colab": {
          "base_uri": "https://localhost:8080/"
        },
        "id": "q_FEDyLLCPUp",
        "outputId": "0a75e605-4beb-408e-dc1f-3ac6b3b18855"
      },
      "source": [
        "# Desviación Estándar\n",
        "\n",
        "print(\" VARIABLE    DESVIACION ESTANDAR \\n\\n\", round(np.std(train, axis=0), 2))"
      ],
      "execution_count": 18,
      "outputs": [
        {
          "output_type": "stream",
          "text": [
            " VARIABLE    DESVIACION ESTANDAR \n",
            "\n",
            " SalePrice       83330.87\n",
            "OverallQual         1.42\n",
            "1stFlrSF          372.53\n",
            "TotRmsAbvGrd        1.62\n",
            "YearBuilt          31.53\n",
            "LotFrontage        23.47\n",
            "dtype: float64\n"
          ],
          "name": "stdout"
        }
      ]
    },
    {
      "cell_type": "code",
      "metadata": {
        "colab": {
          "base_uri": "https://localhost:8080/",
          "height": 497
        },
        "id": "KvUi9o7xDXkG",
        "outputId": "c748696f-e38e-4c63-ebac-fa354a1de5cb"
      },
      "source": [
        "# Histograma de cada variable\n",
        "\n",
        "size, axes = plt.subplots(2, 3, figsize=(18, 8))\n",
        "#colors = \n",
        "#colors=[\"C0\", \"C1\", \"k\"]\n",
        "#colors = dict(zip(unique, sns.color_palette(n_colors=len(unique))))\n",
        "colors = [\"r\", \"g\", \"b\", \"c\", \"m\", \"y\"]\n",
        "\n",
        "for i in range(columns-3):\n",
        "  sns.histplot(train.iloc[:,i], kde=True, color=colors[i], ax=axes[0,i])\n",
        "  sns.histplot(train.iloc[:,i+3], kde=True, color=colors[i+3], ax=axes[1,i])\n"
      ],
      "execution_count": 95,
      "outputs": [
        {
          "output_type": "display_data",
          "data": {
            "image/png": "[encoded data removed]",
            "text/plain": [
              "<Figure size 1296x576 with 6 Axes>"
            ]
          },
          "metadata": {
            "tags": [],
            "needs_background": "light"
          }
        }
      ]
    },
    {
      "cell_type": "code",
      "metadata": {
        "id": "-yIOx6_yDXfF"
      },
      "source": [
        ""
      ],
      "execution_count": null,
      "outputs": []
    },
    {
      "cell_type": "code",
      "metadata": {
        "id": "EWmgYd9PDXVs"
      },
      "source": [
        ""
      ],
      "execution_count": null,
      "outputs": []
    },
    {
      "cell_type": "code",
      "metadata": {
        "id": "Uqri3cVHYslN"
      },
      "source": [
        ""
      ],
      "execution_count": null,
      "outputs": []
    }
  ]
}