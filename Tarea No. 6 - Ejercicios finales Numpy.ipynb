{
  "nbformat": 4,
  "nbformat_minor": 0,
  "metadata": {
    "kernelspec": {
      "display_name": "Python 3",
      "language": "python",
      "name": "python3"
    },
    "language_info": {
      "codemirror_mode": {
        "name": "ipython",
        "version": 3
      },
      "file_extension": ".py",
      "mimetype": "text/x-python",
      "name": "python",
      "nbconvert_exporter": "python",
      "pygments_lexer": "ipython3",
      "version": "3.7.2"
    },
    "colab": {
      "name": "Tarea No. 6 - Ejercicios finales Numpy.ipynb",
      "provenance": [],
      "collapsed_sections": [],
      "include_colab_link": true
    }
  },
  "cells": [
    {
      "cell_type": "markdown",
      "metadata": {
        "id": "view-in-github",
        "colab_type": "text"
      },
      "source": [
        "<a href=\"https://colab.research.google.com/github/navas604/Ciencia-de-Datos-en-Python/blob/main/Tarea%20No.%206%20-%20Ejercicios%20finales%20Numpy.ipynb\" target=\"_parent\"><img src=\"https://colab.research.google.com/assets/colab-badge.svg\" alt=\"Open In Colab\"/></a>"
      ]
    },
    {
      "cell_type": "markdown",
      "metadata": {
        "id": "p1Ya6Bj5EU2Z"
      },
      "source": [
        "## **Universidad Galileo**\n",
        "## **Maestría en Data Science**\n",
        "## **Ciencia de Datos en Python**\n",
        "## **Antonio Everardo Navas Contreras, 14003163**\n",
        "## **14/04/2021**\n",
        "\n",
        "---\n",
        "\n",
        "## **Tarea No. 6 - Ejercicios finales Numpy**\n",
        "\n",
        "---"
      ]
    },
    {
      "cell_type": "markdown",
      "metadata": {
        "id": "4qQDQHWjr3R6"
      },
      "source": [
        "Importar librerías a utilizar"
      ]
    },
    {
      "cell_type": "code",
      "metadata": {
        "id": "6I2FPhJLrvWW"
      },
      "source": [
        "import numpy as np"
      ],
      "execution_count": 1,
      "outputs": []
    },
    {
      "cell_type": "markdown",
      "metadata": {
        "id": "u4RNYObMm2X7"
      },
      "source": [
        "## Ejercicios de Notebook **\"Clase_07_Numpy_y_linalg-Matrices-parte1.ipynb\"**"
      ]
    },
    {
      "cell_type": "markdown",
      "metadata": {
        "id": "sPnUNV4EI3Bw"
      },
      "source": [
        "#### Ejercicio: Diferencia entre np.array y np.matrix\n",
        "\n",
        "Las matrices de numpy son únicamente bidimensionales, mientras que los arreglos de numpy (ndarrays) con de N dimesiones.\n",
        "\n",
        "Derivado de ese concepto, las matrices son una subclase de los ndarrays, y por lo tanto heredan todos los atributos y métodos de los ndarrays.\n",
        "\n",
        "Una de las ventajas mas importantes de las matrices en numpy es que debido a su notación es posible hacer multiplicación de matrices, es un producto matricial.\n",
        "\n",
        "Los ndarrays son el estándar de vectores, matrices o tensores de numpy. La mayoría de las funciones devuelven como resultado ndarrays y no matrices."
      ]
    },
    {
      "cell_type": "markdown",
      "metadata": {
        "id": "BpvQnXfXOMVm"
      },
      "source": [
        "Arreglo de rango 1, con ndarray, el rango va de acuerdo a la forma de los datos ingresados. Un ndarray puede ser de N dimensiones"
      ]
    },
    {
      "cell_type": "code",
      "metadata": {
        "colab": {
          "base_uri": "https://localhost:8080/"
        },
        "id": "IMtdBg8QGLyF",
        "outputId": "10e2b94e-e442-45f1-bb95-cbe261934489"
      },
      "source": [
        "a = np.array([1, 2, 3])\n",
        "print(a)\n",
        "print(\"Shape: \", a.shape)\n",
        "print(\"Rango: \", a.ndim)\n",
        "print(\"Tipo:  \", type(a))"
      ],
      "execution_count": 2,
      "outputs": [
        {
          "output_type": "stream",
          "text": [
            "[1 2 3]\n",
            "Shape:  (3,)\n",
            "Rango:  1\n",
            "Tipo:   <class 'numpy.ndarray'>\n"
          ],
          "name": "stdout"
        }
      ]
    },
    {
      "cell_type": "markdown",
      "metadata": {
        "id": "RmKMlIKWPBFw"
      },
      "source": [
        "Arreglo de rango 2, con ndarray, el rango va de acuerdo a la forma de los datos ingresados. Un ndarray puede ser de N dimensiones"
      ]
    },
    {
      "cell_type": "code",
      "metadata": {
        "colab": {
          "base_uri": "https://localhost:8080/"
        },
        "id": "KkoqmsqhNui2",
        "outputId": "b48b1a43-01b7-499f-bef0-bf90b09133bb"
      },
      "source": [
        "a = np.array([[1, 2, 3],\n",
        "              [4,5,6]])\n",
        "print(a)\n",
        "print(\"Shape: \", a.shape)\n",
        "print(\"Rango: \", a.ndim)\n",
        "print(\"Tipo:  \", type(a))"
      ],
      "execution_count": 3,
      "outputs": [
        {
          "output_type": "stream",
          "text": [
            "[[1 2 3]\n",
            " [4 5 6]]\n",
            "Shape:  (2, 3)\n",
            "Rango:  2\n",
            "Tipo:   <class 'numpy.ndarray'>\n"
          ],
          "name": "stdout"
        }
      ]
    },
    {
      "cell_type": "markdown",
      "metadata": {
        "id": "jnpRW23xP2h_"
      },
      "source": [
        "Arreglo de rango 3, con ndarray, el rango va de acuerdo a la forma de los datos ingresados. Un ndarray puede ser de N dimensiones"
      ]
    },
    {
      "cell_type": "code",
      "metadata": {
        "colab": {
          "base_uri": "https://localhost:8080/"
        },
        "id": "_ujC69ECP1xF",
        "outputId": "32a7ac94-fe77-4c29-a2c7-19d6eb74129c"
      },
      "source": [
        "a = np.array([[[1, 2], [3, 4]], [[5, 6], [7, 8]]])\n",
        "print(a)\n",
        "print(\"Shape: \", a.shape)\n",
        "print(\"Rango: \", a.ndim)\n",
        "print(\"Tipo:  \", type(a))"
      ],
      "execution_count": 4,
      "outputs": [
        {
          "output_type": "stream",
          "text": [
            "[[[1 2]\n",
            "  [3 4]]\n",
            "\n",
            " [[5 6]\n",
            "  [7 8]]]\n",
            "Shape:  (2, 2, 2)\n",
            "Rango:  3\n",
            "Tipo:   <class 'numpy.ndarray'>\n"
          ],
          "name": "stdout"
        }
      ]
    },
    {
      "cell_type": "markdown",
      "metadata": {
        "id": "Hxz2HIDmPOZu"
      },
      "source": [
        "Matriz de rango 2, con matrix, el rango siempre es 2"
      ]
    },
    {
      "cell_type": "code",
      "metadata": {
        "colab": {
          "base_uri": "https://localhost:8080/"
        },
        "id": "P7dZYfnPOJcb",
        "outputId": "38e1402e-37a5-48e7-9b2b-59b3cd0a184e"
      },
      "source": [
        "a = np.matrix([1, 2, 3])\n",
        "print(a)\n",
        "print(\"Shape: \", a.shape)\n",
        "print(\"Rango: \", a.ndim)\n",
        "print(\"Tipo:  \", type(a))"
      ],
      "execution_count": 5,
      "outputs": [
        {
          "output_type": "stream",
          "text": [
            "[[1 2 3]]\n",
            "Shape:  (1, 3)\n",
            "Rango:  2\n",
            "Tipo:   <class 'numpy.matrix'>\n"
          ],
          "name": "stdout"
        }
      ]
    },
    {
      "cell_type": "markdown",
      "metadata": {
        "id": "ilVkkXdJPVgg"
      },
      "source": [
        "Matriz de rango 2, con matrix, el rango siempre es 2"
      ]
    },
    {
      "cell_type": "code",
      "metadata": {
        "colab": {
          "base_uri": "https://localhost:8080/"
        },
        "id": "KXpRWKmkGLh4",
        "outputId": "87d42dff-5944-4b8b-f13f-50c615f4e0a9"
      },
      "source": [
        "a = np.matrix([[1, 2, 3],\n",
        "               [4,5,6]])\n",
        "print(a)\n",
        "print(\"Shape: \", a.shape)\n",
        "print(\"Rango: \", a.ndim)\n",
        "print(\"Tipo:  \", type(a))"
      ],
      "execution_count": 6,
      "outputs": [
        {
          "output_type": "stream",
          "text": [
            "[[1 2 3]\n",
            " [4 5 6]]\n",
            "Shape:  (2, 3)\n",
            "Rango:  2\n",
            "Tipo:   <class 'numpy.matrix'>\n"
          ],
          "name": "stdout"
        }
      ]
    },
    {
      "cell_type": "markdown",
      "metadata": {
        "id": "5Uheiwf8nFXr"
      },
      "source": [
        "## Ejercicios de Notebook **\"Clase_08_Numpy_y_linalg-Matrices-parte2.ipynb\"**"
      ]
    },
    {
      "cell_type": "markdown",
      "metadata": {
        "id": "QtgYxThMpqsf"
      },
      "source": [
        "**Ejercicio aplicado en DS**\n",
        "Se tiene una red neuronal sencilla(y simplificada) como la de la siguiente imagen:\n",
        "<img src=\"https://www.oreilly.com/library/view/practical-convolutional-neural/9781788392303/assets/246151fb-7893-448d-b9bb-7a87b387a24b.png\">\n",
        "\n",
        "Donde:\n",
        "* INPUT LAYER: un vector X de tamaño = 2 que representa los datos de entrada\n",
        "* HIDDEN_LAYER :capa oculta con 2 neuronas definidas por los vectores:\n",
        "    * HL1 = [0.25,0.37]\n",
        "    * HL2 = [-8,14]\n",
        "* OUTPUT_LAYER = capa de salida definida por el vector [4,9]\n",
        "\n",
        "Crear una funcion neural_network(X) para calcular:\n",
        "* Calcule la salida de cada neurona en la capa intermedia aplicada a la capa de entrada.\n",
        "* Use el resultado del paso anterior como entrada para la neurona en la capa de salida\n",
        "\n",
        "Utilizando multiplicación de matrices se debe calcular para cada fila de la matriz de entrada X el valor de las neuronas de la capa intermedia, esto producirá una nueva matriz con el mismo número de filas que X y 2 columnas(1 para cada neurona) , a  los valores de esta matriz se les debe aplicar la función \"sigmoid\"(descrita a continuación) para limitarlos al intervalo de 0 a 1, esto produce una matriz del mismo tamaño pero con valores entre 0 a 1, esta matriz se multiplica matricialmente por la matriz que representa los pesos de la capa de salida  y este proceso produce un nuevo tensor al cual se debe aplicar nuevamente la función sigmoid. El resultado debe ser un tensor con el mismo número de filas que la matriz X y una sola columna(una predicción para cada fila de X.\n",
        "\n",
        "<img src=\"https://cdn-images-1.medium.com/max/1600/1*Xu7B5y9gp0iL5ooBj7LtWw.png\">"
      ]
    },
    {
      "cell_type": "code",
      "metadata": {
        "id": "S9SM6Km2pLCw"
      },
      "source": [
        "def sigmoid(x): #convertir los valores de x al rango de 0 a 1\n",
        "    \n",
        "    return 1/(1+np.exp(-x))"
      ],
      "execution_count": 7,
      "outputs": []
    },
    {
      "cell_type": "code",
      "metadata": {
        "colab": {
          "base_uri": "https://localhost:8080/"
        },
        "id": "YYyzUY5FpK93",
        "outputId": "8f38c2ad-f58f-41a9-f92d-eb0539f85b9e"
      },
      "source": [
        "H1_W = np.array([[0.25,-8],\n",
        "                 [0.37,14]])\n",
        "\n",
        "OL_W = np.array([[4],[9]])\n",
        "\n",
        "X =  np.array([[0.1,0.2],\n",
        "               [1,2]])\n",
        "\n",
        "H1 = np.matmul(X,H1_W)\n",
        "H1 = sigmoid(H1)  # funcion de activacion: convertir a valores en el intervalo de 0 a 1\n",
        "OL = np.matmul(H1,OL_W)\n",
        "OL = sigmoid(OL)  # funcion de activacion: convertir a valores en el intervalo de 0 a 1\n",
        "\n",
        "\n",
        "print(OL)"
      ],
      "execution_count": 8,
      "outputs": [
        {
          "output_type": "stream",
          "text": [
            "[[0.99995577]\n",
            " [0.99999332]]\n"
          ],
          "name": "stdout"
        }
      ]
    },
    {
      "cell_type": "markdown",
      "metadata": {
        "id": "Gx1_TG7xp3Dw"
      },
      "source": [
        "Creando la función para red neuronal con 2 neuronas en la capa oculta"
      ]
    },
    {
      "cell_type": "code",
      "metadata": {
        "colab": {
          "base_uri": "https://localhost:8080/"
        },
        "id": "SCLRaLsVpzvK",
        "outputId": "73d19f50-80b2-41e9-effb-0c73d7a479f0"
      },
      "source": [
        "X =  np.array([[0.1,0.2],\n",
        "               [1,2]])\n",
        "\n",
        "\n",
        "def neural_network(X):\n",
        "  \n",
        "  H1_W = np.array([[0.25,-8],\n",
        "                   [0.37,14]])\n",
        "  \n",
        "  OL_W = np.array([[4],[9]])\n",
        "\n",
        "\n",
        "  H1 = np.matmul(X,H1_W)\n",
        "  H1 = sigmoid(H1)  # funcion de activacion: convertir a valores en el intervalo de 0 a 1\n",
        "  OL = np.matmul(H1,OL_W)\n",
        "  OL = sigmoid(OL)  # funcion de activacion: convertir a valores en el intervalo de 0 a 1\n",
        "\n",
        "  return OL\n",
        "\n",
        "A = neural_network(X)\n",
        "print(A)\n",
        "print(A.shape)"
      ],
      "execution_count": 9,
      "outputs": [
        {
          "output_type": "stream",
          "text": [
            "[[0.99995577]\n",
            " [0.99999332]]\n",
            "(2, 1)\n"
          ],
          "name": "stdout"
        }
      ]
    },
    {
      "cell_type": "markdown",
      "metadata": {
        "id": "c_TgYUTMp-mG"
      },
      "source": [
        "### Ejercicio \n",
        "\n",
        "Implementar en una funcion neural_network(X) la red neuronal definida por la siguiente arquitectura:\n",
        "\n",
        "<img src=\"http://i.imgur.com/UNlffE1.png\">\n",
        "\n",
        "Podemos validar si fue correctamente implementada si usamos como entrada el vector x=[1,1] . Debemos obtener el resultado mostrado en la imagen.\n",
        "\n",
        "Una vez tenemos la implementacion correcta, cambiar la funcion de activacion de la capa de salida por la funcion de activacion ReLu(https://en.wikipedia.org/wiki/Rectifier_(neural_networks)):\n",
        "\n",
        "<img src=\"https://cdn-images-1.medium.com/max/1600/1*DfMRHwxY1gyyDmrIAd-gjQ.png\">\n",
        "\n",
        "Luego evaluar la red neuronal sobre la matriz de datos X(de manera vectorizada):"
      ]
    },
    {
      "cell_type": "code",
      "metadata": {
        "id": "kbB4ZPg8pzmv"
      },
      "source": [
        "X = np.array([\n",
        "    [0.1,2],\n",
        "    [0.3,0.45],\n",
        "    [5,9],\n",
        "    [12,6],\n",
        "    [7,5],\n",
        "    [0.3,0.8],\n",
        "    [12,5],\n",
        "    [100,200],\n",
        "    [7,8],\n",
        "    [300,1500]])"
      ],
      "execution_count": 10,
      "outputs": []
    },
    {
      "cell_type": "code",
      "metadata": {
        "colab": {
          "base_uri": "https://localhost:8080/"
        },
        "id": "eZHGKLyRpzhY",
        "outputId": "20c41933-c041-4dc9-a91b-7b63006d0299"
      },
      "source": [
        "y = np.array([100,200,300,800])\n",
        "x = np.array([1,2,3,8])\n",
        "unos = np.array([1,1,1,1])\n",
        "\n",
        "\n",
        "#y_aprox = mx + b*(1)\n",
        "\n",
        "parametros = np.array([100,0.01])\n",
        "x_modificado = np.vstack((x,unos)).T\n",
        "y_aprox = np.matmul(x_modificado,parametros)\n",
        "\n",
        "print(y_aprox -y)\n"
      ],
      "execution_count": 11,
      "outputs": [
        {
          "output_type": "stream",
          "text": [
            "[0.01 0.01 0.01 0.01]\n"
          ],
          "name": "stdout"
        }
      ]
    },
    {
      "cell_type": "markdown",
      "metadata": {
        "id": "M7ooFStPqJav"
      },
      "source": [
        "Creando la función para red neuronal con 3 neuronas en la capa oculta"
      ]
    },
    {
      "cell_type": "code",
      "metadata": {
        "colab": {
          "base_uri": "https://localhost:8080/"
        },
        "id": "mpxHyM-1pzQ3",
        "outputId": "2a9a3807-9572-4ef5-cfef-5b167bae358a"
      },
      "source": [
        "X =  np.array([[1,1],\n",
        "               [1,1]])\n",
        "\n",
        "\n",
        "def neural_network(X):\n",
        "  \n",
        "  H1_W = np.array([[0.712, 0.355, 0.268],\n",
        "                   [0.112, 0.855, 0.468]])\n",
        "  \n",
        "  OL_W = np.array([[0.116], [0.329], [0.708]])\n",
        "\n",
        "\n",
        "  H1 = np.matmul(X,H1_W)\n",
        "  H1 = sigmoid(H1)  # funcion de activacion: convertir a valores en el intervalo de 0 a 1\n",
        "  OL = np.matmul(H1,OL_W)\n",
        "  OL = sigmoid(OL)  # funcion de activacion: convertir a valores en el intervalo de 0 a 1\n",
        "\n",
        "  return OL\n",
        "\n",
        "A = neural_network(X)\n",
        "print(A)\n",
        "print(A.shape)"
      ],
      "execution_count": 12,
      "outputs": [
        {
          "output_type": "stream",
          "text": [
            "[[0.69269553]\n",
            " [0.69269553]]\n",
            "(2, 1)\n"
          ],
          "name": "stdout"
        }
      ]
    },
    {
      "cell_type": "markdown",
      "metadata": {
        "id": "QqXeKVBkqO_X"
      },
      "source": [
        "Creando la función para red neuronal con 3 neuronas en la capa oculta y Cambiando la función de activación a ReLu"
      ]
    },
    {
      "cell_type": "code",
      "metadata": {
        "colab": {
          "base_uri": "https://localhost:8080/"
        },
        "id": "EPquBYMSqPni",
        "outputId": "59626c6d-8e60-4ca8-d5e0-9618710025d1"
      },
      "source": [
        "X =  np.array([[1,1],\n",
        "               [1,1]])\n",
        "\n",
        "\n",
        "def neural_network(X):\n",
        "  \n",
        "  H1_W = np.array([[0.712, 0.355, 0.268],\n",
        "                   [0.112, 0.855, 0.468]])\n",
        "  \n",
        "  OL_W = np.array([[0.116], [0.329], [0.708]])\n",
        "\n",
        "\n",
        "  H1 = np.matmul(X,H1_W)\n",
        "  H1 = sigmoid(H1)  # funcion de activacion: convertir a valores en el intervalo de 0 a 1\n",
        "  OL = np.matmul(H1,OL_W)\n",
        "  #OL = sigmoid(OL)  # funcion de activacion: convertir a valores en el intervalo de 0 a 1\n",
        "  OL = max(OL)  # funcion de activacion\n",
        "\n",
        "  return OL\n",
        "\n",
        "A = neural_network(X)\n",
        "print(A)\n",
        "print(A.shape)"
      ],
      "execution_count": 13,
      "outputs": [
        {
          "output_type": "stream",
          "text": [
            "[0.81275154]\n",
            "(1,)\n"
          ],
          "name": "stdout"
        }
      ]
    },
    {
      "cell_type": "markdown",
      "metadata": {
        "id": "vEGK3PlTqWUn"
      },
      "source": [
        "Evaluando la red neuronal sobre la matriz de datos X (de manera vectorizada)"
      ]
    },
    {
      "cell_type": "code",
      "metadata": {
        "colab": {
          "base_uri": "https://localhost:8080/"
        },
        "id": "u9DsVY7AqQdB",
        "outputId": "4a91ecc3-56b5-4234-d137-b1698d016397"
      },
      "source": [
        "X = np.array([\n",
        "    [0.1,2],\n",
        "    [0.3,0.45],\n",
        "    [5,9],\n",
        "    [12,6],\n",
        "    [7,5],\n",
        "    [0.3,0.8],\n",
        "    [12,5],\n",
        "    [100,200],\n",
        "    [7,8],\n",
        "    [300,1500]])\n",
        "\n",
        "\n",
        "def neural_network(X):\n",
        "  \n",
        "  H1_W = np.array([[0.712, 0.355, 0.268],\n",
        "                   [0.112, 0.855, 0.468]])\n",
        "  \n",
        "  OL_W = np.array([[0.116], [0.329], [0.708]])\n",
        "\n",
        "\n",
        "  H1 = np.matmul(X,H1_W)\n",
        "  H1 = sigmoid(H1)  # funcion de activacion: convertir a valores en el intervalo de 0 a 1\n",
        "  OL = np.matmul(H1,OL_W)\n",
        "  OL = sigmoid(OL)  # funcion de activacion: convertir a valores en el intervalo de 0 a 1\n",
        "  #OL = max(OL)  # funcion de activacion\n",
        "\n",
        "  return OL\n",
        "\n",
        "A = neural_network(X)\n",
        "print(A)\n",
        "print(A.shape)"
      ],
      "execution_count": 14,
      "outputs": [
        {
          "output_type": "stream",
          "text": [
            "[[0.70244573]\n",
            " [0.66259284]\n",
            " [0.75933678]\n",
            " [0.75973948]\n",
            " [0.75802295]\n",
            " [0.6739704 ]\n",
            " [0.75954693]\n",
            " [0.76005845]\n",
            " [0.75952743]\n",
            " [0.76005845]]\n",
            "(10, 1)\n"
          ],
          "name": "stdout"
        }
      ]
    },
    {
      "cell_type": "markdown",
      "metadata": {
        "id": "R6cmr5TzqndC"
      },
      "source": [
        "Evaluando la red neuronal sobre la matriz de datos X (de manera vectorizada) y Cambiando la función de activación a ReLu"
      ]
    },
    {
      "cell_type": "code",
      "metadata": {
        "colab": {
          "base_uri": "https://localhost:8080/"
        },
        "id": "4cM-D9vJqQU6",
        "outputId": "fb9d897f-b70c-456f-d10e-9fd09e7f50eb"
      },
      "source": [
        "X = np.array([\n",
        "    [0.1,2],\n",
        "    [0.3,0.45],\n",
        "    [5,9],\n",
        "    [12,6],\n",
        "    [7,5],\n",
        "    [0.3,0.8],\n",
        "    [12,5],\n",
        "    [100,200],\n",
        "    [7,8],\n",
        "    [300,1500]])\n",
        "\n",
        "\n",
        "def neural_network(X):\n",
        "  \n",
        "  H1_W = np.array([[0.712, 0.355, 0.268],\n",
        "                   [0.112, 0.855, 0.468]])\n",
        "  \n",
        "  OL_W = np.array([[0.116], [0.329], [0.708]])\n",
        "\n",
        "\n",
        "  H1 = np.matmul(X,H1_W)\n",
        "  H1 = sigmoid(H1)  # funcion de activacion: convertir a valores en el intervalo de 0 a 1\n",
        "  OL = np.matmul(H1,OL_W)\n",
        "  #OL = sigmoid(OL)  # funcion de activacion: convertir a valores en el intervalo de 0 a 1\n",
        "  OL = max(OL)  # funcion de activacion\n",
        "\n",
        "  return OL\n",
        "\n",
        "A = neural_network(X)\n",
        "print(A)\n",
        "print(A.shape)"
      ],
      "execution_count": 15,
      "outputs": [
        {
          "output_type": "stream",
          "text": [
            "[1.153]\n",
            "(1,)\n"
          ],
          "name": "stdout"
        }
      ]
    }
  ]
}