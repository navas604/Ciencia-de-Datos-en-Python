{
  "nbformat": 4,
  "nbformat_minor": 0,
  "metadata": {
    "colab": {
      "name": "Tarea No. 3 - Fuciones en Python.ipynb",
      "provenance": [],
      "authorship_tag": "ABX9TyMQ0lJbGaeQ41v6lfQwwntw",
      "include_colab_link": true
    },
    "kernelspec": {
      "name": "python3",
      "display_name": "Python 3"
    }
  },
  "cells": [
    {
      "cell_type": "markdown",
      "metadata": {
        "id": "view-in-github",
        "colab_type": "text"
      },
      "source": [
        "<a href=\"https://colab.research.google.com/github/navas604/Ciencia-de-Datos-en-Python/blob/main/Tarea_No_3_Fuciones_en_Python.ipynb\" target=\"_parent\"><img src=\"https://colab.research.google.com/assets/colab-badge.svg\" alt=\"Open In Colab\"/></a>"
      ]
    },
    {
      "cell_type": "markdown",
      "metadata": {
        "id": "5QvJ0xa7q8xJ"
      },
      "source": [
        "# TAREA No. 3\n",
        "# Funciones en Python"
      ]
    },
    {
      "cell_type": "code",
      "metadata": {
        "id": "SobtRciIq6N6"
      },
      "source": [
        ""
      ],
      "execution_count": null,
      "outputs": []
    },
    {
      "cell_type": "markdown",
      "metadata": {
        "id": "GWAAJ_ekrcKL"
      },
      "source": [
        "### Ciencia de Datos en Python\n",
        "### Antonio Everardo Navas Contreras, 14003163"
      ]
    },
    {
      "cell_type": "code",
      "metadata": {
        "id": "n8x6K67zrfSu"
      },
      "source": [
        ""
      ],
      "execution_count": null,
      "outputs": []
    },
    {
      "cell_type": "markdown",
      "metadata": {
        "id": "wT_CCnJurkf-"
      },
      "source": [
        ""
      ]
    },
    {
      "cell_type": "code",
      "metadata": {
        "id": "P3yY6DRkrkLe"
      },
      "source": [
        ""
      ],
      "execution_count": null,
      "outputs": []
    }
  ]
}